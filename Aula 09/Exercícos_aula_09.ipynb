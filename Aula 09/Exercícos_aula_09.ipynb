{
  "nbformat": 4,
  "nbformat_minor": 0,
  "metadata": {
    "colab": {
      "name": "Exercícos_aula 09.ipynb",
      "provenance": [],
      "authorship_tag": "ABX9TyNDa1dsTYXA8DZ2xNVgQyIu",
      "include_colab_link": true
    },
    "kernelspec": {
      "name": "python3",
      "display_name": "Python 3"
    },
    "language_info": {
      "name": "python"
    }
  },
  "cells": [
    {
      "cell_type": "markdown",
      "metadata": {
        "id": "view-in-github",
        "colab_type": "text"
      },
      "source": [
        "<a href=\"https://colab.research.google.com/github/Alixandrini/ENGJ22/blob/main/Aula%2009/Exerc%C3%ADcos_aula_09.ipynb\" target=\"_parent\"><img src=\"https://colab.research.google.com/assets/colab-badge.svg\" alt=\"Open In Colab\"/></a>"
      ]
    },
    {
      "cell_type": "markdown",
      "source": [
        "## Exercícos Propóstos\n",
        "### Exercício 01: Elipese dos erros \n",
        "As coordenadas de dosi vértices $\\ P_1$ e $\\ P_2 $ foram ajustadas resultando na seguinte MVC(decimetros):\n",
        "$$\n",
        "\\begin{bmatrix}\n",
        " \\sigma^2_{x1} &  \\sigma_{x1y1} &  \\sigma_{x1x2}  &  \\sigma_{x1y2} \\\\\n",
        "               &  \\sigma^2_{y1} &  \\sigma_{y1x2}  &  \\sigma_{y1y2} \\\\ \n",
        "               &                &  \\sigma^2_{x2}  & \\sigma_{x2y2}  \\\\ \n",
        "               &                &                 &  \\sigma^2_{y2} \n",
        "\\end{bmatrix} = \\begin{bmatrix}\n",
        " 4,10 &  -0,17 &  4,00  &  -2,20 \\\\\n",
        "      &  4,20  &  2,10  &  3,40 \\\\ \n",
        "      &        &  5,60  & 1,20  \\\\ \n",
        "      &        &        &  4,80 \\end{bmatrix} \n",
        "$$\n",
        "Aqui os elementos abaixo da diagonal principal dforamo omitidos por se tratar de uma matriz simétrica. Sabendo que a distantcia $\\overline{P_1P_2}\\cong $ 5 km\n",
        "e o aximute da direção $P_1P_2 \\cong$ 80$^{\\circ}$, Calcular e desennhar:\n",
        "\n",
        "1.   A elipse dos erros de $P_1$;\n",
        "2.   A elipse dos erros de $P_2$;\n",
        "3.   A elipse relativa.\n",
        "\n",
        "\n",
        "\n",
        "\n",
        "\n"
      ],
      "metadata": {
        "id": "nvSGCMCi-aA6"
      }
    },
    {
      "cell_type": "code",
      "source": [
        ""
      ],
      "metadata": {
        "id": "ODYGfCl6O4-d"
      },
      "execution_count": null,
      "outputs": []
    },
    {
      "cell_type": "markdown",
      "source": [
        "###Exercício 02: Ajustamento de uma triangulação\n",
        "Ajustar o valor das coordeandas de uma estação de posição desconhecida U. Foram observados os ângulos horizontais a partir de três estações conhecidas R(300,000;1500,000), S(800,000;700,000) e T (1000,000;100,000)conforme a figura a seguir. Os ângulos oservador são $\\alpha_1$=52$^{\\circ}$17'13\" , $\\alpha_2$=100$^{\\circ}$12'04\" , $\\alpha_3$=93$^{\\circ}$22'00\" e $\\alpha_4$=65$^{\\circ}$43'42\". Usar desvio padrão de 10\" para os ângulos observados.\n",
        "\n",
        "<img src=\"https://raw.githubusercontent.com/Alixandrini/ENGJ22/main/Aula%209/trilateracao.png\">"
      ],
      "metadata": {
        "id": "4mUHlArmF-47"
      }
    },
    {
      "cell_type": "code",
      "source": [
        ""
      ],
      "metadata": {
        "id": "lpwfCBh2JZFF"
      },
      "execution_count": 1,
      "outputs": []
    },
    {
      "cell_type": "markdown",
      "source": [
        "###Exercicio 03: Ajustamento de Triangulação\n",
        "Três pontos com as coordenadas conhecidas A(300;1500)m, B(800,700)m e C(1000,100)m foram observados a partir de um ponto U, obtendo distancia UA=2009,985m, UB=1615,550m e UC=1769,185m. Determinar as coordenadas ajustadas do ponto U sabendo que as distancias foram obtidas com a precição de 500+2ppm.\n"
      ],
      "metadata": {
        "id": "FiLYtldCF_Ix"
      }
    },
    {
      "cell_type": "code",
      "execution_count": 2,
      "metadata": {
        "id": "CBaGE56R-Y9M"
      },
      "outputs": [],
      "source": [
        ""
      ]
    }
  ]
}