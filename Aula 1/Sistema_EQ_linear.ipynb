{
  "cells": [
    {
      "cell_type": "markdown",
      "metadata": {
        "id": "OExRkKzD6wue"
      },
      "source": [
        "# O Pyhton\n",
        "sobre o python 3"
      ]
    },
    {
      "cell_type": "markdown",
      "metadata": {
        "id": "CluTPtuH6wuh"
      },
      "source": [
        "\n",
        "<div style=\"width:1000px\">\n",
        "    <figure >\n",
        "    <img class=\"top\" src=\"https://www.frameworktraining.co.uk/uploads/blog_images/2024-programming-language-trends/Stackoverflow-Developer-Survey-top-ten.jpg\" width=\"800\" height=\"600\"/>\n",
        "    <figcaption> Fig1. Tendências do Python </figcaption>\n",
        "</div>"
      ]
    },
    {
      "cell_type": "markdown",
      "metadata": {
        "id": "R2scKwv16wui"
      },
      "source": [
        "# Sistemas de Equações Lineares e MMQ"
      ]
    },
    {
      "cell_type": "markdown",
      "metadata": {
        "id": "k2c8LcA16wuj"
      },
      "source": [
        "## Resolução de Sistemas de Equações Lineares"
      ]
    },
    {
      "cell_type": "markdown",
      "metadata": {
        "id": "MUtVpB2z6wuk"
      },
      "source": [
        "No sistema de equações lineares onde A é um matriz de coeficientes, X é uma matriz de incognitas e L uma matriz de termos conhecidos o sistema homogeneo teria como solução (não única):\n",
        "\n",
        "\\begin{align}\n",
        "_n\\mathbf{A}_u & _u\\mathbf{X}_1 = _n\\mathbf{L}_1\n",
        "\\end{align}\n",
        "\n",
        "\\begin{align}\n",
        "\\mathbf{X}=\\mathbf{A}^g\\mathbf{L}+(\\mathbf{A}^g\\mathbf{A}-\\mathbf{I})\\mathbf{M}\n",
        "\\end{align}"
      ]
    },
    {
      "cell_type": "markdown",
      "metadata": {
        "id": "7QcQAVtS6wuk"
      },
      "source": [
        "Num Casos especial quando $\\mathbf{A}^T\\mathbf{A}(uxu)$ for de caracteristica integral, o sistema admite solução única que se obtém facilmente:\n",
        "\\begin{align}\n",
        "\\mathbf{A}^T\\mathbf{A} & \\mathbf{X} =\\mathbf{A}^T\\mathbf{L}\n",
        "\\end{align}\n",
        "\\begin{align}\n",
        "\\mathbf{X} =(\\mathbf{A}^T\\mathbf{A})^{-1}\\mathbf{A}^T\\mathbf{L}\n",
        "\\end{align}"
      ]
    },
    {
      "cell_type": "markdown",
      "metadata": {
        "id": "Uo2L_0cQ6wul"
      },
      "source": [
        "Exemplo 1 . Dado um sistemas de Equações lineares dado por :<br>\n",
        "$ 2x+3y+3z=4 $ <br>\n",
        "$ 3x+2y+5z=5 $ <br>\n",
        "$ 5x+4y+2z=8 $ <br>\n",
        "resolver utilizando a forma matricial do MMQ.<br>\n"
      ]
    },
    {
      "cell_type": "code",
      "execution_count": null,
      "metadata": {
        "ExecuteTime": {
          "end_time": "2021-03-08T23:45:08.978188Z",
          "start_time": "2021-03-08T23:45:08.948069Z"
        },
        "id": "oU2zdKs76wul",
        "outputId": "0dc4b6ff-50b0-4012-b74d-6a1490685706"
      },
      "outputs": [
        {
          "name": "stdout",
          "output_type": "stream",
          "text": [
            "x= [1.22580645]\n",
            "y= [0.41935484]\n",
            "z= [0.09677419]\n"
          ]
        }
      ],
      "source": [
        "import numpy as np\n",
        "A=np.array([[2,3,3],[3,2,5],[5,4,2]])\n",
        "L=np.array([[4],[5],[8]])\n",
        "ATA=np.linalg.inv(np.dot(A.T,A))\n",
        "ATL=np.dot(A.T,L)\n",
        "X=np.dot(ATA,ATL)\n",
        "print('x=',X[0])\n",
        "print('y=',X[1])\n",
        "print('z=',X[2])"
      ]
    },
    {
      "cell_type": "markdown",
      "metadata": {
        "ExecuteTime": {
          "end_time": "2021-03-08T21:27:03.298685Z",
          "start_time": "2021-03-08T21:27:03.283059Z"
        },
        "id": "dQwdPx_86wun"
      },
      "source": [
        "Exemplo 2. Ao sistema acima são adicionadas outras duas observações:<br>\n",
        "$ 4x+2y-1z=2 $ <br>\n",
        "$ 6y-5z=1 $ <br>\n",
        "  \n",
        "    "
      ]
    },
    {
      "cell_type": "code",
      "execution_count": null,
      "metadata": {
        "ExecuteTime": {
          "end_time": "2021-03-08T23:48:15.358105Z",
          "start_time": "2021-03-08T23:48:15.318059Z"
        },
        "id": "WcmTDKEF6wuo",
        "outputId": "ab1d4903-c1c4-4050-fbf5-4d25d4e620ac"
      },
      "outputs": [
        {
          "name": "stdout",
          "output_type": "stream",
          "text": [
            "x= [0.6029234]\n",
            "y= [0.6151495]\n",
            "z= [0.51245025]\n"
          ]
        }
      ],
      "source": [
        "import numpy as np\n",
        "A=np.array([[2,3,3],[3,2,5],[5,4,2],[4,2,-1],[0,6,-5]])\n",
        "L=np.array([[4],[5],[8],[2],[1]])\n",
        "ATA=np.linalg.inv(np.dot(A.T,A))\n",
        "ATL=np.dot(A.T,L)\n",
        "X=np.dot(ATA,ATL)\n",
        "print('x=',X[0])\n",
        "print('y=',X[1])\n",
        "print('z=',X[2])"
      ]
    },
    {
      "cell_type": "markdown",
      "metadata": {
        "id": "xkLtDP826wup"
      },
      "source": [
        "1) Porque os resultados do exemplo 1 e do exemplo 2 são diferente?<br>\n",
        "Resposta:"
      ]
    },
    {
      "cell_type": "markdown",
      "metadata": {
        "id": "CLdwZI0s6wup"
      },
      "source": [
        "## Exercícios\n",
        "Construir a resolução de mais três sistemas lineares com um número de parametrôs igual ou superior ao dado nos exemplos anteriores."
      ]
    },
    {
      "cell_type": "code",
      "execution_count": null,
      "metadata": {
        "id": "je1BOcDF6wuq"
      },
      "outputs": [],
      "source": []
    }
  ],
  "metadata": {
    "kernelspec": {
      "display_name": "Python 3 (ipykernel)",
      "language": "python",
      "name": "python3"
    },
    "language_info": {
      "codemirror_mode": {
        "name": "ipython",
        "version": 3
      },
      "file_extension": ".py",
      "mimetype": "text/x-python",
      "name": "python",
      "nbconvert_exporter": "python",
      "pygments_lexer": "ipython3",
      "version": "3.9.12"
    },
    "toc": {
      "base_numbering": 1,
      "nav_menu": {},
      "number_sections": true,
      "sideBar": true,
      "skip_h1_title": false,
      "title_cell": "Table of Contents",
      "title_sidebar": "Contents",
      "toc_cell": false,
      "toc_position": {},
      "toc_section_display": true,
      "toc_window_display": false
    },
    "colab": {
      "provenance": []
    }
  },
  "nbformat": 4,
  "nbformat_minor": 0
}