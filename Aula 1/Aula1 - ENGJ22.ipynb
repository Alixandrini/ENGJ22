{
 "cells": [
  {
   "cell_type": "markdown",
   "metadata": {
    "id": "2Mgc1QQNrle-"
   },
   "source": [
    "# Aula 1 - Introdução ao Jupyter notebook"
   ]
  },
  {
   "cell_type": "markdown",
   "metadata": {
    "id": "il3Uff40sxu5"
   },
   "source": [
    "Você está observando um arquivo jupyter notebook aberto no Google Colab. Uma pasta Colab Notebooks foi aberta dentro do seu espaço do Google Drive. Indo ao menu Arquivo dessa interface você pode salvar uma copia no seu drive. <br>```\"Arquivo/Salvar uma cópia no Drive\"```"
   ]
  },
  {
   "cell_type": "markdown",
   "metadata": {
    "id": "Vc4OfPLcsmJL"
   },
   "source": [
    "Clicando duas vezes nas celulas desse documento você pode edita-las livremente. Porém observe que existem celulas do tipo texto e celulas do tipo código."
   ]
  },
  {
   "cell_type": "markdown",
   "metadata": {
    "id": "pmeaPyI5smNT"
   },
   "source": [
    "Vamos começar respondendo os exercícios do slide da aula 1 e depois vendo alguns outros exercícios:"
   ]
  },
  {
   "cell_type": "markdown",
   "metadata": {
    "id": "Zzd2fnQOsmQv"
   },
   "source": [
    "\n",
    "## Exemplo 01 : Calcule a média das medições efetuadas, considerando que a PN do instumento é de ±5mm+4ppm\n",
    "------------\n",
    "Leitura | Distância | $(x-\\overline{x})$  | $( x -\\overline{x})^2 $ |\n",
    "--------|-----------|---------------------|-------------------------|\n",
    "1       | 827,434   |                     |               |  \n",
    "2       | 827,424   |                     |               |                  \n",
    "3       | 827,431   |                     |               |                  \n",
    "4       | 827,437   |                     |               |                  \n",
    "5       | 827,442   |                     |               |                  \n",
    "6       | 827,438   |                     |               |                  \n",
    "7       | 827,429   |                     |               |                  \n",
    "$\\Sigma$|           |                     |               |\n",
    "\n"
   ]
  },
  {
   "cell_type": "code",
   "execution_count": null,
   "metadata": {
    "id": "7IgErOv-1BT2"
   },
   "outputs": [],
   "source": [
    "# Utilizasse \"#\" hashtag para no inicio da linha para se realizar um comentário no código\n",
    "# vamos utilizar a biblioteca pandas para ter acesso a funções estatisticas\n",
    "import pandas as pd\n",
    "# agora vamos carregar nossas observações em uma variável vetor pyhton\n",
    "Distancias=[827.434,827.421,827.431,827.437,827.442,827.438,827.429]"
   ]
  },
  {
   "cell_type": "markdown",
   "metadata": {
    "id": "nIEaDvrxln72"
   },
   "source": [
    " > ✅***NOTA:***Pandas é uma biblioteca de software criada para a linguagem Python para manipulação e análise de dados. Em particular, oferece estruturas e operações para manipular tabelas numéricas e séries temporais. </br>\n",
    " ![logo pandas](https://upload.wikimedia.org/wikipedia/commons/thumb/e/ed/Pandas_logo.svg/300px-Pandas_logo.svg.png)"
   ]
  },
  {
   "cell_type": "code",
   "execution_count": null,
   "metadata": {
    "colab": {
     "base_uri": "https://localhost:8080/"
    },
    "id": "PNtQrdBK1obt",
    "outputId": "ea31cc86-1f11-4d3b-93b5-88163430739c"
   },
   "outputs": [
    {
     "name": "stdout",
     "output_type": "stream",
     "text": [
      "   Distancia(m)\n",
      "0       827.434\n",
      "1       827.421\n",
      "2       827.431\n",
      "3       827.437\n",
      "4       827.442\n",
      "5       827.438\n",
      "6       827.429\n"
     ]
    }
   ],
   "source": [
    "# a partir do vetor criar um dicionário \"dic\" onde temos apenas uma informação de distâncias\n",
    "dic={\"Distancia(m)\":Distancias}\n",
    "# com o dicionário podemos criar um dataframe pandas\n",
    "dados=pd.DataFrame(data=dic)\n",
    "print(dados)"
   ]
  },
  {
   "cell_type": "code",
   "execution_count": null,
   "metadata": {
    "colab": {
     "base_uri": "https://localhost:8080/"
    },
    "id": "FLF4ZXr4-GlJ",
    "outputId": "2829386d-2695-40a7-b302-badc89c90b43"
   },
   "outputs": [
    {
     "name": "stdout",
     "output_type": "stream",
     "text": [
      "count      7.000000\n",
      "mean     827.433143\n",
      "std        0.006914\n",
      "min      827.421000\n",
      "25%      827.430000\n",
      "50%      827.434000\n",
      "75%      827.437500\n",
      "max      827.442000\n",
      "Name: Distancia(m), dtype: float64\n",
      "M é igual a 0.00261 m\n",
      "O resultado é 827 ± 0.003 m\n"
     ]
    }
   ],
   "source": [
    "# Vamos colocar num vetor \"a\" os resultados da descrição estatistica do pandas\n",
    "# o primeiro valor [0] é o numero de variaveis o valor [1] a média e o valor [2] o sdt\n",
    "a=dados[\"Distancia(m)\"].describe()\n",
    "print(dados[\"Distancia(m)\"].describe())\n",
    "#podemos realizar o calculo de M fazendo a divisão da média pela raiz de 7\n",
    "M=a[2]/(a[0]**(1/2))\n",
    "print('M é igual a %.5f m' % (M))\n",
    "#como nesse caso M é menor que PN o resultado é\n",
    "print('O resultado é %d ± %.3f m' % (a[1],M))"
   ]
  },
  {
   "cell_type": "markdown",
   "metadata": {
    "id": "I8d7xlgRBVT4"
   },
   "source": [
    "## Exercício 01: Calcular o desvio padrão das observações\n",
    "------------\n",
    "Leitura | Distância       | $$(x-\\overline{x})$$  | $$(x-\\overline{x})^2$$ |\n",
    "--------|-----------------|---------------------|-------------------------|\n",
    "1       | 165$^∘$35'18\"   |      -3\"            |      9         |  \n",
    "2       | 165$^∘$35'22\"   |      +1\"            |      1         |        \n",
    "3       | 165$^∘$35'20\"   |            -1\"      |      1        |               \n",
    "4       | 165$^∘$35'26\"   |      +5\"            |      25    |                  \n",
    "5       |165$^∘$35'17\"    |      -4\"            |      16    |          \n",
    "$\\Sigma$| 47$^∘$56'46\"    |      -2\"            |      52     |       |                  \n"
   ]
  },
  {
   "cell_type": "code",
   "execution_count": null,
   "metadata": {
    "id": "-c6VMvxrprlo"
   },
   "outputs": [],
   "source": [
    "#tente resolver"
   ]
  },
  {
   "cell_type": "markdown",
   "metadata": {
    "ExecuteTime": {
     "end_time": "2021-03-02T14:18:18.561090Z",
     "start_time": "2021-03-02T14:18:18.529803Z"
    },
    "id": "nynaZtamrlfJ"
   },
   "source": [
    "##Exemplo 2 : Observe um exemplo simples de medida linear feita a passos ($\\textit{p}$), fita métrica($\\textit{t}$) e distanciometro eletrônico($\\textit{e}$)."
   ]
  },
  {
   "cell_type": "code",
   "execution_count": null,
   "metadata": {
    "ExecuteTime": {
     "end_time": "2021-03-03T23:49:12.943745Z",
     "start_time": "2021-03-03T23:49:01.073926Z"
    },
    "id": "EvfDiQKrrlfO"
   },
   "outputs": [],
   "source": [
    "import pandas as pd"
   ]
  },
  {
   "cell_type": "code",
   "execution_count": null,
   "metadata": {
    "ExecuteTime": {
     "end_time": "2021-03-04T00:03:46.318668Z",
     "start_time": "2021-03-04T00:03:46.283607Z"
    },
    "id": "hSDb2zCkrlfS",
    "outputId": "abd37284-8625-4be5-a2d0-4e25ba64e6cc"
   },
   "outputs": [
    {
     "data": {
      "text/html": [
       "<div>\n",
       "<style scoped>\n",
       "    .dataframe tbody tr th:only-of-type {\n",
       "        vertical-align: middle;\n",
       "    }\n",
       "\n",
       "    .dataframe tbody tr th {\n",
       "        vertical-align: top;\n",
       "    }\n",
       "\n",
       "    .dataframe thead th {\n",
       "        text-align: right;\n",
       "    }\n",
       "</style>\n",
       "<table border=\"1\" class=\"dataframe\">\n",
       "  <thead>\n",
       "    <tr style=\"text-align: right;\">\n",
       "      <th></th>\n",
       "      <th>passo(m)</th>\n",
       "      <th>trena(m)</th>\n",
       "      <th>EDM(m)</th>\n",
       "    </tr>\n",
       "  </thead>\n",
       "  <tbody>\n",
       "    <tr>\n",
       "      <th>0</th>\n",
       "      <td>568</td>\n",
       "      <td>567.17</td>\n",
       "      <td>567.133</td>\n",
       "    </tr>\n",
       "    <tr>\n",
       "      <th>1</th>\n",
       "      <td>565</td>\n",
       "      <td>567.08</td>\n",
       "      <td>567.124</td>\n",
       "    </tr>\n",
       "    <tr>\n",
       "      <th>2</th>\n",
       "      <td>566</td>\n",
       "      <td>567.12</td>\n",
       "      <td>567.129</td>\n",
       "    </tr>\n",
       "    <tr>\n",
       "      <th>3</th>\n",
       "      <td>568</td>\n",
       "      <td>567.38</td>\n",
       "      <td>567.165</td>\n",
       "    </tr>\n",
       "    <tr>\n",
       "      <th>4</th>\n",
       "      <td>569</td>\n",
       "      <td>567.01</td>\n",
       "      <td>567.114</td>\n",
       "    </tr>\n",
       "  </tbody>\n",
       "</table>\n",
       "</div>"
      ],
      "text/plain": [
       "   passo(m)  trena(m)   EDM(m)\n",
       "0       568    567.17  567.133\n",
       "1       565    567.08  567.124\n",
       "2       566    567.12  567.129\n",
       "3       568    567.38  567.165\n",
       "4       569    567.01  567.114"
      ]
     },
     "execution_count": 4,
     "metadata": {},
     "output_type": "execute_result"
    }
   ],
   "source": [
    "p=[568,565,566,568,569]\n",
    "t=[567.17,567.08,567.12,567.38,567.01]\n",
    "e=[567.133,567.124,567.129,567.165,567.114]\n",
    "dic = {\"passo(m)\":p, \"trena(m)\":t, \"EDM(m)\":e}\n",
    "dados = pd.DataFrame(data=dic)\n",
    "dados   #Visualiza o DataFrame"
   ]
  },
  {
   "cell_type": "code",
   "execution_count": null,
   "metadata": {
    "ExecuteTime": {
     "end_time": "2021-03-02T14:29:36.381278Z",
     "start_time": "2021-03-02T14:29:36.350114Z"
    },
    "id": "xGBTmIL8rlfV",
    "outputId": "99e06340-80e5-4115-99f7-4a76ef4e528f"
   },
   "outputs": [
    {
     "name": "stdout",
     "output_type": "stream",
     "text": [
      "Estatísticas descritivas dos dados:\n"
     ]
    },
    {
     "data": {
      "text/plain": [
       "count      5.000000\n",
       "mean     567.200000\n",
       "std        1.643168\n",
       "min      565.000000\n",
       "25%      566.000000\n",
       "50%      568.000000\n",
       "75%      568.000000\n",
       "max      569.000000\n",
       "Name: passo(m), dtype: float64"
      ]
     },
     "execution_count": 15,
     "metadata": {},
     "output_type": "execute_result"
    }
   ],
   "source": [
    "print(\"Estatísticas descritivas dos dados:\")\n",
    "dados['passo(m)'].describe()\n"
   ]
  },
  {
   "cell_type": "code",
   "execution_count": null,
   "metadata": {
    "ExecuteTime": {
     "end_time": "2021-03-02T14:29:40.680982Z",
     "start_time": "2021-03-02T14:29:40.649795Z"
    },
    "id": "2A0P1B7VrlfX",
    "outputId": "3366e853-57d8-43fd-c87b-6551ffa6c570"
   },
   "outputs": [
    {
     "data": {
      "text/plain": [
       "count      5.00000\n",
       "mean     567.15200\n",
       "std        0.14025\n",
       "min      567.01000\n",
       "25%      567.08000\n",
       "50%      567.12000\n",
       "75%      567.17000\n",
       "max      567.38000\n",
       "Name: trena(m), dtype: float64"
      ]
     },
     "execution_count": 16,
     "metadata": {},
     "output_type": "execute_result"
    }
   ],
   "source": [
    "dados['trena(m)'].describe()\n"
   ]
  },
  {
   "cell_type": "code",
   "execution_count": null,
   "metadata": {
    "ExecuteTime": {
     "end_time": "2021-03-02T14:29:49.358814Z",
     "start_time": "2021-03-02T14:29:49.327657Z"
    },
    "id": "EZX4_Jj4rlfX",
    "outputId": "7597a642-65d9-47ae-a1db-6d2b0725e4ef"
   },
   "outputs": [
    {
     "data": {
      "text/plain": [
       "count      5.000000\n",
       "mean     567.133000\n",
       "std        0.019248\n",
       "min      567.114000\n",
       "25%      567.124000\n",
       "50%      567.129000\n",
       "75%      567.133000\n",
       "max      567.165000\n",
       "Name: EDM(m), dtype: float64"
      ]
     },
     "execution_count": 17,
     "metadata": {},
     "output_type": "execute_result"
    }
   ],
   "source": [
    "dados['EDM(m)'].describe()"
   ]
  },
  {
   "cell_type": "markdown",
   "metadata": {
    "id": "bX1RGGytsSz7"
   },
   "source": [
    "##Exercício 2 : Responda\n",
    "O que podemos perceber nas medidas descritivas desses métodos de medida linear? <br>\n",
    "Responda:"
   ]
  },
  {
   "cell_type": "markdown",
   "metadata": {
    "id": "rmPKgGfJrlfY"
   },
   "source": [
    "## Exemplo 3: Observação de nível\n",
    "Agora imagine que recebemos medidas de uma sonda de nível de água colocada em um lago que realizou ao longo de um dia 60 medidas. E gostariamos de avaliar o nivel desse lago sabendo que a sonda é influenciada por ventos mais fortes no final do dia. Como é possível sustentar essa afirmativa com base nas medidas apresentadas abaixo:"
   ]
  },
  {
   "cell_type": "code",
   "execution_count": 2,
   "metadata": {
    "id": "q8yOTlPzrlfZ"
   },
   "outputs": [],
   "source": [
    "import csv\n",
    "import pandas as pd\n",
    "import matplotlib.pyplot"
   ]
  },
  {
   "cell_type": "markdown",
   "metadata": {
    "id": "3TGpl9_UqyV2"
   },
   "source": [
    " > ✅***NOTA:***\n",
    " Matplotlib é uma biblioteca de software para criação de gráficos e visualizações de dados em geral, feita para e da linguagem de programação Python e sua extensão de matemática NumPy.</br>![logo matplotlib](https://matplotlib.org/stable/_images/sphx_glr_logos2_003.png) \n",
    " </br></br>\n",
    "> ✅***NOTA:*** A bibliotéca CSV é uma bibliotéca que realiza leitura e escrita de arquivos tabulares no formato csv.</br>![logo csv](https://media.dev.to/cdn-cgi/image/width=500,height=210,fit=cover,gravity=auto,format=auto/https%3A%2F%2Fdev-to-uploads.s3.amazonaws.com%2Fi%2F6mhmqv6vdqxczv4ds6rg.png)</br>\n",
    "\n"
   ]
  },
  {
   "cell_type": "code",
   "execution_count": null,
   "metadata": {
    "ExecuteTime": {
     "end_time": "2021-03-04T00:12:49.763302Z",
     "start_time": "2021-03-04T00:12:49.713384Z"
    },
    "id": "_BJYymtxrlfa"
   },
   "outputs": [],
   "source": [
    "nivel=[]\n",
    "horario=[]\n",
    "with open('C:/Users/alixa/Documents/ENGJ22 - Ajustamento de Observações Geodésicas B/CO-OPS_9416841_wl.csv') as csvDataFile:\n",
    "    csvReader = csv.reader(csvDataFile)\n",
    "    headers = next(csvReader)\n",
    "    for row in csvReader:\n",
    "        horario.append((row[1]))\n",
    "        nivel.append((row[2]))"
   ]
  },
  {
   "cell_type": "code",
   "execution_count": 3,
   "metadata": {
    "ExecuteTime": {
     "end_time": "2021-03-04T00:20:25.803340Z",
     "start_time": "2021-03-04T00:20:25.773414Z"
    },
    "id": "qoBA0FCErlfb"
   },
   "outputs": [
    {
     "ename": "FileNotFoundError",
     "evalue": "[Errno 2] No such file or directory: 'CO-OPS_9416841_wl.csv'",
     "output_type": "error",
     "traceback": [
      "\u001b[1;31m---------------------------------------------------------------------------\u001b[0m",
      "\u001b[1;31mFileNotFoundError\u001b[0m                         Traceback (most recent call last)",
      "Input \u001b[1;32mIn [3]\u001b[0m, in \u001b[0;36m<cell line: 1>\u001b[1;34m()\u001b[0m\n\u001b[1;32m----> 1\u001b[0m dados\u001b[38;5;241m=\u001b[39m\u001b[43mpd\u001b[49m\u001b[38;5;241;43m.\u001b[39;49m\u001b[43mread_csv\u001b[49m\u001b[43m(\u001b[49m\u001b[38;5;124;43m'\u001b[39;49m\u001b[38;5;124;43mCO-OPS_9416841_wl.csv\u001b[39;49m\u001b[38;5;124;43m'\u001b[39;49m\u001b[43m)\u001b[49m\n",
      "File \u001b[1;32mC:\\ProgramData\\Anaconda3\\lib\\site-packages\\pandas\\util\\_decorators.py:311\u001b[0m, in \u001b[0;36mdeprecate_nonkeyword_arguments.<locals>.decorate.<locals>.wrapper\u001b[1;34m(*args, **kwargs)\u001b[0m\n\u001b[0;32m    305\u001b[0m \u001b[38;5;28;01mif\u001b[39;00m \u001b[38;5;28mlen\u001b[39m(args) \u001b[38;5;241m>\u001b[39m num_allow_args:\n\u001b[0;32m    306\u001b[0m     warnings\u001b[38;5;241m.\u001b[39mwarn(\n\u001b[0;32m    307\u001b[0m         msg\u001b[38;5;241m.\u001b[39mformat(arguments\u001b[38;5;241m=\u001b[39marguments),\n\u001b[0;32m    308\u001b[0m         \u001b[38;5;167;01mFutureWarning\u001b[39;00m,\n\u001b[0;32m    309\u001b[0m         stacklevel\u001b[38;5;241m=\u001b[39mstacklevel,\n\u001b[0;32m    310\u001b[0m     )\n\u001b[1;32m--> 311\u001b[0m \u001b[38;5;28;01mreturn\u001b[39;00m func(\u001b[38;5;241m*\u001b[39margs, \u001b[38;5;241m*\u001b[39m\u001b[38;5;241m*\u001b[39mkwargs)\n",
      "File \u001b[1;32mC:\\ProgramData\\Anaconda3\\lib\\site-packages\\pandas\\io\\parsers\\readers.py:680\u001b[0m, in \u001b[0;36mread_csv\u001b[1;34m(filepath_or_buffer, sep, delimiter, header, names, index_col, usecols, squeeze, prefix, mangle_dupe_cols, dtype, engine, converters, true_values, false_values, skipinitialspace, skiprows, skipfooter, nrows, na_values, keep_default_na, na_filter, verbose, skip_blank_lines, parse_dates, infer_datetime_format, keep_date_col, date_parser, dayfirst, cache_dates, iterator, chunksize, compression, thousands, decimal, lineterminator, quotechar, quoting, doublequote, escapechar, comment, encoding, encoding_errors, dialect, error_bad_lines, warn_bad_lines, on_bad_lines, delim_whitespace, low_memory, memory_map, float_precision, storage_options)\u001b[0m\n\u001b[0;32m    665\u001b[0m kwds_defaults \u001b[38;5;241m=\u001b[39m _refine_defaults_read(\n\u001b[0;32m    666\u001b[0m     dialect,\n\u001b[0;32m    667\u001b[0m     delimiter,\n\u001b[1;32m   (...)\u001b[0m\n\u001b[0;32m    676\u001b[0m     defaults\u001b[38;5;241m=\u001b[39m{\u001b[38;5;124m\"\u001b[39m\u001b[38;5;124mdelimiter\u001b[39m\u001b[38;5;124m\"\u001b[39m: \u001b[38;5;124m\"\u001b[39m\u001b[38;5;124m,\u001b[39m\u001b[38;5;124m\"\u001b[39m},\n\u001b[0;32m    677\u001b[0m )\n\u001b[0;32m    678\u001b[0m kwds\u001b[38;5;241m.\u001b[39mupdate(kwds_defaults)\n\u001b[1;32m--> 680\u001b[0m \u001b[38;5;28;01mreturn\u001b[39;00m \u001b[43m_read\u001b[49m\u001b[43m(\u001b[49m\u001b[43mfilepath_or_buffer\u001b[49m\u001b[43m,\u001b[49m\u001b[43m \u001b[49m\u001b[43mkwds\u001b[49m\u001b[43m)\u001b[49m\n",
      "File \u001b[1;32mC:\\ProgramData\\Anaconda3\\lib\\site-packages\\pandas\\io\\parsers\\readers.py:575\u001b[0m, in \u001b[0;36m_read\u001b[1;34m(filepath_or_buffer, kwds)\u001b[0m\n\u001b[0;32m    572\u001b[0m _validate_names(kwds\u001b[38;5;241m.\u001b[39mget(\u001b[38;5;124m\"\u001b[39m\u001b[38;5;124mnames\u001b[39m\u001b[38;5;124m\"\u001b[39m, \u001b[38;5;28;01mNone\u001b[39;00m))\n\u001b[0;32m    574\u001b[0m \u001b[38;5;66;03m# Create the parser.\u001b[39;00m\n\u001b[1;32m--> 575\u001b[0m parser \u001b[38;5;241m=\u001b[39m TextFileReader(filepath_or_buffer, \u001b[38;5;241m*\u001b[39m\u001b[38;5;241m*\u001b[39mkwds)\n\u001b[0;32m    577\u001b[0m \u001b[38;5;28;01mif\u001b[39;00m chunksize \u001b[38;5;129;01mor\u001b[39;00m iterator:\n\u001b[0;32m    578\u001b[0m     \u001b[38;5;28;01mreturn\u001b[39;00m parser\n",
      "File \u001b[1;32mC:\\ProgramData\\Anaconda3\\lib\\site-packages\\pandas\\io\\parsers\\readers.py:933\u001b[0m, in \u001b[0;36mTextFileReader.__init__\u001b[1;34m(self, f, engine, **kwds)\u001b[0m\n\u001b[0;32m    930\u001b[0m     \u001b[38;5;28mself\u001b[39m\u001b[38;5;241m.\u001b[39moptions[\u001b[38;5;124m\"\u001b[39m\u001b[38;5;124mhas_index_names\u001b[39m\u001b[38;5;124m\"\u001b[39m] \u001b[38;5;241m=\u001b[39m kwds[\u001b[38;5;124m\"\u001b[39m\u001b[38;5;124mhas_index_names\u001b[39m\u001b[38;5;124m\"\u001b[39m]\n\u001b[0;32m    932\u001b[0m \u001b[38;5;28mself\u001b[39m\u001b[38;5;241m.\u001b[39mhandles: IOHandles \u001b[38;5;241m|\u001b[39m \u001b[38;5;28;01mNone\u001b[39;00m \u001b[38;5;241m=\u001b[39m \u001b[38;5;28;01mNone\u001b[39;00m\n\u001b[1;32m--> 933\u001b[0m \u001b[38;5;28mself\u001b[39m\u001b[38;5;241m.\u001b[39m_engine \u001b[38;5;241m=\u001b[39m \u001b[38;5;28;43mself\u001b[39;49m\u001b[38;5;241;43m.\u001b[39;49m\u001b[43m_make_engine\u001b[49m\u001b[43m(\u001b[49m\u001b[43mf\u001b[49m\u001b[43m,\u001b[49m\u001b[43m \u001b[49m\u001b[38;5;28;43mself\u001b[39;49m\u001b[38;5;241;43m.\u001b[39;49m\u001b[43mengine\u001b[49m\u001b[43m)\u001b[49m\n",
      "File \u001b[1;32mC:\\ProgramData\\Anaconda3\\lib\\site-packages\\pandas\\io\\parsers\\readers.py:1217\u001b[0m, in \u001b[0;36mTextFileReader._make_engine\u001b[1;34m(self, f, engine)\u001b[0m\n\u001b[0;32m   1213\u001b[0m     mode \u001b[38;5;241m=\u001b[39m \u001b[38;5;124m\"\u001b[39m\u001b[38;5;124mrb\u001b[39m\u001b[38;5;124m\"\u001b[39m\n\u001b[0;32m   1214\u001b[0m \u001b[38;5;66;03m# error: No overload variant of \"get_handle\" matches argument types\u001b[39;00m\n\u001b[0;32m   1215\u001b[0m \u001b[38;5;66;03m# \"Union[str, PathLike[str], ReadCsvBuffer[bytes], ReadCsvBuffer[str]]\"\u001b[39;00m\n\u001b[0;32m   1216\u001b[0m \u001b[38;5;66;03m# , \"str\", \"bool\", \"Any\", \"Any\", \"Any\", \"Any\", \"Any\"\u001b[39;00m\n\u001b[1;32m-> 1217\u001b[0m \u001b[38;5;28mself\u001b[39m\u001b[38;5;241m.\u001b[39mhandles \u001b[38;5;241m=\u001b[39m \u001b[43mget_handle\u001b[49m\u001b[43m(\u001b[49m\u001b[43m  \u001b[49m\u001b[38;5;66;43;03m# type: ignore[call-overload]\u001b[39;49;00m\n\u001b[0;32m   1218\u001b[0m \u001b[43m    \u001b[49m\u001b[43mf\u001b[49m\u001b[43m,\u001b[49m\n\u001b[0;32m   1219\u001b[0m \u001b[43m    \u001b[49m\u001b[43mmode\u001b[49m\u001b[43m,\u001b[49m\n\u001b[0;32m   1220\u001b[0m \u001b[43m    \u001b[49m\u001b[43mencoding\u001b[49m\u001b[38;5;241;43m=\u001b[39;49m\u001b[38;5;28;43mself\u001b[39;49m\u001b[38;5;241;43m.\u001b[39;49m\u001b[43moptions\u001b[49m\u001b[38;5;241;43m.\u001b[39;49m\u001b[43mget\u001b[49m\u001b[43m(\u001b[49m\u001b[38;5;124;43m\"\u001b[39;49m\u001b[38;5;124;43mencoding\u001b[39;49m\u001b[38;5;124;43m\"\u001b[39;49m\u001b[43m,\u001b[49m\u001b[43m \u001b[49m\u001b[38;5;28;43;01mNone\u001b[39;49;00m\u001b[43m)\u001b[49m\u001b[43m,\u001b[49m\n\u001b[0;32m   1221\u001b[0m \u001b[43m    \u001b[49m\u001b[43mcompression\u001b[49m\u001b[38;5;241;43m=\u001b[39;49m\u001b[38;5;28;43mself\u001b[39;49m\u001b[38;5;241;43m.\u001b[39;49m\u001b[43moptions\u001b[49m\u001b[38;5;241;43m.\u001b[39;49m\u001b[43mget\u001b[49m\u001b[43m(\u001b[49m\u001b[38;5;124;43m\"\u001b[39;49m\u001b[38;5;124;43mcompression\u001b[39;49m\u001b[38;5;124;43m\"\u001b[39;49m\u001b[43m,\u001b[49m\u001b[43m \u001b[49m\u001b[38;5;28;43;01mNone\u001b[39;49;00m\u001b[43m)\u001b[49m\u001b[43m,\u001b[49m\n\u001b[0;32m   1222\u001b[0m \u001b[43m    \u001b[49m\u001b[43mmemory_map\u001b[49m\u001b[38;5;241;43m=\u001b[39;49m\u001b[38;5;28;43mself\u001b[39;49m\u001b[38;5;241;43m.\u001b[39;49m\u001b[43moptions\u001b[49m\u001b[38;5;241;43m.\u001b[39;49m\u001b[43mget\u001b[49m\u001b[43m(\u001b[49m\u001b[38;5;124;43m\"\u001b[39;49m\u001b[38;5;124;43mmemory_map\u001b[39;49m\u001b[38;5;124;43m\"\u001b[39;49m\u001b[43m,\u001b[49m\u001b[43m \u001b[49m\u001b[38;5;28;43;01mFalse\u001b[39;49;00m\u001b[43m)\u001b[49m\u001b[43m,\u001b[49m\n\u001b[0;32m   1223\u001b[0m \u001b[43m    \u001b[49m\u001b[43mis_text\u001b[49m\u001b[38;5;241;43m=\u001b[39;49m\u001b[43mis_text\u001b[49m\u001b[43m,\u001b[49m\n\u001b[0;32m   1224\u001b[0m \u001b[43m    \u001b[49m\u001b[43merrors\u001b[49m\u001b[38;5;241;43m=\u001b[39;49m\u001b[38;5;28;43mself\u001b[39;49m\u001b[38;5;241;43m.\u001b[39;49m\u001b[43moptions\u001b[49m\u001b[38;5;241;43m.\u001b[39;49m\u001b[43mget\u001b[49m\u001b[43m(\u001b[49m\u001b[38;5;124;43m\"\u001b[39;49m\u001b[38;5;124;43mencoding_errors\u001b[39;49m\u001b[38;5;124;43m\"\u001b[39;49m\u001b[43m,\u001b[49m\u001b[43m \u001b[49m\u001b[38;5;124;43m\"\u001b[39;49m\u001b[38;5;124;43mstrict\u001b[39;49m\u001b[38;5;124;43m\"\u001b[39;49m\u001b[43m)\u001b[49m\u001b[43m,\u001b[49m\n\u001b[0;32m   1225\u001b[0m \u001b[43m    \u001b[49m\u001b[43mstorage_options\u001b[49m\u001b[38;5;241;43m=\u001b[39;49m\u001b[38;5;28;43mself\u001b[39;49m\u001b[38;5;241;43m.\u001b[39;49m\u001b[43moptions\u001b[49m\u001b[38;5;241;43m.\u001b[39;49m\u001b[43mget\u001b[49m\u001b[43m(\u001b[49m\u001b[38;5;124;43m\"\u001b[39;49m\u001b[38;5;124;43mstorage_options\u001b[39;49m\u001b[38;5;124;43m\"\u001b[39;49m\u001b[43m,\u001b[49m\u001b[43m \u001b[49m\u001b[38;5;28;43;01mNone\u001b[39;49;00m\u001b[43m)\u001b[49m\u001b[43m,\u001b[49m\n\u001b[0;32m   1226\u001b[0m \u001b[43m\u001b[49m\u001b[43m)\u001b[49m\n\u001b[0;32m   1227\u001b[0m \u001b[38;5;28;01massert\u001b[39;00m \u001b[38;5;28mself\u001b[39m\u001b[38;5;241m.\u001b[39mhandles \u001b[38;5;129;01mis\u001b[39;00m \u001b[38;5;129;01mnot\u001b[39;00m \u001b[38;5;28;01mNone\u001b[39;00m\n\u001b[0;32m   1228\u001b[0m f \u001b[38;5;241m=\u001b[39m \u001b[38;5;28mself\u001b[39m\u001b[38;5;241m.\u001b[39mhandles\u001b[38;5;241m.\u001b[39mhandle\n",
      "File \u001b[1;32mC:\\ProgramData\\Anaconda3\\lib\\site-packages\\pandas\\io\\common.py:789\u001b[0m, in \u001b[0;36mget_handle\u001b[1;34m(path_or_buf, mode, encoding, compression, memory_map, is_text, errors, storage_options)\u001b[0m\n\u001b[0;32m    784\u001b[0m \u001b[38;5;28;01melif\u001b[39;00m \u001b[38;5;28misinstance\u001b[39m(handle, \u001b[38;5;28mstr\u001b[39m):\n\u001b[0;32m    785\u001b[0m     \u001b[38;5;66;03m# Check whether the filename is to be opened in binary mode.\u001b[39;00m\n\u001b[0;32m    786\u001b[0m     \u001b[38;5;66;03m# Binary mode does not support 'encoding' and 'newline'.\u001b[39;00m\n\u001b[0;32m    787\u001b[0m     \u001b[38;5;28;01mif\u001b[39;00m ioargs\u001b[38;5;241m.\u001b[39mencoding \u001b[38;5;129;01mand\u001b[39;00m \u001b[38;5;124m\"\u001b[39m\u001b[38;5;124mb\u001b[39m\u001b[38;5;124m\"\u001b[39m \u001b[38;5;129;01mnot\u001b[39;00m \u001b[38;5;129;01min\u001b[39;00m ioargs\u001b[38;5;241m.\u001b[39mmode:\n\u001b[0;32m    788\u001b[0m         \u001b[38;5;66;03m# Encoding\u001b[39;00m\n\u001b[1;32m--> 789\u001b[0m         handle \u001b[38;5;241m=\u001b[39m \u001b[38;5;28;43mopen\u001b[39;49m\u001b[43m(\u001b[49m\n\u001b[0;32m    790\u001b[0m \u001b[43m            \u001b[49m\u001b[43mhandle\u001b[49m\u001b[43m,\u001b[49m\n\u001b[0;32m    791\u001b[0m \u001b[43m            \u001b[49m\u001b[43mioargs\u001b[49m\u001b[38;5;241;43m.\u001b[39;49m\u001b[43mmode\u001b[49m\u001b[43m,\u001b[49m\n\u001b[0;32m    792\u001b[0m \u001b[43m            \u001b[49m\u001b[43mencoding\u001b[49m\u001b[38;5;241;43m=\u001b[39;49m\u001b[43mioargs\u001b[49m\u001b[38;5;241;43m.\u001b[39;49m\u001b[43mencoding\u001b[49m\u001b[43m,\u001b[49m\n\u001b[0;32m    793\u001b[0m \u001b[43m            \u001b[49m\u001b[43merrors\u001b[49m\u001b[38;5;241;43m=\u001b[39;49m\u001b[43merrors\u001b[49m\u001b[43m,\u001b[49m\n\u001b[0;32m    794\u001b[0m \u001b[43m            \u001b[49m\u001b[43mnewline\u001b[49m\u001b[38;5;241;43m=\u001b[39;49m\u001b[38;5;124;43m\"\u001b[39;49m\u001b[38;5;124;43m\"\u001b[39;49m\u001b[43m,\u001b[49m\n\u001b[0;32m    795\u001b[0m \u001b[43m        \u001b[49m\u001b[43m)\u001b[49m\n\u001b[0;32m    796\u001b[0m     \u001b[38;5;28;01melse\u001b[39;00m:\n\u001b[0;32m    797\u001b[0m         \u001b[38;5;66;03m# Binary mode\u001b[39;00m\n\u001b[0;32m    798\u001b[0m         handle \u001b[38;5;241m=\u001b[39m \u001b[38;5;28mopen\u001b[39m(handle, ioargs\u001b[38;5;241m.\u001b[39mmode)\n",
      "\u001b[1;31mFileNotFoundError\u001b[0m: [Errno 2] No such file or directory: 'CO-OPS_9416841_wl.csv'"
     ]
    }
   ],
   "source": [
    "dados=pd.read_csv('CO-OPS_9416841_wl.csv')"
   ]
  },
  {
   "cell_type": "code",
   "execution_count": null,
   "metadata": {
    "ExecuteTime": {
     "end_time": "2021-03-04T00:20:30.263120Z",
     "start_time": "2021-03-04T00:20:30.243217Z"
    },
    "id": "khrtKgyKrlfb"
   },
   "outputs": [],
   "source": [
    "tempo=dados.iloc[0:500,1]\n",
    "nivel=dados.iloc[0:500,2]\n"
   ]
  },
  {
   "cell_type": "code",
   "execution_count": null,
   "metadata": {
    "ExecuteTime": {
     "end_time": "2021-03-04T00:20:31.143282Z",
     "start_time": "2021-03-04T00:20:30.943095Z"
    },
    "id": "o3Fa-c7Qrlfc",
    "outputId": "821cc490-0192-4f57-cd2b-916c3e57e373"
   },
   "outputs": [
    {
     "data": {
      "image/png": "[encoded data removed]",
      "text/plain": [
       "<Figure size 432x288 with 1 Axes>"
      ]
     },
     "metadata": {
      "needs_background": "light"
     },
     "output_type": "display_data"
    }
   ],
   "source": [
    "# Assim se faz um comentário em Pyhton\n",
    "matplotlib.pyplot.plot( nivel)\n",
    "matplotlib.pyplot.show()"
   ]
  },
  {
   "cell_type": "markdown",
   "metadata": {
    "id": "335GyXSCrlfd"
   },
   "source": [
    "##Questionário:\n",
    "\n",
    "1) Quais são os tipos de erros e as magnitudes desses erros envolvidos em cada uma das medidas? <br><br>\n",
    "Resposta: os erros são :\n",
    "<br>\n",
    "* primeiro erro\n",
    "* segundo erro\n",
    "<br>\n",
    "\n",
    "2) Em que parametro da estátistica das medidas de distancia do exemplo anterior podemos observar a influencia dos erros listados na resposta da pergunta anterior?<br><br>\n",
    "3) Liste dois exemplos de medidas geodésicas onde lançamos mão da redundancia de observações para o controle de erros?<br><br>\n",
    "4) Liste métodos diretos e indiretos de medida dentro da Eng. de Agrimensura e Cartográfica.<br><br>"
   ]
  },
  {
   "cell_type": "code",
   "execution_count": null,
   "metadata": {
    "id": "LPkkl-rYrlfd"
   },
   "outputs": [],
   "source": []
  }
 ],
 "metadata": {
  "colab": {
   "provenance": []
  },
  "kernelspec": {
   "display_name": "Python 3 (ipykernel)",
   "language": "python",
   "name": "python3"
  },
  "language_info": {
   "codemirror_mode": {
    "name": "ipython",
    "version": 3
   },
   "file_extension": ".py",
   "mimetype": "text/x-python",
   "name": "python",
   "nbconvert_exporter": "python",
   "pygments_lexer": "ipython3",
   "version": "3.9.12"
  },
  "toc": {
   "base_numbering": 1,
   "nav_menu": {},
   "number_sections": true,
   "sideBar": true,
   "skip_h1_title": false,
   "title_cell": "Table of Contents",
   "title_sidebar": "Contents",
   "toc_cell": false,
   "toc_position": {},
   "toc_section_display": true,
   "toc_window_display": false
  }
 },
 "nbformat": 4,
 "nbformat_minor": 1
}
