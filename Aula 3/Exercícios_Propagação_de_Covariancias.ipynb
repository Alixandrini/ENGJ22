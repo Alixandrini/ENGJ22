{
 "cells": [
  {
   "attachments": {},
   "cell_type": "markdown",
   "id": "22d0ffa8",
   "metadata": {},
   "source": [
    "# Exercícios \n",
    "1. Resolva os seguintes sistemas de equações:<br>\n",
    "A) \n",
    "![sistema1](https://s4.static.brasilescola.uol.com.br/be/2020/08/2-12-exemplo-cramer.jpg)\n",
    "[fonte1](https://brasilescola.uol.com.br/matematica/sistemas-lineares.htm)<br>\n",
    "B)\n",
    "![sistema2](https://s3.static.brasilescola.uol.com.br/be/2020/08/2-18-escalonamento1.jpg)\n",
    "[fonte2](https://brasilescola.uol.com.br/matematica/sistemas-lineares.htm)<br>\n",
    "C)\n",
    "![sistema 3](https://s2.static.brasilescola.uol.com.br/be/2021/10/calculo-valor-d-sistema-linear-3x3-2.jpg)\n",
    "[fonte3](https://brasilescola.uol.com.br/matematica/regra-cramer.htm)"
   ]
  },
  {
   "cell_type": "code",
   "execution_count": 2,
   "id": "0cb70cd3",
   "metadata": {},
   "outputs": [],
   "source": [
    "import numpy as np\n",
    "A=np.matrix([[a1,a2,a3],\n",
    "             [a4,a5,a6],\n",
    "             [a7,a8,a9]])\n",
    "L=np.matrix([[l1],\n",
    "             [l2],\n",
    "             [l3]])"
   ]
  },
  {
   "cell_type": "code",
   "execution_count": 4,
   "id": "7099a12b",
   "metadata": {},
   "outputs": [
    {
     "data": {
      "text/plain": [
       "matrix([[5.],\n",
       "        [3.],\n",
       "        [1.]])"
      ]
     },
     "execution_count": 4,
     "metadata": {},
     "output_type": "execute_result"
    }
   ],
   "source": [
    "X=np.linalg.inv(A.T*A)*A.T*L\n",
    "print(X)"
   ]
  },
  {
   "cell_type": "markdown",
   "id": "949df126",
   "metadata": {},
   "source": [
    "2. Assuma agora que $\\Sigma_{Lb}$ seja igual a matriz: <br>\n",
    "$$ \\begin{bmatrix}\n",
    "    1.1     & 0.25 & 0.5  \\\\\n",
    "    0.25    & 2.1  & 2.6  \\\\\n",
    "    0.5     & 2.6  & 2.0\n",
    "\\end{bmatrix} $$\n",
    "e calcule a $\\Sigma_{X}$ usando a propagação de covariância."
   ]
  },
  {
   "cell_type": "code",
   "execution_count": null,
   "id": "5fdb290b",
   "metadata": {},
   "outputs": [],
   "source": [
    "D=np.matrix([[a1,a2,a3],\n",
    "             [a4,a5,a6],\n",
    "             [a7,a8,a9]])\n",
    "Sigma_lb=np.matrix([[s1,s2,s3],\n",
    "                    [s4,s5,s6],\n",
    "                    [s7,s8,s9]])\n",
    "Sigma_x=D*Sigma_lb*D.T"
   ]
  }
 ],
 "metadata": {
  "kernelspec": {
   "display_name": "Python 3 (ipykernel)",
   "language": "python",
   "name": "python3"
  },
  "language_info": {
   "codemirror_mode": {
    "name": "ipython",
    "version": 3
   },
   "file_extension": ".py",
   "mimetype": "text/x-python",
   "name": "python",
   "nbconvert_exporter": "python",
   "pygments_lexer": "ipython3",
   "version": "3.9.12"
  }
 },
 "nbformat": 4,
 "nbformat_minor": 5
}
