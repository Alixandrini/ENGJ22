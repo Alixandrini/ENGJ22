{
 "cells": [
  {
   "cell_type": "markdown",
   "metadata": {},
   "source": [
    "# Operações com matrizes e vetores\n",
    "\n",
    "Representamos matrizes e vetores através do objeto array. Podemos pensar em arrays unidimensionais como listas de números e arrays bidimensionais como matrizes. \n",
    "\n",
    "## Operações aritméticas de matrizes e vetores\n",
    "\n",
    "As operações de adição (+), subtração (-), divisão (/), multiplicação (*) e exponenciação (**) podem ser realizadas entre arrays e escalares:"
   ]
  },
  {
   "cell_type": "code",
   "execution_count": 7,
   "metadata": {
    "ExecuteTime": {
     "end_time": "2021-03-15T17:03:22.439867Z",
     "start_time": "2021-03-15T17:03:22.424273Z"
    }
   },
   "outputs": [
    {
     "data": {
      "text/plain": [
       "array([[1, 2],\n",
       "       [3, 4]])"
      ]
     },
     "execution_count": 7,
     "metadata": {},
     "output_type": "execute_result"
    }
   ],
   "source": [
    "import numpy as np\n",
    "\n",
    "A=np.array([[1,2],[3,4]])\n",
    "A"
   ]
  },
  {
   "cell_type": "code",
   "execution_count": 8,
   "metadata": {
    "ExecuteTime": {
     "end_time": "2021-03-15T17:03:23.527964Z",
     "start_time": "2021-03-15T17:03:23.496714Z"
    }
   },
   "outputs": [
    {
     "data": {
      "text/plain": [
       "array([[2, 4],\n",
       "       [6, 8]])"
      ]
     },
     "execution_count": 8,
     "metadata": {},
     "output_type": "execute_result"
    }
   ],
   "source": [
    "A*2"
   ]
  },
  {
   "cell_type": "markdown",
   "metadata": {},
   "source": [
    "Quando realizadas entre arrays, essas operações são realizadas elemento a elemento:"
   ]
  },
  {
   "cell_type": "code",
   "execution_count": 9,
   "metadata": {
    "ExecuteTime": {
     "end_time": "2021-03-15T17:04:19.130431Z",
     "start_time": "2021-03-15T17:04:19.114848Z"
    }
   },
   "outputs": [
    {
     "data": {
      "text/plain": [
       "array([[ 1,  4],\n",
       "       [ 9, 16]])"
      ]
     },
     "execution_count": 9,
     "metadata": {},
     "output_type": "execute_result"
    }
   ],
   "source": [
    "A*A"
   ]
  },
  {
   "cell_type": "markdown",
   "metadata": {},
   "source": [
    "Podemos também manipular arrays unidimensionais como esperado para vetores, ou seja, em termos de soma de vetores e multiplicação por escalar:"
   ]
  },
  {
   "cell_type": "code",
   "execution_count": 10,
   "metadata": {
    "ExecuteTime": {
     "end_time": "2021-03-15T17:05:46.359354Z",
     "start_time": "2021-03-15T17:05:46.328113Z"
    }
   },
   "outputs": [
    {
     "data": {
      "text/plain": [
       "array([2., 0.])"
      ]
     },
     "execution_count": 10,
     "metadata": {},
     "output_type": "execute_result"
    }
   ],
   "source": [
    "u = np.array([1., -1.])\n",
    "v = np.array([1.,  1.])\n",
    "u + v"
   ]
  },
  {
   "cell_type": "code",
   "execution_count": 11,
   "metadata": {
    "ExecuteTime": {
     "end_time": "2021-03-15T17:05:56.870953Z",
     "start_time": "2021-03-15T17:05:56.824089Z"
    }
   },
   "outputs": [
    {
     "data": {
      "text/plain": [
       "array([ 2., -2.])"
      ]
     },
     "execution_count": 11,
     "metadata": {},
     "output_type": "execute_result"
    }
   ],
   "source": [
    "2*u"
   ]
  },
  {
   "cell_type": "markdown",
   "metadata": {},
   "source": [
    "Multiplicação matricial\n",
    "\n",
    "A multiplicação matricial possui um operador próprio (@) em Python:"
   ]
  },
  {
   "cell_type": "code",
   "execution_count": 12,
   "metadata": {
    "ExecuteTime": {
     "end_time": "2021-03-15T17:06:40.396607Z",
     "start_time": "2021-03-15T17:06:40.380985Z"
    }
   },
   "outputs": [
    {
     "data": {
      "text/plain": [
       "array([[ 7, 10],\n",
       "       [15, 22]])"
      ]
     },
     "execution_count": 12,
     "metadata": {},
     "output_type": "execute_result"
    }
   ],
   "source": [
    "A@A"
   ]
  },
  {
   "cell_type": "markdown",
   "metadata": {},
   "source": [
    "Vamos calcular $\\ (2A−I+AB) $  para: <br>\n",
    "A = \\begin{bmatrix}1 & 2\\\\3 & 4\\end{bmatrix} <br> B = \\begin{bmatrix}3 & 1\\\\4 & 0\\end{bmatrix}\n",
    "\n",
    "com $\\ I$ sendo a matriz identidade de dimensão dois (como vimos antes na parte de matrizes bloco, as matrizes identidade podem ser construídas com `numpy.eye`):"
   ]
  },
  {
   "cell_type": "code",
   "execution_count": 13,
   "metadata": {
    "ExecuteTime": {
     "end_time": "2021-03-15T17:12:31.916044Z",
     "start_time": "2021-03-15T17:12:31.884803Z"
    }
   },
   "outputs": [
    {
     "data": {
      "text/plain": [
       "array([[1., 0.],\n",
       "       [0., 1.]])"
      ]
     },
     "execution_count": 13,
     "metadata": {},
     "output_type": "execute_result"
    }
   ],
   "source": [
    "I = np.eye(2)\n",
    "I"
   ]
  },
  {
   "cell_type": "code",
   "execution_count": 14,
   "metadata": {
    "ExecuteTime": {
     "end_time": "2021-03-15T17:12:55.019632Z",
     "start_time": "2021-03-15T17:12:55.004010Z"
    }
   },
   "outputs": [
    {
     "data": {
      "text/plain": [
       "array([[1, 2],\n",
       "       [3, 4]])"
      ]
     },
     "execution_count": 14,
     "metadata": {},
     "output_type": "execute_result"
    }
   ],
   "source": [
    "A"
   ]
  },
  {
   "cell_type": "code",
   "execution_count": 15,
   "metadata": {
    "ExecuteTime": {
     "end_time": "2021-03-15T17:12:59.548655Z",
     "start_time": "2021-03-15T17:12:59.517493Z"
    }
   },
   "outputs": [],
   "source": [
    "B = np.array([[3., 1.],\n",
    "              [4., 0.]])"
   ]
  },
  {
   "cell_type": "code",
   "execution_count": 16,
   "metadata": {
    "ExecuteTime": {
     "end_time": "2021-03-15T17:13:12.638708Z",
     "start_time": "2021-03-15T17:13:12.569791Z"
    }
   },
   "outputs": [
    {
     "data": {
      "text/plain": [
       "array([[12.,  5.],\n",
       "       [31., 10.]])"
      ]
     },
     "execution_count": 16,
     "metadata": {},
     "output_type": "execute_result"
    }
   ],
   "source": [
    "2. * A - I + A @ B"
   ]
  },
  {
   "cell_type": "markdown",
   "metadata": {
    "ExecuteTime": {
     "end_time": "2021-03-15T17:14:09.667868Z",
     "start_time": "2021-03-15T17:14:09.636626Z"
    }
   },
   "source": [
    "Transposição de matrizes"
   ]
  },
  {
   "cell_type": "code",
   "execution_count": 18,
   "metadata": {
    "ExecuteTime": {
     "end_time": "2021-03-15T17:14:27.057398Z",
     "start_time": "2021-03-15T17:14:27.019694Z"
    }
   },
   "outputs": [
    {
     "data": {
      "text/plain": [
       "array([[1, 3],\n",
       "       [2, 4]])"
      ]
     },
     "execution_count": 18,
     "metadata": {},
     "output_type": "execute_result"
    }
   ],
   "source": [
    "A.T"
   ]
  },
  {
   "cell_type": "markdown",
   "metadata": {},
   "source": [
    "Inversão de matrizes\n",
    "\n",
    "Matrizes são invertidas com `numpy.linalg.inv`:"
   ]
  },
  {
   "cell_type": "code",
   "execution_count": 20,
   "metadata": {
    "ExecuteTime": {
     "end_time": "2021-03-15T17:28:47.167969Z",
     "start_time": "2021-03-15T17:28:47.136804Z"
    }
   },
   "outputs": [
    {
     "data": {
      "text/plain": [
       "array([[-2. ,  1. ],\n",
       "       [ 1.5, -0.5]])"
      ]
     },
     "execution_count": 20,
     "metadata": {},
     "output_type": "execute_result"
    }
   ],
   "source": [
    "Ai = np.linalg.inv(A)\n",
    "Ai"
   ]
  },
  {
   "cell_type": "markdown",
   "metadata": {},
   "source": [
    "A matriz inversa $\\ A^{−1}$ é tal que: <br>\n",
    "$\\ A^{−1}.A=A.A^{-1}= I $ \n",
    "\n",
    "onde $\\ I $ é a matriz identidade"
   ]
  },
  {
   "cell_type": "code",
   "execution_count": 21,
   "metadata": {
    "ExecuteTime": {
     "end_time": "2021-03-15T17:34:21.717188Z",
     "start_time": "2021-03-15T17:34:21.685937Z"
    }
   },
   "outputs": [
    {
     "data": {
      "text/plain": [
       "array([[1.00000000e+00, 0.00000000e+00],\n",
       "       [1.11022302e-16, 1.00000000e+00]])"
      ]
     },
     "execution_count": 21,
     "metadata": {},
     "output_type": "execute_result"
    }
   ],
   "source": [
    "Ai @ A"
   ]
  },
  {
   "cell_type": "markdown",
   "metadata": {},
   "source": [
    "A menos de erros numéricos, essa parece ser a resposta correta (valores da ordem de $\\ 10^{−16} $ são praticamente zero). Vamos checar isso por comparação da multiplicação acima com a matriz identidade (usando a função `numpy.allclose`, que compara arrays a menos de erros numéricos):"
   ]
  },
  {
   "cell_type": "code",
   "execution_count": 22,
   "metadata": {
    "ExecuteTime": {
     "end_time": "2021-03-15T17:36:03.922234Z",
     "start_time": "2021-03-15T17:36:03.906638Z"
    }
   },
   "outputs": [
    {
     "data": {
      "text/plain": [
       "True"
      ]
     },
     "execution_count": 22,
     "metadata": {},
     "output_type": "execute_result"
    }
   ],
   "source": [
    "np.allclose(Ai @ A, np.eye(2))"
   ]
  },
  {
   "cell_type": "markdown",
   "metadata": {},
   "source": [
    "Lembre-se: nem toda matriz possui inversa! Uma maneira de identificar se uma matriz possui inversa é com o cálculo do rank da mesma (`numpy.linalg.matrix_rank`), que deve ser igual à dimensão do array:"
   ]
  },
  {
   "cell_type": "code",
   "execution_count": 23,
   "metadata": {
    "ExecuteTime": {
     "end_time": "2021-03-15T18:02:40.404929Z",
     "start_time": "2021-03-15T18:02:40.288899Z"
    }
   },
   "outputs": [
    {
     "data": {
      "text/plain": [
       "2"
      ]
     },
     "execution_count": 23,
     "metadata": {},
     "output_type": "execute_result"
    }
   ],
   "source": [
    "np.linalg.matrix_rank(A)"
   ]
  },
  {
   "cell_type": "code",
   "execution_count": 24,
   "metadata": {
    "ExecuteTime": {
     "end_time": "2021-03-15T18:03:03.251997Z",
     "start_time": "2021-03-15T18:03:03.236387Z"
    }
   },
   "outputs": [
    {
     "data": {
      "text/plain": [
       "2"
      ]
     },
     "execution_count": 24,
     "metadata": {},
     "output_type": "execute_result"
    }
   ],
   "source": [
    "A.ndim"
   ]
  },
  {
   "cell_type": "markdown",
   "metadata": {},
   "source": [
    "# Voltando a propagação de covariancias"
   ]
  },
  {
   "attachments": {},
   "cell_type": "markdown",
   "metadata": {},
   "source": [
    "Nos vimos que a lei da propagação de covariancias diz que se conhecemos a relação entre variáveis: <br><br>\n",
    "    $\\ A.X+C = Y $ <br><br>\n",
    "é possível propagar $\\Sigma_{X}$ que é a MVC das variáveis independentes para encontrarmos $\\Sigma_{Y}$ por meio da seguinte relação: <br><br>\n",
    "$\\ \\Sigma_{Y} = D. \\Sigma_{X}.D' $ <br>\n",
    "<br>\n",
    "onde $\\ D$ é a matriz das derivadas parciais de $\\ AX $ em relação a $\\ X $. <br>\n",
    "## Exemplo 1: \n",
    "Foram realizadas as medidas de  5  direções ($\\ d_1 ,  d_2 ,  d_3 ,  d_4 \\textrm{ e }  d_5 $ ) com um \n",
    "equipamento cuja precisão angular  é de 5”. Pretende-se calcular os ângulos $\\ a_1 , a_2 , a_3  \\textrm{ e }  \n",
    "a_4 $ entre essa direções conforme a figura a seguir. Ao se determinar o ângulo entre duas \n",
    "direções, qual será a precisão do resultado obtido? \n",
    "<img src=\"ex1.png\">"
   ]
  },
  {
   "cell_type": "code",
   "execution_count": 31,
   "metadata": {
    "ExecuteTime": {
     "end_time": "2021-03-15T18:51:35.100613Z",
     "start_time": "2021-03-15T18:51:35.084989Z"
    }
   },
   "outputs": [],
   "source": [
    "#resolva utilizando os comandos Python para operações matriciais\n"
   ]
  },
  {
   "cell_type": "code",
   "execution_count": null,
   "metadata": {},
   "outputs": [],
   "source": []
  },
  {
   "attachments": {},
   "cell_type": "markdown",
   "metadata": {
    "ExecuteTime": {
     "end_time": "2021-03-15T18:25:53.361902Z",
     "start_time": "2021-03-15T18:25:53.208240Z"
    }
   },
   "source": [
    "## Exemplo 2:\n",
    "Um observador com uma estação total mediu o azimute da direção 01 e a \n",
    "distância entre as estações 0 e 1 a partir do ponto 0 cujas coordenadas são (0, 0). Os \n",
    "valores obtidos foram respectivamente, $\\ A_{01}$ = 60º e $\\ d_{01}$ = 2.000 m. Considere que  ele \n",
    "utilizou um equipamento cuja precisão angular é de 5” e a linear de  ± 5mm ± 5ppm. \n",
    "Quais são as coordenadas do ponto 1 ($\\ x_{1} ,y_{1})$ e a respectiva precisão?\n",
    "    <img src=\"ex2a.png\"> \n",
    "    <img src=\"ex2b.png\">"
   ]
  },
  {
   "cell_type": "code",
   "execution_count": null,
   "metadata": {
    "ExecuteTime": {
     "end_time": "2021-03-15T18:25:57.406590Z",
     "start_time": "2021-03-15T18:25:57.221648Z"
    }
   },
   "outputs": [],
   "source": [
    "#resolva utilizando os comandos Python para operações matriciais"
   ]
  },
  {
   "cell_type": "code",
   "execution_count": null,
   "metadata": {},
   "outputs": [],
   "source": []
  }
 ],
 "metadata": {
  "kernelspec": {
   "display_name": "Python 3",
   "language": "python",
   "name": "python3"
  },
  "language_info": {
   "codemirror_mode": {
    "name": "ipython",
    "version": 3
   },
   "file_extension": ".py",
   "mimetype": "text/x-python",
   "name": "python",
   "nbconvert_exporter": "python",
   "pygments_lexer": "ipython3",
   "version": "3.7.1"
  },
  "toc": {
   "base_numbering": 1,
   "nav_menu": {},
   "number_sections": true,
   "sideBar": true,
   "skip_h1_title": false,
   "title_cell": "Table of Contents",
   "title_sidebar": "Contents",
   "toc_cell": false,
   "toc_position": {},
   "toc_section_display": true,
   "toc_window_display": false
  }
 },
 "nbformat": 4,
 "nbformat_minor": 2
}
