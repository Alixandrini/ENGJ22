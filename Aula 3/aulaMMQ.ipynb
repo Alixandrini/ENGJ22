{
  "cells": [
    {
      "cell_type": "markdown",
      "metadata": {
        "id": "GOeiQa543aGC"
      },
      "source": [
        "## Método dos Mínimos Quadrados - MMQ"
      ]
    },
    {
      "cell_type": "code",
      "execution_count": null,
      "metadata": {
        "id": "aB8bu7Uj3aGK"
      },
      "outputs": [],
      "source": [
        "import numpy as np\n",
        "\n",
        "A=np.matrix([[1,0,0],\n",
        "             [0,1,0],\n",
        "             [0,0,1],\n",
        "             [1,1,0],\n",
        "             [0,1,1]])\n",
        "P=np.eye(5)\n",
        "Lb=np.matrix([[100],\n",
        "              [100],\n",
        "              [100.08],\n",
        "              [200.04],\n",
        "              [200]])"
      ]
    },
    {
      "cell_type": "code",
      "source": [
        "ATA=np.linalg.inv(np.dot(np.dot(A.T,P),A))\n",
        "ATL=np.dot(np.dot(A.T,P),Lb)\n",
        "Xa=np.dot(ATA,ATL)\n",
        "print(Xa)"
      ],
      "metadata": {
        "id": "Wa2tSo_M46n1",
        "outputId": "3ca4c533-ef5a-4aae-8812-1ecf831a1864",
        "colab": {
          "base_uri": "https://localhost:8080/"
        }
      },
      "execution_count": null,
      "outputs": [
        {
          "output_type": "stream",
          "name": "stdout",
          "text": [
            "[[100.025]\n",
            " [ 99.99 ]\n",
            " [100.045]]\n"
          ]
        }
      ]
    },
    {
      "cell_type": "code",
      "source": [
        "Xa=np.linalg.inv(A.T*P*A)*(A.T*P*Lb)\n",
        "print(Xa)"
      ],
      "metadata": {
        "id": "hBsXDqfJ6Prl",
        "outputId": "9f14e99c-b4de-4596-b4d2-0a4af30b5609",
        "colab": {
          "base_uri": "https://localhost:8080/"
        }
      },
      "execution_count": null,
      "outputs": [
        {
          "output_type": "stream",
          "name": "stdout",
          "text": [
            "[[100.025]\n",
            " [ 99.99 ]\n",
            " [100.045]]\n"
          ]
        }
      ]
    },
    {
      "cell_type": "code",
      "source": [
        "V=A*Xa-Lb\n",
        "print(V)"
      ],
      "metadata": {
        "id": "SIKgZawI69mF",
        "outputId": "20ecb0ca-f338-40eb-b14a-cc37e02e5d52",
        "colab": {
          "base_uri": "https://localhost:8080/"
        }
      },
      "execution_count": null,
      "outputs": [
        {
          "output_type": "stream",
          "name": "stdout",
          "text": [
            "[[ 0.025]\n",
            " [-0.01 ]\n",
            " [-0.035]\n",
            " [-0.025]\n",
            " [ 0.035]]\n"
          ]
        }
      ]
    }
  ],
  "metadata": {
    "kernelspec": {
      "display_name": "Python 3 (ipykernel)",
      "language": "python",
      "name": "python3"
    },
    "language_info": {
      "codemirror_mode": {
        "name": "ipython",
        "version": 3
      },
      "file_extension": ".py",
      "mimetype": "text/x-python",
      "name": "python",
      "nbconvert_exporter": "python",
      "pygments_lexer": "ipython3",
      "version": "3.9.12"
    },
    "toc": {
      "base_numbering": 1,
      "nav_menu": {},
      "number_sections": true,
      "sideBar": true,
      "skip_h1_title": false,
      "title_cell": "Table of Contents",
      "title_sidebar": "Contents",
      "toc_cell": false,
      "toc_position": {},
      "toc_section_display": true,
      "toc_window_display": false
    },
    "colab": {
      "provenance": []
    }
  },
  "nbformat": 4,
  "nbformat_minor": 0
}