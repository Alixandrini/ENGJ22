{
  "cells": [
    {
      "cell_type": "markdown",
      "metadata": {
        "id": "view-in-github",
        "colab_type": "text"
      },
      "source": [
        "<a href=\"https://colab.research.google.com/github/Alixandrini/ENGJ22/blob/main/aula4_MMQ.ipynb\" target=\"_parent\"><img src=\"https://colab.research.google.com/assets/colab-badge.svg\" alt=\"Open In Colab\"/></a>"
      ]
    },
    {
      "cell_type": "markdown",
      "metadata": {
        "id": "GOeiQa543aGC"
      },
      "source": [
        "## Método dos Mínimos Quadrados - MMQ"
      ]
    },
    {
      "cell_type": "markdown",
      "metadata": {
        "ExecuteTime": {
          "end_time": "2021-03-02T14:18:18.561090Z",
          "start_time": "2021-03-02T14:18:18.529803Z"
        },
        "id": "s21qzjXK3aGE"
      },
      "source": [
        "Agora vamos voltar para nossas medidas geodésicas!\n",
        "Primeiro observaremos um exemplo simples de medida linear feita a passos ($\\textit{p}$), fita métrica($\\textit{t}$) e distanciometro eletronico($\\textit{e}$)."
      ]
    },
    {
      "cell_type": "code",
      "execution_count": null,
      "metadata": {
        "ExecuteTime": {
          "end_time": "2021-03-03T23:49:12.943745Z",
          "start_time": "2021-03-03T23:49:01.073926Z"
        },
        "id": "4USiFyut3aGG"
      },
      "outputs": [],
      "source": [
        "import pandas as pd"
      ]
    },
    {
      "cell_type": "code",
      "execution_count": null,
      "metadata": {
        "ExecuteTime": {
          "end_time": "2021-03-04T00:03:46.318668Z",
          "start_time": "2021-03-04T00:03:46.283607Z"
        },
        "id": "SAkPdP2b3aGH",
        "outputId": "28e883a3-b6cd-4d60-8f9c-e79a0e688fc7"
      },
      "outputs": [
        {
          "data": {
            "text/html": [
              "<div>\n",
              "<style scoped>\n",
              "    .dataframe tbody tr th:only-of-type {\n",
              "        vertical-align: middle;\n",
              "    }\n",
              "\n",
              "    .dataframe tbody tr th {\n",
              "        vertical-align: top;\n",
              "    }\n",
              "\n",
              "    .dataframe thead th {\n",
              "        text-align: right;\n",
              "    }\n",
              "</style>\n",
              "<table border=\"1\" class=\"dataframe\">\n",
              "  <thead>\n",
              "    <tr style=\"text-align: right;\">\n",
              "      <th></th>\n",
              "      <th>passo(m)</th>\n",
              "      <th>trena(m)</th>\n",
              "      <th>EDM(m)</th>\n",
              "    </tr>\n",
              "  </thead>\n",
              "  <tbody>\n",
              "    <tr>\n",
              "      <th>0</th>\n",
              "      <td>568</td>\n",
              "      <td>567.17</td>\n",
              "      <td>567.133</td>\n",
              "    </tr>\n",
              "    <tr>\n",
              "      <th>1</th>\n",
              "      <td>565</td>\n",
              "      <td>567.08</td>\n",
              "      <td>567.124</td>\n",
              "    </tr>\n",
              "    <tr>\n",
              "      <th>2</th>\n",
              "      <td>566</td>\n",
              "      <td>567.12</td>\n",
              "      <td>567.129</td>\n",
              "    </tr>\n",
              "    <tr>\n",
              "      <th>3</th>\n",
              "      <td>568</td>\n",
              "      <td>567.38</td>\n",
              "      <td>567.165</td>\n",
              "    </tr>\n",
              "    <tr>\n",
              "      <th>4</th>\n",
              "      <td>569</td>\n",
              "      <td>567.01</td>\n",
              "      <td>567.114</td>\n",
              "    </tr>\n",
              "  </tbody>\n",
              "</table>\n",
              "</div>"
            ],
            "text/plain": [
              "   passo(m)  trena(m)   EDM(m)\n",
              "0       568    567.17  567.133\n",
              "1       565    567.08  567.124\n",
              "2       566    567.12  567.129\n",
              "3       568    567.38  567.165\n",
              "4       569    567.01  567.114"
            ]
          },
          "execution_count": 4,
          "metadata": {},
          "output_type": "execute_result"
        }
      ],
      "source": [
        "p=[568,565,566,568,569]\n",
        "t=[567.17,567.08,567.12,567.38,567.01]\n",
        "e=[567.133,567.124,567.129,567.165,567.114]\n",
        "dic = {\"passo(m)\":p, \"trena(m)\":t, \"EDM(m)\":e}\n",
        "dados = pd.DataFrame(data=dic)\n",
        "dados   #Visualiza o DataFrame"
      ]
    },
    {
      "cell_type": "code",
      "execution_count": null,
      "metadata": {
        "ExecuteTime": {
          "end_time": "2021-03-02T14:29:36.381278Z",
          "start_time": "2021-03-02T14:29:36.350114Z"
        },
        "id": "RfkPbblG3aGH",
        "outputId": "79bb9f62-1e0e-47a9-9bb3-0bf48f07a145"
      },
      "outputs": [
        {
          "name": "stdout",
          "output_type": "stream",
          "text": [
            "Estatísticas descritivas dos dados:\n"
          ]
        },
        {
          "data": {
            "text/plain": [
              "count      5.000000\n",
              "mean     567.200000\n",
              "std        1.643168\n",
              "min      565.000000\n",
              "25%      566.000000\n",
              "50%      568.000000\n",
              "75%      568.000000\n",
              "max      569.000000\n",
              "Name: passo(m), dtype: float64"
            ]
          },
          "execution_count": 15,
          "metadata": {},
          "output_type": "execute_result"
        }
      ],
      "source": [
        "print(\"Estatísticas descritivas dos dados:\")\n",
        "dados['passo(m)'].describe()\n"
      ]
    },
    {
      "cell_type": "code",
      "execution_count": null,
      "metadata": {
        "ExecuteTime": {
          "end_time": "2021-03-02T14:29:40.680982Z",
          "start_time": "2021-03-02T14:29:40.649795Z"
        },
        "id": "LCqae9023aGH",
        "outputId": "e9f8c146-4500-4926-8da1-e91956492976"
      },
      "outputs": [
        {
          "data": {
            "text/plain": [
              "count      5.00000\n",
              "mean     567.15200\n",
              "std        0.14025\n",
              "min      567.01000\n",
              "25%      567.08000\n",
              "50%      567.12000\n",
              "75%      567.17000\n",
              "max      567.38000\n",
              "Name: trena(m), dtype: float64"
            ]
          },
          "execution_count": 16,
          "metadata": {},
          "output_type": "execute_result"
        }
      ],
      "source": [
        "dados['trena(m)'].describe()\n"
      ]
    },
    {
      "cell_type": "code",
      "execution_count": null,
      "metadata": {
        "ExecuteTime": {
          "end_time": "2021-03-02T14:29:49.358814Z",
          "start_time": "2021-03-02T14:29:49.327657Z"
        },
        "id": "097r4rl63aGI",
        "outputId": "3ad55352-9916-4052-9588-26c217d49e4e"
      },
      "outputs": [
        {
          "data": {
            "text/plain": [
              "count      5.000000\n",
              "mean     567.133000\n",
              "std        0.019248\n",
              "min      567.114000\n",
              "25%      567.124000\n",
              "50%      567.129000\n",
              "75%      567.133000\n",
              "max      567.165000\n",
              "Name: EDM(m), dtype: float64"
            ]
          },
          "execution_count": 17,
          "metadata": {},
          "output_type": "execute_result"
        }
      ],
      "source": [
        "dados['EDM(m)'].describe()"
      ]
    },
    {
      "cell_type": "markdown",
      "metadata": {
        "id": "n51dU9r83aGI"
      },
      "source": [
        "Agora imagine que recebemos medidas de uma sonda de nível de água colocada em um lago que realizou ao longo de um dia 60 medidas. E gostariamos de avaliar o nivel desse lago sabendo que a sonda é influenciada por ventos mais fortes no final do dia. Como é possível sustentar essa afirmativa com base nas medidas apresentadas abaixo:"
      ]
    },
    {
      "cell_type": "code",
      "execution_count": null,
      "metadata": {
        "id": "DMU6dGwx3aGI"
      },
      "outputs": [],
      "source": [
        "import csv\n",
        "import pandas as pd\n",
        "import matplotlib.pyplot"
      ]
    },
    {
      "cell_type": "code",
      "execution_count": null,
      "metadata": {
        "ExecuteTime": {
          "end_time": "2021-03-04T00:12:49.763302Z",
          "start_time": "2021-03-04T00:12:49.713384Z"
        },
        "id": "2F9xz6x-3aGI"
      },
      "outputs": [],
      "source": [
        "nivel=[]\n",
        "horario=[]\n",
        "with open('C:/Users/alixa/Documents/ENGJ22 - Ajustamento de Observações Geodésicas B/CO-OPS_9416841_wl.csv') as csvDataFile:\n",
        "    csvReader = csv.reader(csvDataFile)\n",
        "    headers = next(csvReader)\n",
        "    for row in csvReader:\n",
        "        horario.append((row[1]))\n",
        "        nivel.append((row[2]))"
      ]
    },
    {
      "cell_type": "code",
      "execution_count": null,
      "metadata": {
        "ExecuteTime": {
          "end_time": "2021-03-04T00:20:25.803340Z",
          "start_time": "2021-03-04T00:20:25.773414Z"
        },
        "id": "odJdtD7O3aGJ"
      },
      "outputs": [],
      "source": [
        "dados=pd.read_csv('CO-OPS_9416841_wl.csv')"
      ]
    },
    {
      "cell_type": "code",
      "execution_count": null,
      "metadata": {
        "ExecuteTime": {
          "end_time": "2021-03-04T00:20:30.263120Z",
          "start_time": "2021-03-04T00:20:30.243217Z"
        },
        "id": "vWjzr13M3aGJ"
      },
      "outputs": [],
      "source": [
        "tempo=dados.iloc[0:500,1]\n",
        "nivel=dados.iloc[0:500,2]\n"
      ]
    },
    {
      "cell_type": "code",
      "execution_count": null,
      "metadata": {
        "ExecuteTime": {
          "end_time": "2021-03-04T00:20:31.143282Z",
          "start_time": "2021-03-04T00:20:30.943095Z"
        },
        "id": "Jrbo-HkU3aGJ",
        "outputId": "9917049d-ad8f-457b-e512-beb488467e75"
      },
      "outputs": [
        {
          "data": {
            "image/png": "[encoded data removed]",
            "text/plain": [
              "<Figure size 432x288 with 1 Axes>"
            ]
          },
          "metadata": {
            "needs_background": "light"
          },
          "output_type": "display_data"
        }
      ],
      "source": [
        "# Assim se faz um comentário em Pyhton\n",
        "matplotlib.pyplot.plot( nivel)\n",
        "matplotlib.pyplot.show()"
      ]
    },
    {
      "cell_type": "markdown",
      "metadata": {
        "id": "-QrShQBX3aGK"
      },
      "source": [
        "#### Questionário:\n",
        "\n",
        "1) Quais são os tipos de erros e as magnitudes desses erros envolvidos em cada uma das medidas? <br><br>\n",
        "Resposta: os erros são :\n",
        "<br>\n",
        "* primeiro erro\n",
        "* segundo erro\n",
        "<br>\n",
        "\n",
        "2) Em que parametro da estátistica das medidas de distancia do exemplo anterior podemos observar a influencia dos erros listados na resposta da pergunta anterior?<br><br>\n",
        "3) Liste dois exemplos de medidas geodésicas onde lançamos mão da redundancia de observações para o controle de erros?<br><br>\n",
        "4) Liste métodos diretos e indiretos de medida dentro da Eng. de Agrimensura e Cartográfica.<br><br>"
      ]
    },
    {
      "cell_type": "code",
      "execution_count": null,
      "metadata": {
        "id": "aB8bu7Uj3aGK"
      },
      "outputs": [],
      "source": [
        "import numpy as np\n",
        "\n",
        "A=np.matrix([[1,0,0],\n",
        "             [0,1,0],\n",
        "             [0,0,1],\n",
        "             [1,1,0],\n",
        "             [0,1,1]])\n",
        "P=np.eye(5)\n",
        "Lb=np.matrix([[100],\n",
        "              [100],\n",
        "              [100.08],\n",
        "              [200.04],\n",
        "              [200]])"
      ]
    },
    {
      "cell_type": "code",
      "source": [
        "ATA=np.linalg.inv(np.dot(np.dot(A.T,P),A))\n",
        "ATL=np.dot(np.dot(A.T,P),Lb)\n",
        "Xa=np.dot(ATA,ATL)\n",
        "print(Xa)"
      ],
      "metadata": {
        "id": "Wa2tSo_M46n1",
        "outputId": "3ca4c533-ef5a-4aae-8812-1ecf831a1864",
        "colab": {
          "base_uri": "https://localhost:8080/"
        }
      },
      "execution_count": null,
      "outputs": [
        {
          "output_type": "stream",
          "name": "stdout",
          "text": [
            "[[100.025]\n",
            " [ 99.99 ]\n",
            " [100.045]]\n"
          ]
        }
      ]
    },
    {
      "cell_type": "code",
      "source": [
        "Xa=np.linalg.inv(A.T*P*A)*(A.T*P*Lb)\n",
        "print(Xa)"
      ],
      "metadata": {
        "id": "hBsXDqfJ6Prl",
        "outputId": "9f14e99c-b4de-4596-b4d2-0a4af30b5609",
        "colab": {
          "base_uri": "https://localhost:8080/"
        }
      },
      "execution_count": null,
      "outputs": [
        {
          "output_type": "stream",
          "name": "stdout",
          "text": [
            "[[100.025]\n",
            " [ 99.99 ]\n",
            " [100.045]]\n"
          ]
        }
      ]
    },
    {
      "cell_type": "code",
      "source": [
        "V=A*Xa-Lb\n",
        "print(V)"
      ],
      "metadata": {
        "id": "SIKgZawI69mF",
        "outputId": "20ecb0ca-f338-40eb-b14a-cc37e02e5d52",
        "colab": {
          "base_uri": "https://localhost:8080/"
        }
      },
      "execution_count": null,
      "outputs": [
        {
          "output_type": "stream",
          "name": "stdout",
          "text": [
            "[[ 0.025]\n",
            " [-0.01 ]\n",
            " [-0.035]\n",
            " [-0.025]\n",
            " [ 0.035]]\n"
          ]
        }
      ]
    }
  ],
  "metadata": {
    "kernelspec": {
      "display_name": "Python 3 (ipykernel)",
      "language": "python",
      "name": "python3"
    },
    "language_info": {
      "codemirror_mode": {
        "name": "ipython",
        "version": 3
      },
      "file_extension": ".py",
      "mimetype": "text/x-python",
      "name": "python",
      "nbconvert_exporter": "python",
      "pygments_lexer": "ipython3",
      "version": "3.9.12"
    },
    "toc": {
      "base_numbering": 1,
      "nav_menu": {},
      "number_sections": true,
      "sideBar": true,
      "skip_h1_title": false,
      "title_cell": "Table of Contents",
      "title_sidebar": "Contents",
      "toc_cell": false,
      "toc_position": {},
      "toc_section_display": true,
      "toc_window_display": false
    },
    "colab": {
      "provenance": [],
      "include_colab_link": true
    }
  },
  "nbformat": 4,
  "nbformat_minor": 0
}