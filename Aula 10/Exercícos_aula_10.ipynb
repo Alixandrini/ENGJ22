{
  "nbformat": 4,
  "nbformat_minor": 0,
  "metadata": {
    "colab": {
      "name": "Exercícos_aula 10.ipynb",
      "provenance": [],
      "authorship_tag": "ABX9TyOjoPfzIY/Incmi7iREJKVY",
      "include_colab_link": true
    },
    "kernelspec": {
      "name": "python3",
      "display_name": "Python 3"
    },
    "language_info": {
      "name": "python"
    }
  },
  "cells": [
    {
      "cell_type": "markdown",
      "metadata": {
        "id": "view-in-github",
        "colab_type": "text"
      },
      "source": [
        "<a href=\"https://colab.research.google.com/github/Alixandrini/ENGJ22/blob/main/Aula%2010/Exerc%C3%ADcos_aula_10.ipynb\" target=\"_parent\"><img src=\"https://colab.research.google.com/assets/colab-badge.svg\" alt=\"Open In Colab\"/></a>"
      ]
    },
    {
      "cell_type": "markdown",
      "source": [
        "#Ajustamento de uma poligonal fechada\n",
        "## Exercíco Propósto\n",
        "### Exemplo 01 \n",
        "Seja uma poligonal fechada com quatro vértices, apresentada na figura abaixo, onde foram observados distancias e ângulos internos ao poligono, em caminhamento no sentido horário. São conhecidas as coordenadas do ponto inicial A e o azimute da direação AB :\n",
        "\n",
        "| Descrição  | Distância (m) | Desvio padrão ($\\ \\sigma$\\)|\n",
        "|---------| ---------| ---------| \n",
        "|$\\ X_{A}$ | 1000.00  | 0.001 |\n",
        "|$\\ Y_{A}$ | 1000.00   | 0.001 |\n",
        "|$\\ Azimute_{AB}$ |45$^{\\circ}$ 00' 00\"    | 10\" |\n",
        "\n",
        "A tabela seguinte apresnta os valores observados com seus respectivos desvios padrão.\n",
        "\n",
        "| Observações  | Ângulo | Desvio padrão|  Distância (m) | Desvio padrão (m)|\n",
        "|---------| ---------| ---------| ---------| ---------| \n",
        "|$\\ \\alpha_{1}$ |112$^{\\circ}$ 50' 27\"| 10\" | 214.970    | 5mm+2ppm |\n",
        "|$\\ \\alpha_{2}$ |113$^{\\circ}$ 30' 58\"| 10\" | 267.600    | 5mm+2ppm |\n",
        "|$\\ \\alpha_{3}$ |66$^{\\circ}$ 40' 25\" | 10\" | 425.660    | 5mm+2ppm |\n",
        "|$\\ \\alpha_{4}$ |66$^{\\circ}$ 58' 09\" | 10\" | 267.790    | 5mm+2ppm|\n",
        "\n",
        "\n",
        "<img src=https://raw.githubusercontent.com/Alixandrini/ENGJ22/main/Aula%2010/poligonal.png>\n",
        "\n",
        "\n"
      ],
      "metadata": {
        "id": "nvSGCMCi-aA6"
      }
    },
    {
      "cell_type": "markdown",
      "source": [
        "#### Resolução\n",
        "Os parâmetros são constituídos pelas coordenadas dos vértices B,C e D. Como as coordenadas do vértice A apresentam inprecisões, temos que tais coordenadas devem participar dos parâmetros e, no ajustamento, introduzir injunções de posição."
      ],
      "metadata": {
        "id": "QQV3PotvOlZc"
      }
    },
    {
      "cell_type": "code",
      "source": [
        "import numpy as np\n",
        "\n",
        "Lb=np.matrix([[214.970],\n",
        "              [267.600],\n",
        "              [425.660],\n",
        "              [267.790],\n",
        "              [(112+50/60+27/3600)*np.pi/180],\n",
        "              [(113+30/60+58/3600)*np.pi/180],\n",
        "              [(66+40/60+25/3600)*np.pi/18],\n",
        "              [(66+58/60+9/3600)*np.pi/180]])\n",
        "#Coordenada aproximadas\n",
        "x1,y1 = 1000,1000\n",
        "az12=45*np.pi/180\n",
        "x2=x1+Lb[0,0]*np.sin(az12)\n",
        "y2=y1+Lb[0,0]*np.cos(az12)\n",
        "az23=az12+np.pi-Lb[5,0]\n",
        "x3=x2+Lb[1,0]*np.sin(az23)\n",
        "y3=y2+Lb[1,0]*np.cos(az23)\n",
        "az34=az23+np.pi-Lb[6,0]\n",
        "x4=x3+Lb[2,0]*np.sin(az34)\n",
        "y4=y3+Lb[2,0]*np.cos(az34)\n",
        "X0=np.matrix([[x1],\n",
        "              [y1],\n",
        "              [x2],\n",
        "              [y2],\n",
        "              [x3],\n",
        "              [y3],\n",
        "              [x4],\n",
        "              [y4]])\n",
        "X0"
      ],
      "metadata": {
        "id": "ODYGfCl6O4-d",
        "colab": {
          "base_uri": "https://localhost:8080/"
        },
        "outputId": "f838cfc0-b1d7-4405-e4b0-8a8d961a39cb"
      },
      "execution_count": 9,
      "outputs": [
        {
          "output_type": "execute_result",
          "data": {
            "text/plain": [
              "matrix([[1000.        ],\n",
              "        [1000.        ],\n",
              "        [1152.00674475],\n",
              "        [1152.00674475],\n",
              "        [1401.0140542 ],\n",
              "        [1054.00103145],\n",
              "        [1289.03625961],\n",
              "        [1464.66806095]])"
            ]
          },
          "metadata": {},
          "execution_count": 9
        }
      ]
    },
    {
      "cell_type": "code",
      "source": [
        "#Matriz dos Pesos\n",
        "P=np.zeros((8,8))\n",
        "P[0,0]=1/np.sqrt(5**2+2*Lb[1,0]/1000**2)*10**(-6)\n",
        "P[1,1]=1/np.sqrt(5**2+2*Lb[1,0]/1000**2)*10**(-6)\n",
        "P[2,2]=1/np.sqrt(5**2+2*Lb[2,0]/1000**2)*10**(-6)\n",
        "P[3,3]=1/np.sqrt(5**2+2*Lb[3,0]/1000**2)*10**(-6)\n",
        "P[4,4]=1/(10/3600*np.pi/180)**2\n",
        "P[5,5]=1/(10/3600*np.pi/180)**2\n",
        "P[6,6]=1/(10/3600*np.pi/180)**2\n",
        "P[7,7]=1/(10/3600*np.pi/180)**2\n",
        "P\n"
      ],
      "metadata": {
        "colab": {
          "base_uri": "https://localhost:8080/"
        },
        "id": "z1RIgLGoSfgm",
        "outputId": "71b60ef0-53f8-4cab-a583-f00b70264329"
      },
      "execution_count": 21,
      "outputs": [
        {
          "output_type": "execute_result",
          "data": {
            "text/plain": [
              "array([[1.99997859e-07, 0.00000000e+00, 0.00000000e+00, 0.00000000e+00,\n",
              "        0.00000000e+00, 0.00000000e+00, 0.00000000e+00, 0.00000000e+00],\n",
              "       [0.00000000e+00, 1.99997859e-07, 0.00000000e+00, 0.00000000e+00,\n",
              "        0.00000000e+00, 0.00000000e+00, 0.00000000e+00, 0.00000000e+00],\n",
              "       [0.00000000e+00, 0.00000000e+00, 1.99996595e-07, 0.00000000e+00,\n",
              "        0.00000000e+00, 0.00000000e+00, 0.00000000e+00, 0.00000000e+00],\n",
              "       [0.00000000e+00, 0.00000000e+00, 0.00000000e+00, 1.99997858e-07,\n",
              "        0.00000000e+00, 0.00000000e+00, 0.00000000e+00, 0.00000000e+00],\n",
              "       [0.00000000e+00, 0.00000000e+00, 0.00000000e+00, 0.00000000e+00,\n",
              "        4.25451703e+08, 0.00000000e+00, 0.00000000e+00, 0.00000000e+00],\n",
              "       [0.00000000e+00, 0.00000000e+00, 0.00000000e+00, 0.00000000e+00,\n",
              "        0.00000000e+00, 4.25451703e+08, 0.00000000e+00, 0.00000000e+00],\n",
              "       [0.00000000e+00, 0.00000000e+00, 0.00000000e+00, 0.00000000e+00,\n",
              "        0.00000000e+00, 0.00000000e+00, 4.25451703e+08, 0.00000000e+00],\n",
              "       [0.00000000e+00, 0.00000000e+00, 0.00000000e+00, 0.00000000e+00,\n",
              "        0.00000000e+00, 0.00000000e+00, 0.00000000e+00, 4.25451703e+08]])"
            ]
          },
          "metadata": {},
          "execution_count": 21
        }
      ]
    },
    {
      "cell_type": "code",
      "source": [
        ""
      ],
      "metadata": {
        "id": "tyWN-ke4YNaT"
      },
      "execution_count": 21,
      "outputs": []
    },
    {
      "cell_type": "code",
      "execution_count": null,
      "metadata": {
        "id": "CBaGE56R-Y9M"
      },
      "outputs": [],
      "source": [
        ""
      ]
    }
  ]
}