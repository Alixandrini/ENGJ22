{
  "nbformat": 4,
  "nbformat_minor": 0,
  "metadata": {
    "colab": {
      "name": "Exercícos_aula 10.ipynb",
      "provenance": [],
      "authorship_tag": "ABX9TyO3V4ugVrmEIuqvYq+Ou5fy",
      "include_colab_link": true
    },
    "kernelspec": {
      "name": "python3",
      "display_name": "Python 3"
    },
    "language_info": {
      "name": "python"
    }
  },
  "cells": [
    {
      "cell_type": "markdown",
      "metadata": {
        "id": "view-in-github",
        "colab_type": "text"
      },
      "source": [
        "<a href=\"https://colab.research.google.com/github/Alixandrini/ENGJ22/blob/main/Aula%2010/Exerc%C3%ADcos_aula_10.ipynb\" target=\"_parent\"><img src=\"https://colab.research.google.com/assets/colab-badge.svg\" alt=\"Open In Colab\"/></a>"
      ]
    },
    {
      "cell_type": "markdown",
      "source": [
        "## Exercícos Propóstos\n",
        "### Exercício 01: Elipese dos erros \n",
        "As coordenadas de dosi vértices $\\ P_1$ e $\\ P_2 $ foram ajustadas resultando na seguinte MVC(decimetros):\n",
        "$$\n",
        "\\begin{bmatrix}\n",
        " \\sigma^2_{x1} &  \\sigma_{x1y1} &  \\sigma_{x1x2}  &  \\sigma_{x1y2} \\\\\n",
        "               &  \\sigma^2_{y1} &  \\sigma_{y1x2}  &  \\sigma_{y1y2} \\\\ \n",
        "               &                &  \\sigma^2_{x2}  & \\sigma_{x2y2}  \\\\ \n",
        "               &                &                 &  \\sigma^2_{y2} \n",
        "\\end{bmatrix} = \\begin{bmatrix}\n",
        " 4,10 &  -0,17 &  4,00  &  -2,20 \\\\\n",
        "      &  4,20  &  2,10  &  3,40 \\\\ \n",
        "      &        &  5,60  & 1,20  \\\\ \n",
        "      &        &        &  4,80 \\end{bmatrix} \n",
        "$$\n",
        "Aqui os elementos abaixo da diagonal principal dforamo omitidos por se tratar de uma matriz simétrica. Sabendo que a distantcia $\\overline{P_1P_2}\\cong $ 5 km\n",
        "e o aximute da direção $P_1P_2 \\cong$ 80$^{\\circ}$, Calcular e desennhar:\n",
        "\n",
        "1.   A elipse dos erros de $P_1$;\n",
        "2.   A elipse dos erros de $P_2$;\n",
        "3.   A elipse relativa.\n",
        "\n",
        "\n",
        "\n",
        "\n",
        "\n"
      ],
      "metadata": {
        "id": "nvSGCMCi-aA6"
      }
    },
    {
      "cell_type": "markdown",
      "source": [
        "#### Resolução\n",
        "Vamos relembrar algumas formulas para o calculo das elipses dos erros:\n",
        "\\begin{equation} M=\\sqrt{4\\sigma_{xy}^2+(\\sigma_x^2-\\sigma_y^2)^2} \\\\ \n",
        " t=0,5arctang(\\frac{2\\sigma_{xy}}{(\\sigma_x^2-\\sigma_y^2)}) \\\\  \n",
        " \\sigma_{max}^2=0,5(\\sigma_x^2-\\sigma_y^2)+0,5M \\\\ \n",
        " \\sigma_{min}^2=0,5(\\sigma_x^2-\\sigma_y^2)-0,5M \\end{equation}"
      ],
      "metadata": {
        "id": "QQV3PotvOlZc"
      }
    },
    {
      "cell_type": "code",
      "source": [
        "import numpy as np\n",
        "MVC=np.matrix([[4.10,-0.17,4.00,-2.20],\n",
        "              [-0.17,4.20,2.10,3.40],\n",
        "              [4.00,2.10,5.60,1.20],\n",
        "              [-2.20,3.40,1.20,4.80]])\n",
        "M1=abs((4*MVC[0,1]**2+(MVC[0,0]-MVC[1,1])**2)**0.5)\n",
        "t1=0.5*np.arctan(2*MVC[0,1]/(MVC[0,0]-MVC[1,1]))\n",
        "smax1=0.5*(MVC[0,0]+MVC[1,1])+0.5*M1\n",
        "smin1=0.5*(MVC[0,0]+MVC[1,1])-0.5*M1\n",
        "\n",
        "print(np.sin(2*t1),np.cos(2*t1))\n",
        "\n",
        "# para trasformar em graus sexagesimais\n",
        "t1=t1*180/np.pi\n",
        "print(t1)\n",
        "M2=abs((4*MVC[2,3]**2+(MVC[2,2]-MVC[3,3])**2)**0.5)\n",
        "t2=0.5*np.arctan(2*MVC[2,3]/(MVC[2,2]-MVC[3,3]))\n",
        "smax2=0.5*(MVC[2,2]+MVC[3,3])+0.5*M2\n",
        "smin2=0.5*(MVC[2,2]+MVC[3,3])-0.5*M2\n",
        "print(np.sin(2*t2),np.cos(2*t2))\n",
        "t2=t2*180/np.pi\n",
        "print(t2)"
      ],
      "metadata": {
        "id": "ODYGfCl6O4-d",
        "colab": {
          "base_uri": "https://localhost:8080/"
        },
        "outputId": "f0878aca-d65b-49aa-a16c-a3123cbf4a7c"
      },
      "execution_count": null,
      "outputs": [
        {
          "output_type": "stream",
          "name": "stdout",
          "text": [
            "0.9593655015712701 0.2821663239915516\n",
            "36.80522983298257\n",
            "0.9486832980505138 0.31622776601683794\n",
            "35.782525588538995\n"
          ]
        }
      ]
    },
    {
      "cell_type": "markdown",
      "source": [
        "Para a elipse Relativa:\n",
        "\\begin{equation} \n",
        "\\Sigma_{\\Delta} =\\begin{bmatrix}\n",
        "\\sigma_{\\Delta x}^2  & \\sigma_{\\Delta x \\Delta y}  \\\\ \n",
        "  \\sigma_{\\Delta x \\Delta y} & \\sigma_{\\Delta y}^2 \n",
        "\\end{bmatrix} \\\\\n",
        "\\begin{bmatrix}\n",
        " \\sigma_{x1}^2+\\sigma_{x2}^2-2\\sigma_{x1x2}& \\sigma_{x1y1}-\\sigma_{x2y1}-\\sigma_{x1y2}+\\sigma_{x2y2}\\\\ \n",
        " \\sigma_{x1y1}-\\sigma_{x2y1}-\\sigma_{x1y2}+\\sigma_{x2y2}& \\sigma_{y1}^2+\\sigma_{y2}^2-2\\sigma_{y1y2}\n",
        "\\end{bmatrix}\n",
        " \\end{equation}"
      ],
      "metadata": {
        "id": "9r0GsIuxR0ny"
      }
    },
    {
      "cell_type": "code",
      "source": [
        "sdeltax=MVC[0,0]+MVC[2,2]-2*MVC[0,2]\n",
        "sdeltay=MVC[1,1]+MVC[3,3]-2*MVC[1,3]\n",
        "sdeltaxy=MVC[0,1]-MVC[2,1]-MVC[0,3]+MVC[2,3]\n",
        "M3=abs((4*sdeltaxy**2+(sdeltax-sdeltay)**2)**0.5)\n",
        "t3=0.5*np.arctan(2*sdeltaxy/(sdeltax-sdeltay))\n",
        "smax3=0.5*(sdeltax+sdeltay)+0.5*M3\n",
        "smin3=0.5*(sdeltax+sdeltay)-0.5*M3\n",
        "print(np.sin(2*t3),np.cos(2*t3))\n",
        "t3=t3*180/np.pi+180\n",
        "print(t3)"
      ],
      "metadata": {
        "colab": {
          "base_uri": "https://localhost:8080/"
        },
        "id": "Y9S_a0OQUMVE",
        "outputId": "6d9348f9-56c8-425b-a90b-cf50fcd80961"
      },
      "execution_count": null,
      "outputs": [
        {
          "output_type": "stream",
          "name": "stdout",
          "text": [
            "-0.9763899401446986 0.21601547348334077\n",
            "141.23755485610448\n"
          ]
        }
      ]
    },
    {
      "cell_type": "code",
      "source": [
        "import matplotlib.pyplot as plt\n",
        "from matplotlib.patches import Ellipse\n",
        "x=[10,18]\n",
        "y=[11,14]\n",
        "\n",
        "ells = Ellipse((10,11),\n",
        "                width=smax1, height=smin1,\n",
        "                angle=t1)\n",
        "ells1 = Ellipse((18,14),\n",
        "                width=smax2, height=smin2,\n",
        "                angle=t2)\n",
        "fig, ax = plt.subplots()\n",
        "\n",
        "ax.add_artist(ells)\n",
        "ax.add_artist(ells1)\n",
        "ax.plot(x, y)\n",
        "\n",
        "ax.set_xlim(5, 25)\n",
        "ax.set_ylim(5, 25)\n",
        "plt.text(18, 10, \"elipse 2\", fontsize=10)\n",
        "plt.text(7, 14, \"elipse 1\", fontsize=10)\n",
        "plt.gcf().set_size_inches(10, 8)\n",
        "plt.show()\n"
      ],
      "metadata": {
        "colab": {
          "base_uri": "https://localhost:8080/",
          "height": 487
        },
        "id": "7YsgQLwBXnQE",
        "outputId": "dbc4f6e6-45be-462a-8eff-653598b5715b"
      },
      "execution_count": null,
      "outputs": [
        {
          "output_type": "display_data",
          "data": {
            "text/plain": [
              "<Figure size 720x576 with 1 Axes>"
            ],
            "image/png": "[encoded data removed]"
          },
          "metadata": {
            "needs_background": "light"
          }
        }
      ]
    },
    {
      "cell_type": "markdown",
      "source": [
        "###Exercício 02: Ajustamento de uma triangulação\n",
        "Ajustar o valor das coordeandas de uma estação de posição desconhecida U. Foram observados os ângulos horizontais a partir de três estações conhecidas R(300,000;1500,000), S(800,000;700,000) e T (1000,000;100,000)conforme a figura a seguir. Os ângulos oservador são $\\alpha_1$=52$^{\\circ}$17'13\" , $\\alpha_2$=100$^{\\circ}$12'04\" , $\\alpha_3$=93$^{\\circ}$22'00\" e $\\alpha_4$=65$^{\\circ}$43'42\". Usar desvio padrão de 10\" para os ângulos observados.\n",
        "\n",
        "<img src=\"https://raw.githubusercontent.com/Alixandrini/ENGJ22/main/Aula%209/trilateracao.png\">"
      ],
      "metadata": {
        "id": "4mUHlArmF-47"
      }
    },
    {
      "cell_type": "markdown",
      "source": [
        "#### Resolução\n",
        "O modelo matemático funcional a ser adotado é:\n",
        "\\begin{equation}\n",
        "\\alpha_1=arctan\\left ( \\frac{y_R-y_S}{x_S-x_R} \\right )-arctan\\left ( \\frac{y_R-y_U}{x_U-x_R} \\right ) \\\\\n",
        "\\alpha_2=arctan\\left ( \\frac{y_U-y_S}{x_U-x_R} \\right )+arctan\\left ( \\frac{y_S-y_R}{x_R-x_S} \\right )  \\\\\n",
        "\\alpha_3=arctan\\left ( \\frac{y_U-y_S}{x_U-x_S} \\right )+arctan\\left ( \\frac{y_S-y_T}{x_T-x_S} \\right )  \\\\\n",
        "\\alpha_4=arctan\\left ( \\frac{y_T-y_S}{x_S-x_T} \\right )+arctan\\left ( \\frac{y_U-y_T}{x_U-x_T} \\right )\n",
        "\\end{equation}"
      ],
      "metadata": {
        "id": "XgnZQiEQOMFU"
      }
    },
    {
      "cell_type": "code",
      "source": [
        ""
      ],
      "metadata": {
        "id": "lpwfCBh2JZFF"
      },
      "execution_count": null,
      "outputs": []
    },
    {
      "cell_type": "markdown",
      "source": [
        "NOTA: Para criar a matriz A a derivação utilizará a regra da cadeia\n",
        "\\begin{equation}\n",
        "f(g(x))'=f'(g(x))g'(x) \\\\\n",
        "\\end{equation}\n",
        "e as seguintes derivadas\n",
        "\\begin{equation}\n",
        "y=\\frac{1}{x} \\therefore y'=-\\frac{1}{x^2} \\\\\n",
        "y=arctang(x) \\therefore y'=\\frac{1}{x^2+1}\n",
        "\\end{equation}"
      ],
      "metadata": {
        "id": "JnjE9SsCOBb5"
      }
    },
    {
      "cell_type": "markdown",
      "source": [
        "###Exercicio 03: Ajustamento de Trilateração\n",
        "Três pontos com as coordenadas conhecidas A(300;1500)m, B(800,700)m e C(1000,100)m foram observados a partir de um ponto U, obtendo distância UA=2009,985m, UB=1615,550m e UC=1769,185m. Determinar as coordenadas ajustadas do ponto U sabendo que as distancias foram obtidas com a precição de 5mm+2ppm.\n"
      ],
      "metadata": {
        "id": "FiLYtldCF_Ix"
      }
    },
    {
      "cell_type": "code",
      "execution_count": null,
      "metadata": {
        "id": "CBaGE56R-Y9M"
      },
      "outputs": [],
      "source": [
        ""
      ]
    }
  ]
}