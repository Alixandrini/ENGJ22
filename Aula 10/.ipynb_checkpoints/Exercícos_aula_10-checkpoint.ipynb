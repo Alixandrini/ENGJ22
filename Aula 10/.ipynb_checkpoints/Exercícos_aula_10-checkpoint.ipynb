{
 "cells": [
  {
   "cell_type": "markdown",
   "metadata": {
    "colab_type": "text",
    "id": "view-in-github"
   },
   "source": [
    "<a href=\"https://colab.research.google.com/github/Alixandrini/ENGJ22/blob/main/Aula%2010/Exerc%C3%ADcos_aula_10.ipynb\" target=\"_parent\"><img src=\"https://colab.research.google.com/assets/colab-badge.svg\" alt=\"Open In Colab\"/></a>"
   ]
  },
  {
   "cell_type": "markdown",
   "metadata": {
    "id": "nvSGCMCi-aA6"
   },
   "source": [
    "#Ajustamento de uma poligonal fechada\n",
    "## Exercíco Propósto\n",
    "### Exemplo 01 \n",
    "Seja uma poligonal fechada com quatro vértices, apresentada na figura abaixo, onde foram observados distancias e ângulos internos ao poligono, em caminhamento no sentido horário. São conhecidas as coordenadas do ponto inicial A e o azimute da direação AB :\n",
    "\n",
    "| Descrição  | Distância (m) | Desvio padrão ($\\ \\sigma$\\)|\n",
    "|---------| ---------| ---------| \n",
    "|$\\ X_{A}$ | 1000.00  | 0.001 |\n",
    "|$\\ Y_{A}$ | 1000.00   | 0.001 |\n",
    "|$\\ Azimute_{AB}$ |45$^{\\circ}$ 00' 00\"    | 10\" |\n",
    "\n",
    "A tabela seguinte apresnta os valores observados com seus respectivos desvios padrão.\n",
    "\n",
    "| Observações  | Ângulo | Desvio padrão|  Distância (m) | Desvio padrão (m)|\n",
    "|---------| ---------| ---------| ---------| ---------| \n",
    "|$\\ \\alpha_{1}$ |112$^{\\circ}$ 50' 27\"| 10\" | 214.970    | 5mm+2ppm |\n",
    "|$\\ \\alpha_{2}$ |113$^{\\circ}$ 30' 58\"| 10\" | 267.600    | 5mm+2ppm |\n",
    "|$\\ \\alpha_{3}$ |66$^{\\circ}$ 40' 25\" | 10\" | 425.660    | 5mm+2ppm |\n",
    "|$\\ \\alpha_{4}$ |66$^{\\circ}$ 58' 09\" | 10\" | 267.790    | 5mm+2ppm|\n",
    "\n",
    "\n",
    "<img src=https://raw.githubusercontent.com/Alixandrini/ENGJ22/main/Aula%2010/poligonal.png>\n",
    "\n",
    "\n"
   ]
  },
  {
   "cell_type": "markdown",
   "metadata": {
    "id": "QQV3PotvOlZc"
   },
   "source": [
    "#### Resolução\n",
    "Os parâmetros são constituídos pelas coordenadas dos vértices B,C e D. Como as coordenadas do vértice A apresentam inprecisões, temos que tais coordenadas devem participar dos parâmetros e, no ajustamento, introduzir injunções de posição."
   ]
  },
  {
   "cell_type": "code",
   "execution_count": 1,
   "metadata": {
    "colab": {
     "base_uri": "https://localhost:8080/"
    },
    "id": "ODYGfCl6O4-d",
    "outputId": "7dd31c28-848e-41ef-c801-068ce48700f1"
   },
   "outputs": [
    {
     "data": {
      "text/plain": [
       "matrix([[1000.        ],\n",
       "        [1000.        ],\n",
       "        [1152.00674475],\n",
       "        [1152.00674475],\n",
       "        [1401.0140542 ],\n",
       "        [1054.00103145],\n",
       "        [1101.0252817 ],\n",
       "        [ 752.01895918]])"
      ]
     },
     "execution_count": 1,
     "metadata": {},
     "output_type": "execute_result"
    }
   ],
   "source": [
    "import numpy as np\n",
    "\n",
    "Lb=np.matrix([[214.970],\n",
    "              [267.600],\n",
    "              [425.660],\n",
    "              [267.790],\n",
    "              [(112+50/60+27/3600)*np.pi/180],\n",
    "              [(113+30/60+58/3600)*np.pi/180],\n",
    "              [(66+40/60+25/3600)*np.pi/180],\n",
    "              [(66+58/60+9/3600)*np.pi/180]])\n",
    "#Coordenada aproximadas\n",
    "x1,y1 = 1000,1000\n",
    "az12=45*np.pi/180\n",
    "x2=x1+Lb[0,0]*np.sin(az12)\n",
    "y2=y1+Lb[0,0]*np.cos(az12)\n",
    "az23=az12+np.pi-Lb[5,0]\n",
    "x3=x2+Lb[1,0]*np.sin(az23)\n",
    "y3=y2+Lb[1,0]*np.cos(az23)\n",
    "az34=az23+np.pi-Lb[6,0]\n",
    "x4=x3+Lb[2,0]*np.sin(az34)\n",
    "y4=y3+Lb[2,0]*np.cos(az34)\n",
    "X0=np.matrix([[x1],\n",
    "              [y1],\n",
    "              [x2],\n",
    "              [y2],\n",
    "              [x3],\n",
    "              [y3],\n",
    "              [x4],\n",
    "              [y4]])\n",
    "X0"
   ]
  },
  {
   "cell_type": "code",
   "execution_count": 2,
   "metadata": {
    "colab": {
     "base_uri": "https://localhost:8080/"
    },
    "id": "z1RIgLGoSfgm",
    "outputId": "549c8c09-a85f-4103-fc23-d11806850d94"
   },
   "outputs": [
    {
     "data": {
      "text/plain": [
       "array([[1.99997859e-07, 0.00000000e+00, 0.00000000e+00, 0.00000000e+00,\n",
       "        0.00000000e+00, 0.00000000e+00, 0.00000000e+00, 0.00000000e+00],\n",
       "       [0.00000000e+00, 1.99997859e-07, 0.00000000e+00, 0.00000000e+00,\n",
       "        0.00000000e+00, 0.00000000e+00, 0.00000000e+00, 0.00000000e+00],\n",
       "       [0.00000000e+00, 0.00000000e+00, 1.99996595e-07, 0.00000000e+00,\n",
       "        0.00000000e+00, 0.00000000e+00, 0.00000000e+00, 0.00000000e+00],\n",
       "       [0.00000000e+00, 0.00000000e+00, 0.00000000e+00, 1.99997858e-07,\n",
       "        0.00000000e+00, 0.00000000e+00, 0.00000000e+00, 0.00000000e+00],\n",
       "       [0.00000000e+00, 0.00000000e+00, 0.00000000e+00, 0.00000000e+00,\n",
       "        4.25451703e+08, 0.00000000e+00, 0.00000000e+00, 0.00000000e+00],\n",
       "       [0.00000000e+00, 0.00000000e+00, 0.00000000e+00, 0.00000000e+00,\n",
       "        0.00000000e+00, 4.25451703e+08, 0.00000000e+00, 0.00000000e+00],\n",
       "       [0.00000000e+00, 0.00000000e+00, 0.00000000e+00, 0.00000000e+00,\n",
       "        0.00000000e+00, 0.00000000e+00, 4.25451703e+08, 0.00000000e+00],\n",
       "       [0.00000000e+00, 0.00000000e+00, 0.00000000e+00, 0.00000000e+00,\n",
       "        0.00000000e+00, 0.00000000e+00, 0.00000000e+00, 4.25451703e+08]])"
      ]
     },
     "execution_count": 2,
     "metadata": {},
     "output_type": "execute_result"
    }
   ],
   "source": [
    "#Matriz dos Pesos\n",
    "P=np.zeros((8,8))\n",
    "P[0,0]=1/np.sqrt(5**2+2*Lb[1,0]/1000**2)*10**(-6)\n",
    "P[1,1]=1/np.sqrt(5**2+2*Lb[1,0]/1000**2)*10**(-6)\n",
    "P[2,2]=1/np.sqrt(5**2+2*Lb[2,0]/1000**2)*10**(-6)\n",
    "P[3,3]=1/np.sqrt(5**2+2*Lb[3,0]/1000**2)*10**(-6)\n",
    "P[4,4]=1/(10/3600*np.pi/180)**2\n",
    "P[5,5]=1/(10/3600*np.pi/180)**2\n",
    "P[6,6]=1/(10/3600*np.pi/180)**2\n",
    "P[7,7]=1/(10/3600*np.pi/180)**2\n",
    "P\n"
   ]
  },
  {
   "cell_type": "code",
   "execution_count": null,
   "metadata": {
    "id": "tyWN-ke4YNaT"
   },
   "outputs": [],
   "source": []
  },
  {
   "cell_type": "markdown",
   "metadata": {
    "id": "49PZUV9VY_nS"
   },
   "source": [
    "## Funções no Python\n",
    "Na programação, funções são blocos de código que realizam determinadas tarefas que normalmente precisam ser executadas diversas vezes dentro de uma aplicação. Quando surge essa necessidade, para que várias instruções não precisem ser repetidas, elas são agrupadas em uma função, à qual é dado um nome e que poderá ser chamada/executada em diferentes partes do programa.\n",
    "### Criando funções no Python\n",
    " sintaxe de uma função é definida por três partes: nome, parâmetros e corpo, o qual agrupa uma sequência de linhas que representa algum comportamento. No código abaixo, temos um exemplo de declaração de função em Python:\n",
    "```Python\n",
    " def hello(meu_nome):\n",
    "  print('Olá',meu_nome)\n",
    "```\n",
    "Essa função, de nome `hello`, tem como objetivo imprimir o nome que lhe é passado por parâmetro (também chamado de argumento). A palavra reservada `def`, na primeira linha, explicita a definição da função naquele ponto. Em seguida, entre parênteses, temos o parâmetro `meu_nome`. Ainda na mesma linha, observe a utilização dos dois pontos (:), que indicam que o código identado nas linhas abaixo faz parte da função que está sendo criada. Aqui, é importante ressaltar que, para respeitar a sintaxe da linguagem, a linha 2 está avançada em relação à linha 1.\n",
    "\n",
    "Para executar a função, de forma semelhante ao que ocorre em outras linguagens, devemos simplesmente chamar seu nome e passar os parâmetros esperados entre parênteses, conforme o código a seguir.\n",
    "```Python\n",
    ">>> hello('Mauro')\n",
    "Olá Mauro\n",
    ">>> meu_nome\n",
    "'Mauro'\n",
    "```\n",
    "Caso seja necessário, também é possível definir funções com nenhum ou vários argumentos, como no código abaixo:\n",
    "```Python\n",
    "def hello(meu_nome,idade):\n",
    "   print('Olá',meu_nome,'\\nSua idade é:',idade)\n",
    "   ```\n",
    "   Agora, ao invocar essa função, também é necessário informar o segundo parâmetro, que representa a idade que será impressa após o nome:\n",
    "```Python\n",
    ">>> hello('Mauro',38)\n",
    "Olá Mauro\n",
    "Sua idade é: 38\n",
    "```\n",
    "Assim como podem receber valores de entrada, as funções também podem produzir valores de saída, provenientes de determinadas operações. Nos exemplos anteriores, apenas imprimimos um valor com a função `print`, sem retornar explicitamente um resultado. Já na Listagem 1, temos uma função que faz o cálculo do salário e retorna o valor a ser pago conforme o número de horas trabalhadas. \n",
    "```Python\n",
    "def calcular_pagamento(qtd_horas, valor_hora):\n",
    "  horas = float(qtd_horas)\n",
    "  taxa = float(valor_hora)\n",
    "  if horas <= 40:\n",
    "    salario=horas*taxa\n",
    "  else:\n",
    "    h_excd = horas - 40\n",
    "    salario = 40*taxa+(h_excd*(1.5*taxa))\n",
    "  return salario\n",
    "  ````\n",
    "  Na linha 1, a função `calcular_pagamento()` recebe dois parâmetros, `qtd_horas` e `valor_hora`, que representam, respectivamente, a quantidade de horas a serem calculadas e o valor da hora. Nas linhas 2 e 3, esses valores são convertidos para o tipo float, pois eles serão recebidos como string por meio da instrução `input`.\n",
    "\n",
    "Na quarta linha, verificamos se a quantidade de horas trabalhadas é menor ou igual a 40. Caso seja verdadeiro, na linha 5 calculamos o valor do salário apenas multiplicando a quantidade de horas pelo valor de cada hora trabalhada. Se a quantidade for maior que 40 (linha 6), adicionamos ao salário um valor adicional pelas horas extras. Por fim, na linha 9 retornamos o resultado do cálculo (contido na variável `salario`) com a instrução `return`.\n",
    "\n",
    "No código abaixo, vemos como utilizar essa função, obtendo seu retorno e o imprimindo na tela posteriormente:\n",
    "```\n",
    "str_horas= input('Digite as horas: ')\n",
    "str_taxa=input('Digite a taxa: ')\n",
    "total_salario = calcular_pagamento(str_horas,str_taxa)\n",
    "print('O valor de seus rendimentos é R$',total_salario)\n",
    "```\n",
    "Primeiramente, solicitamos do usuário as informações necessárias, que serão armazenadas como string e repassadas para a função (linhas 1 e 2). Em seguida, na linha 3, obtemos o resultado da função e o atribuímos à variável `total_salario`, que é impressa na linha 4.\n",
    "\n",
    "A Listagem 2 mostra a execução desse código em duas situações.\n",
    "```\n",
    "Digite as horas: 40\n",
    "Digite a taxa: 20\n",
    "O valor de seus rendimentos é:  800.0\n",
    ">>>\n",
    "Digite as horas: 50\n",
    "Digite a taxa: 20\n",
    "1100.0\n",
    "```\n",
    "Nesse caso, definimos explicitamente que a função deve retornar um determinado resultado por meio da instrução return. Caso isso não seja feito, o valor padrão retornado será None, equivalente ao null, void ou nil encontrado em outras linguagens.\n",
    "Parâmetros nomeados\n",
    "\n",
    "As funções em Python tem suporte a parâmetros nomeados. O exemplo a seguir mostra um caso onde podemos usar nomes nos parâmetros da função.\n",
    "```\n",
    "def calculo_imc(peso, altura):\n",
    "    print(peso / altura ** 2)\n",
    "\n",
    "calculo_imc(75, 1.68)\n",
    "```\n",
    "Observe que quando chamamos a função calculo_imc, não há uma identificação do que cada valor representa dentro daquela função. Nesse mesmo exemplo usando essa funcionalidade, conseguimos ver melhor como podemos dar nome aos parâmetros.\n",
    "```\n",
    "def calculo_imc(peso, altura):\n",
    "    print(peso / altura ** 2)\n",
    "\n",
    "calculo_imc(peso = 75, altura = 1.68)\n",
    "```\n",
    "Mesmo que venhamos a trocar a ordem dos argumentos na chamada da função, ela será executada corretamente da mesma forma, pois os parâmetros estão sendo identificados por um nome e não pela sua posição.\n",
    "\n",
    "Fonte:https://www.devmedia.com.br/funcoes-em-python/37340"
   ]
  },
  {
   "cell_type": "code",
   "execution_count": null,
   "metadata": {
    "id": "CBaGE56R-Y9M"
   },
   "outputs": [],
   "source": [
    "import numpy as np\n",
    "#função de calculo de azimutes\n",
    "def azimute(x1,y1,x2,y2):\n",
    "  if (y2>y1 and x2>=x1):                  #Primeiro Quadrante\n",
    "    azim=np.arctan((x2-x1)/(y2-y1))\n",
    "  if (y2>y1 and x1>x2):                   #Quarto Quadrante\n",
    "    azim=np.arctan((x1-x2)/(y2-y1))\n",
    "  if (y2==y1 and x2>=x1):                 #90 graus\n",
    "    azim=np.pi/2\n",
    "  if (y2==y1 and x2>x1):                  #270 graus\n",
    "    azim=3*np.pi/2\n",
    "  if (y2<y1 and x2>=x1):\n",
    "    azim=np.pi-np.arctan((x2-x1)/(y1-y2))   #Segundo Quadrante\n",
    "    else:\n",
    "      azim=np.pi+np.arctan((x1-x2)/(y1-y2)) #Terceiro Quadrante\n",
    "  return azim\n",
    "#função de calculo de angulo sentido USR\n",
    "def CalcAngulo(xu,yu,xr,yr,xs,ys):\n",
    "  if (ys>yu and xs>=xu):                      #Primeiro Quadrante\n",
    "    alfaUS=np.arctan((xs-xu)/(ys-yu))\n",
    "  if (ys>yu and xs<xu):                       #Quarto Quadrante\n",
    "    alfaUS=2*np.pi-np.arctan((xu-xs)/(ys-yu))\n",
    "  if (ys==yu and xs>=xu):                     #90 graus\n",
    "    alfaUS=np.pi/2\n",
    "  if (ys==yu and xs>xu):                      #270 graus\n",
    "    alfaUS=3*np.pi/2\n",
    "  if (ys<yu and xs>=xu):\n",
    "    alfaUS=np.pi-np.arctan((xs-xu)/(yu-ys))   #Segundo Quadrante\n",
    "    else:\n",
    "      alfaUS=np.pi+np.arctan((xu-xs)/(yu-ys)) #Terceiro Quadrante\n",
    "  if (yr>ys and xr>=xs):                      #Primeiro Quadrante\n",
    "    alfaSR=np.arctan((xr-xs)/(yr-ys))\n",
    "  if (ys>yu and xs<xu):                       #Quarto Quadrante\n",
    "    alfaSR=2*np.pi-np.arctan((xs-xr)/(yr-ys))\n",
    "  if (yr==ys and xr>=xs):                     #90 graus\n",
    "    alfaSR=np.pi/2\n",
    "  if (yr==ys and xr>xs):                      #270 graus\n",
    "    alfaSR=3*np.pi/2\n",
    "  if (yr<ys and xr>=xs):\n",
    "    alfaSR=np.pi-np.arctan((xr-xs)/(ys-yr))   #Segundo Quadrante\n",
    "    else:\n",
    "      alfaSR=np.pi+np.arctan((xs-xr)/(ys-yr)) #Terceiro Quadrante\n",
    "  return alfaUS, alfaSR\n",
    "#função da derivada da função ângulo de duas direções\n",
    "def CalcDerivAngulo(xa,ya,xb,yb,xc,yc):\n",
    "  dAB2=(xa-xb)**2+(ya-yb)**2\n",
    "  if (yb==ya):\n",
    "    deriv=np.array([0,0,0,0,0,0])\n",
    "    else:\n",
    "      deriv=np.array([(ya-yb),(xb-xa),(yb-ya),(xa-xb),0,0])/dAB2\n",
    "  dBC2=(xb-xc)**2+(yb-yc)**2\n",
    "  if(yc~=yb):\n",
    "    deriv=deriv-np.array([0,0,(yb-yc),(xc-xb),(yc-yb),(xb-xc)])/dBC2\n",
    "    return deriv\n",
    "#Calculo da distância entre dois pontos\n",
    "def DstCoord(xa,ya,xb,yb):\n",
    "  dista=np.sqrt((xb-xa)**2+(yb-ya)**2)\n",
    "  return dista\n",
    "#Calculo Matriz de Rotação\n",
    "def ome_phi_kap(ome,phi,kap):\n",
    "  M=np.zeros(3,3)\n",
    "  M[0,0]=np.cos(phi)*np.cos(kap)\n",
    "  M[0,1]=np.cos(ome)*np.sin(kap)+np.sin(ome)*np.sin(phi)*np.cos(kap)\n",
    "  M[0,2]=np.sin(ome)*np.sin(kap)-np.cos(ome)*np.sin(phi)*np.cos(kap)\n",
    "  M[1,0]=-np.cos(phi)*np.sin(kap)\n",
    "  M[1,1]=np.cos(ome)*np.cos(kap)-np.sin(ome)*np.sin(phi)*np.sin(kap)\n",
    "  M[1,2]=np.sin(ome)*np.cos(kap)+np.cos(ome)*np.sin(phi)*np.sin(kap)\n",
    "  M[2,0]=np.sin(phi)\n",
    "  M[2,1]=-np.sin(ome)*np.cos(phi)\n",
    "  M[2,2]=np.cos(ome)*np.cos(phi)\n",
    "  return M\n",
    "#calculo das Elipses dos Erros\n",
    "def elipse(varX,varY,covarXY)\n",
    "M=np.sqrt(4*covarXY**2+(varX-varY)**2)\n",
    "varMax=(varX+varY+M)/2\n",
    "VarMin=(varX+varY-M)/2\n",
    "a=np.sqrt(varMax)\n",
    "b=np.sqrt(varMin)\n",
    "#casos especiais\n",
    "if covarXY==0:\n",
    "  if varX>=varY:\n",
    "    t=0\n",
    "    else:\n",
    "      t=90\n",
    "  else:\n",
    "    if varX==varY:\n",
    "      if covarXY>0:\n",
    "        t=45\n",
    "        else:\n",
    "          t=135\n",
    "      else:\n",
    "        t2=np.arctan(abs(2*covarXY/(varX-varY)))*180/np.pi\n",
    "#Análise do quadrante\n",
    "        if covarXY>0:\n",
    "          if varX>varY:\n",
    "            #primeiro Quadrante\n",
    "            t=t2/2\n",
    "            else:\n",
    "              #segundo Quadrante\n",
    "              t=(180-t2)/2\n",
    "        else:\n",
    "          if varX<varY:\n",
    "            #Terceiro Quadrante\n",
    "            t=(180+t2)/2\n",
    "          else:\n",
    "            t=(360-t2)/2\n",
    "\n",
    "return [a,b,t]\n",
    "\n",
    "\n",
    "\n",
    "\n",
    "\n",
    "\n",
    "\n"
   ]
  },
  {
   "cell_type": "code",
   "execution_count": null,
   "metadata": {
    "colab": {
     "base_uri": "https://localhost:8080/"
    },
    "id": "OyEzfHoO5HcI",
    "outputId": "3c7cba33-5ee4-43e9-f9db-5bef08177c04"
   },
   "outputs": [
    {
     "data": {
      "text/plain": [
       "array([0.4, 0.6])"
      ]
     },
     "execution_count": 1,
     "metadata": {},
     "output_type": "execute_result"
    }
   ],
   "source": [
    "import numpy as np\n",
    "A=np.array([2,3])\n",
    "A/5"
   ]
  },
  {
   "cell_type": "markdown",
   "metadata": {
    "id": "ZeH8Wgv5aMSe"
   },
   "source": []
  }
 ],
 "metadata": {
  "colab": {
   "authorship_tag": "ABX9TyPcvsVmXI7pwigQ65mPBqQw",
   "include_colab_link": true,
   "name": "Exercícos_aula 10.ipynb",
   "provenance": []
  },
  "kernelspec": {
   "display_name": "Python 3 (ipykernel)",
   "language": "python",
   "name": "python3"
  },
  "language_info": {
   "codemirror_mode": {
    "name": "ipython",
    "version": 3
   },
   "file_extension": ".py",
   "mimetype": "text/x-python",
   "name": "python",
   "nbconvert_exporter": "python",
   "pygments_lexer": "ipython3",
   "version": "3.9.12"
  }
 },
 "nbformat": 4,
 "nbformat_minor": 1
}
