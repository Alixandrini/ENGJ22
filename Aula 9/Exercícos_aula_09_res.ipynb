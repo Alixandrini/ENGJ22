{
 "cells": [
  {
   "cell_type": "markdown",
   "metadata": {
    "colab_type": "text",
    "id": "view-in-github"
   },
   "source": [
    "<a href=\"https://colab.research.google.com/github/Alixandrini/ENGJ22/blob/main/Aula%209/Exerc%C3%ADcos_aula_09_res.ipynb\" target=\"_parent\"><img src=\"https://colab.research.google.com/assets/colab-badge.svg\" alt=\"Open In Colab\"/></a>"
   ]
  },
  {
   "cell_type": "markdown",
   "metadata": {
    "id": "nvSGCMCi-aA6"
   },
   "source": [
    "## Exercícos Propóstos\n",
    "### Exercício 01: Elipese dos erros \n",
    "As coordenadas de dosi vértices $\\ P_1$ e $\\ P_2 $ foram ajustadas resultando na seguinte MVC(decimetros):\n",
    "$$\n",
    "\\begin{bmatrix}\n",
    " \\sigma^2_{x1} &  \\sigma_{x1y1} &  \\sigma_{x1x2}  &  \\sigma_{x1y2} \\\\\n",
    "               &  \\sigma^2_{y1} &  \\sigma_{y1x2}  &  \\sigma_{y1y2} \\\\ \n",
    "               &                &  \\sigma^2_{x2}  & \\sigma_{x2y2}  \\\\ \n",
    "               &                &                 &  \\sigma^2_{y2} \n",
    "\\end{bmatrix} = \\begin{bmatrix}\n",
    " 4,10 &  -0,17 &  4,00  &  -2,20 \\\\\n",
    "      &  4,20  &  2,10  &  3,40 \\\\ \n",
    "      &        &  5,60  & 1,20  \\\\ \n",
    "      &        &        &  4,80 \\end{bmatrix} \n",
    "$$\n",
    "Aqui os elementos abaixo da diagonal principal dforamo omitidos por se tratar de uma matriz simétrica. Sabendo que a distantcia $\\overline{P_1P_2}\\cong $ 5 km\n",
    "e o aximute da direção $P_1P_2 \\cong$ 80$^{\\circ}$, Calcular e desennhar:\n",
    "\n",
    "1.   A elipse dos erros de $P_1$;\n",
    "2.   A elipse dos erros de $P_2$;\n",
    "3.   A elipse relativa.\n",
    "\n",
    "\n",
    "\n",
    "\n",
    "\n"
   ]
  },
  {
   "cell_type": "markdown",
   "metadata": {
    "id": "QQV3PotvOlZc"
   },
   "source": [
    "#### Resolução\n",
    "Vamos relembrar algumas formulas para o calculo das elipses dos erros:\n",
    "\\begin{equation} M=\\sqrt{4\\sigma_{xy}^2+(\\sigma_x^2-\\sigma_y^2)^2} \\\\ \n",
    " t=0,5arctang(\\frac{2\\sigma_{xy}}{(\\sigma_x^2-\\sigma_y^2)}) \\\\  \n",
    " \\sigma_{max}^2=0,5(\\sigma_x^2-\\sigma_y^2)+0,5M \\\\ \n",
    " \\sigma_{min}^2=0,5(\\sigma_x^2-\\sigma_y^2)-0,5M \\end{equation}"
   ]
  },
  {
   "cell_type": "code",
   "execution_count": 2,
   "metadata": {
    "colab": {
     "base_uri": "https://localhost:8080/"
    },
    "id": "ODYGfCl6O4-d",
    "outputId": "f0878aca-d65b-49aa-a16c-a3123cbf4a7c"
   },
   "outputs": [
    {
     "name": "stdout",
     "output_type": "stream",
     "text": [
      "0.9593655015712701 0.2821663239915516\n",
      "36.80522983298257\n",
      "0.9486832980505138 0.31622776601683794\n",
      "35.782525588538995\n"
     ]
    }
   ],
   "source": [
    "import numpy as np\n",
    "MVC=np.matrix([[4.10,-0.17,4.00,-2.20],\n",
    "              [-0.17,4.20,2.10,3.40],\n",
    "              [4.00,2.10,5.60,1.20],\n",
    "              [-2.20,3.40,1.20,4.80]])\n",
    "M1=abs((4*MVC[0,1]**2+(MVC[0,0]-MVC[1,1])**2)**0.5)\n",
    "t1=0.5*np.arctan(2*MVC[0,1]/(MVC[0,0]-MVC[1,1]))\n",
    "smax1=0.5*(MVC[0,0]+MVC[1,1])+0.5*M1\n",
    "smin1=0.5*(MVC[0,0]+MVC[1,1])-0.5*M1\n",
    "\n",
    "print(np.sin(2*t1),np.cos(2*t1))\n",
    "\n",
    "# para trasformar em graus sexagesimais\n",
    "t1=t1*180/np.pi\n",
    "print(t1)\n",
    "M2=abs((4*MVC[2,3]**2+(MVC[2,2]-MVC[3,3])**2)**0.5)\n",
    "t2=0.5*np.arctan(2*MVC[2,3]/(MVC[2,2]-MVC[3,3]))\n",
    "smax2=0.5*(MVC[2,2]+MVC[3,3])+0.5*M2\n",
    "smin2=0.5*(MVC[2,2]+MVC[3,3])-0.5*M2\n",
    "print(np.sin(2*t2),np.cos(2*t2))\n",
    "t2=t2*180/np.pi\n",
    "print(t2)"
   ]
  },
  {
   "cell_type": "markdown",
   "metadata": {
    "id": "9r0GsIuxR0ny"
   },
   "source": [
    "Para a elipse Relativa:\n",
    "\\begin{equation} \n",
    "\\Sigma_{\\Delta} =\\begin{bmatrix}\n",
    "\\sigma_{\\Delta x}^2  & \\sigma_{\\Delta x \\Delta y}  \\\\ \n",
    "  \\sigma_{\\Delta x \\Delta y} & \\sigma_{\\Delta y}^2 \n",
    "\\end{bmatrix} \\\\\n",
    "\\begin{bmatrix}\n",
    " \\sigma_{x1}^2+\\sigma_{x2}^2-2\\sigma_{x1x2}& \\sigma_{x1y1}-\\sigma_{x2y1}-\\sigma_{x1y2}+\\sigma_{x2y2}\\\\ \n",
    " \\sigma_{x1y1}-\\sigma_{x2y1}-\\sigma_{x1y2}+\\sigma_{x2y2}& \\sigma_{y1}^2+\\sigma_{y2}^2-2\\sigma_{y1y2}\n",
    "\\end{bmatrix}\n",
    " \\end{equation}"
   ]
  },
  {
   "cell_type": "code",
   "execution_count": 3,
   "metadata": {
    "colab": {
     "base_uri": "https://localhost:8080/"
    },
    "id": "Y9S_a0OQUMVE",
    "outputId": "6d9348f9-56c8-425b-a90b-cf50fcd80961"
   },
   "outputs": [
    {
     "name": "stdout",
     "output_type": "stream",
     "text": [
      "-0.9763899401446986 0.21601547348334077\n",
      "141.23755485610448\n"
     ]
    }
   ],
   "source": [
    "sdeltax=MVC[0,0]+MVC[2,2]-2*MVC[0,2]\n",
    "sdeltay=MVC[1,1]+MVC[3,3]-2*MVC[1,3]\n",
    "sdeltaxy=MVC[0,1]-MVC[2,1]-MVC[0,3]+MVC[2,3]\n",
    "M3=abs((4*sdeltaxy**2+(sdeltax-sdeltay)**2)**0.5)\n",
    "t3=0.5*np.arctan(2*sdeltaxy/(sdeltax-sdeltay))\n",
    "smax3=0.5*(sdeltax+sdeltay)+0.5*M3\n",
    "smin3=0.5*(sdeltax+sdeltay)-0.5*M3\n",
    "print(np.sin(2*t3),np.cos(2*t3))\n",
    "t3=t3*180/np.pi+180\n",
    "print(t3)"
   ]
  },
  {
   "cell_type": "code",
   "execution_count": 4,
   "metadata": {
    "colab": {
     "base_uri": "https://localhost:8080/",
     "height": 487
    },
    "id": "7YsgQLwBXnQE",
    "outputId": "dbc4f6e6-45be-462a-8eff-653598b5715b"
   },
   "outputs": [
    {
     "data": {
      "image/png": "[encoded data removed]",
      "text/plain": [
       "<Figure size 720x576 with 1 Axes>"
      ]
     },
     "metadata": {
      "needs_background": "light"
     },
     "output_type": "display_data"
    }
   ],
   "source": [
    "import matplotlib.pyplot as plt\n",
    "from matplotlib.patches import Ellipse\n",
    "x=[10,18]\n",
    "y=[11,14]\n",
    "\n",
    "ells = Ellipse((10,11),\n",
    "                width=smax1, height=smin1,\n",
    "                angle=t1)\n",
    "ells1 = Ellipse((18,14),\n",
    "                width=smax2, height=smin2,\n",
    "                angle=t2)\n",
    "fig, ax = plt.subplots()\n",
    "\n",
    "ax.add_artist(ells)\n",
    "ax.add_artist(ells1)\n",
    "#ax.plot(x, y)\n",
    "\n",
    "ax.set_xlim(5, 25)\n",
    "ax.set_ylim(5, 25)\n",
    "plt.text(18, 10, \"elipse 2\", fontsize=10)\n",
    "plt.text(7, 14, \"elipse 1\", fontsize=10)\n",
    "plt.gcf().set_size_inches(10, 8)\n",
    "plt.show()\n"
   ]
  },
  {
   "cell_type": "markdown",
   "metadata": {
    "id": "4mUHlArmF-47"
   },
   "source": [
    "### Exercício 02: Ajustamento de uma Triangulação\n",
    "Ajustar o valor das coordeandas de uma estação de posição desconhecida U. Foram observados os ângulos horizontais a partir de três estações conhecidas R(300,000;1500,000), S(800,000;700,000) e T (1000,000;100,000)conforme a figura a seguir. Os ângulos oservador são $\\alpha_1$=52$^{\\circ}$17'13\" , $\\alpha_2$=100$^{\\circ}$12'04\" , $\\alpha_3$=93$^{\\circ}$22'00\" e $\\alpha_4$=65$^{\\circ}$43'42\". Usar desvio padrão de 10\" para os ângulos observados.\n",
    "\n",
    "<img src=\"https://raw.githubusercontent.com/Alixandrini/ENGJ22/main/Aula%209/triangulação.png\">"
   ]
  },
  {
   "cell_type": "markdown",
   "metadata": {
    "id": "XgnZQiEQOMFU"
   },
   "source": [
    "#### Resolução\n",
    "O modelo matemático funcional a ser adotado é:\n",
    "\\begin{equation}\n",
    "\\alpha_1=arctan\\left ( \\frac{y_R-y_S}{x_S-x_R} \\right )-arctan\\left ( \\frac{y_R-y_U}{x_U-x_R} \\right ) \\\\\n",
    "\\alpha_2=arctan\\left ( \\frac{y_U-y_S}{x_U-x_R} \\right )+arctan\\left ( \\frac{y_S-y_R}{x_R-x_S} \\right )  \\\\\n",
    "\\alpha_3=arctan\\left ( \\frac{y_U-y_S}{x_U-x_S} \\right )+arctan\\left ( \\frac{y_S-y_T}{x_T-x_S} \\right )  \\\\\n",
    "\\alpha_4=arctan\\left ( \\frac{y_T-y_S}{x_S-x_T} \\right )+arctan\\left ( \\frac{y_U-y_T}{x_U-x_T} \\right )\n",
    "\\end{equation}"
   ]
  },
  {
   "cell_type": "code",
   "execution_count": null,
   "metadata": {
    "id": "lpwfCBh2JZFF"
   },
   "outputs": [],
   "source": []
  },
  {
   "cell_type": "markdown",
   "metadata": {
    "id": "JnjE9SsCOBb5"
   },
   "source": [
    "NOTA: Para criar a matriz A a derivação utilizará a regra da cadeia\n",
    "\\begin{equation}\n",
    "f(g(x))'=f'(g(x))g'(x) \\\\\n",
    "\\end{equation}\n",
    "e as seguintes derivadas\n",
    "\\begin{equation}\n",
    "y=\\frac{1}{x} \\therefore y'=-\\frac{1}{x^2} \\\\\n",
    "y=arctang(x) \\therefore y'=\\frac{1}{x^2+1}\n",
    "\\end{equation}"
   ]
  },
  {
   "cell_type": "markdown",
   "metadata": {
    "id": "FiLYtldCF_Ix"
   },
   "source": [
    "### Exercicio 03: Ajustamento de Trilateração\n",
    "Três pontos com as coordenadas conhecidas A(300;1500)m, B(800,700)m e C(1000,100)m foram observados a partir de um ponto U, obtendo distância UA=2009,985m, UB=1615,550m e UC=1769,185m. Determinar as coordenadas ajustadas do ponto U sabendo que as distancias foram obtidas com a precição de 5mm+2ppm.\n"
   ]
  },
  {
   "cell_type": "code",
   "execution_count": 4,
   "metadata": {
    "id": "CBaGE56R-Y9M"
   },
   "outputs": [],
   "source": [
    "import numpy as np\n",
    "import math\n",
    "\n",
    "#não podemos fugir da estimação dos parametros:\n",
    "x0=600;\n",
    "y0=800;\n",
    "X0=np.matrix ([[x0],[y0]]);\n",
    "Dados=np.matrix([[300,1500,2009.985,(5+2*2.009)],\n",
    "                [800,700,1615.550,(5+2*1.615)],\n",
    "                [1000,100,1769.185,(5+2*1.769)]])\n",
    "#A partir desse data frame criar as matrizes P, Lb, XY, L0 e A com looping\n",
    "n=int(Dados.size/4)\n",
    "m=2 #numero de parametros\n",
    "P=np.zeros((n,n))\n",
    "Lb=np.zeros((n,1))\n",
    "XY=np.zeros((n,2))\n",
    "L0=np.zeros((n,1))\n",
    "A=np.zeros((n,m))\n",
    "for i in range(n):\n",
    "  P[i,i]=Dados[i,3]\n",
    "  Lb[i,0]=Dados[i,2]\n",
    "  XY[i,0]=Dados[i,0]\n",
    "  XY[i,1]=Dados[i,1]\n",
    "  L0[i,0]=math.sqrt(((XY[i,0]-X0[0,0])**2)+((XY[i,1]-X0[1,0])**2))\n",
    "  A[i,0]=-(XY[i,0]-X0[0,0])/Lb[i,0]\n",
    "  A[i,1]=-(XY[i,1]-X0[1,0])/Lb[i,0]\n",
    "\n",
    "#Verificação\n",
    "#print(P,'\\n \\n', Lb,'\\n \\n', A,'\\n \\n',L0)"
   ]
  },
  {
   "cell_type": "code",
   "execution_count": 6,
   "metadata": {},
   "outputs": [
    {
     "name": "stdout",
     "output_type": "stream",
     "text": [
      "Matriz Xa:\n",
      " [[-18689.06428805]\n",
      " [ -9334.23679754]]\n"
     ]
    }
   ],
   "source": [
    "#aplicando as operações matriciais com o sistema de equações normais obtemos:\n",
    "L=L0-Lb\n",
    "N=np.dot(np.dot(A.T,P),A)\n",
    "#print(\"Matriz N:\\n\",N)\n",
    "U=np.dot(np.dot(A.T,P),L)\n",
    "#print(\"Matriz U:\\n\",U)\n",
    "X=-np.dot(np.linalg.inv(N),U)\n",
    "Xa=X0+X\n",
    "print(\"Matriz Xa:\\n\",Xa)"
   ]
  },
  {
   "cell_type": "code",
   "execution_count": null,
   "metadata": {},
   "outputs": [],
   "source": []
  }
 ],
 "metadata": {
  "colab": {
   "authorship_tag": "ABX9TyO3V4ugVrmEIuqvYq+Ou5fy",
   "include_colab_link": true,
   "name": "Exercícos_aula 09_res.ipynb",
   "provenance": []
  },
  "kernelspec": {
   "display_name": "Python 3 (ipykernel)",
   "language": "python",
   "name": "python3"
  },
  "language_info": {
   "codemirror_mode": {
    "name": "ipython",
    "version": 3
   },
   "file_extension": ".py",
   "mimetype": "text/x-python",
   "name": "python",
   "nbconvert_exporter": "python",
   "pygments_lexer": "ipython3",
   "version": "3.9.12"
  }
 },
 "nbformat": 4,
 "nbformat_minor": 1
}
