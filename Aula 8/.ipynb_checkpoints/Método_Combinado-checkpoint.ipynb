{
 "cells": [
  {
   "cell_type": "markdown",
   "metadata": {
    "colab_type": "text",
    "id": "view-in-github"
   },
   "source": [
    "<a href=\"https://colab.research.google.com/github/Alixandrini/ENGJ22/blob/main/Aula%208/M%C3%A9todo_Combinado.ipynb\" target=\"_parent\"><img src=\"https://colab.research.google.com/assets/colab-badge.svg\" alt=\"Open In Colab\"/></a>"
   ]
  },
  {
   "cell_type": "markdown",
   "metadata": {
    "id": "8vGw9l2mNYMd"
   },
   "source": [
    "#Método Combinado\n",
    "No método combinado o modelo matemático estocástico é o $\\ F(X_a,L_a)= 0 $ assim combinando os métodos Paramétrico e Correlato vistos anteriormente. Para esse método utilizaremos um sistema de equações normais que utilizam as matrizes vistas nos métodos anteriores:\n",
    "\\begin{equation}\n",
    " W=F(L_{b},X_{0}) \\\\\n",
    " M=BP^{-1}B^{T} \\\\\n",
    " X=-(A^{T}M^{-1}A)A^{T}M^{-1}W \\\\\n",
    " K=-M^{-1}(AX+W) \\\\\n",
    " V=P^{-1}B^{T}K \\\\\n",
    " X_a=X_0+X \\\\\n",
    " L_a=L_b+V\n",
    " \\end{equation}\n"
   ]
  },
  {
   "cell_type": "code",
   "execution_count": 3,
   "metadata": {
    "colab": {
     "base_uri": "https://localhost:8080/"
    },
    "id": "oJdoYNxWNXJb",
    "outputId": "12029be5-315d-4f12-efa6-6773ad6f9848"
   },
   "outputs": [],
   "source": [
    "import numpy as np\n",
    "Lb= np.matrix([[16.5],[3.8],[20.4],[10],[8]])\n",
    "X0=np.matrix([[8],[50]])\n",
    "W=np.zeros((3,1))\n",
    "f=100\n",
    "W[0,0]=Lb[0,0]*X0[1,0]-(f*X0[0,0])\n",
    "W[1,0]=Lb[1,0]*X0[1,0]-(f*(Lb[3,0]-X0[0,0]))\n",
    "W[2,0]=Lb[2,0]*X0[1,0]-(f*(Lb[3,0]+Lb[4,0]-X0[0,0]))\n",
    "A=np.matrix([[-f,Lb[0,0]],[f,Lb[1,0]],[f,Lb[2,0]]])\n",
    "B=np.matrix([[X0[1,0],0,0,0,0],[0,X0[1,0],0,-f,0],[0,0,X0[1,0],-f,-f]])\n",
    "P=np.matrix([[0.01,0,0,0,0],[0,0.01,0,0,0],[0,0,0.01,0,0],[0,0,0,0.0025,0],[0,0,0,0,0.0025]])\n"
   ]
  },
  {
   "cell_type": "code",
   "execution_count": 4,
   "metadata": {
    "colab": {
     "background_save": true
    },
    "id": "eqIZMEA2fezZ"
   },
   "outputs": [],
   "source": [
    "#Equações Normais\n",
    "M=np.dot(np.dot(B,P),B.T);\n",
    "M1=np.linalg.inv(M)\n",
    "X=-np.dot(np.dot(np.dot((np.linalg.inv(np.dot(np.dot(A.T,M1),A))),A.T),M1),W)\n",
    "Xa=X0+X\n"
   ]
  },
  {
   "cell_type": "code",
   "execution_count": 5,
   "metadata": {
    "id": "iygecw8cie9s"
   },
   "outputs": [],
   "source": [
    "#iterações\n",
    "n=10\n",
    "for i in range(n):\n",
    "  X0=Xa\n",
    "  W[0,0]=Lb[0,0]*X0[1,0]-(f*X0[0,0])\n",
    "  W[1,0]=Lb[1,0]*X0[1,0]-(f*(Lb[3,0]-X0[0,0]))\n",
    "  W[2,0]=Lb[2,0]*X0[1,0]-(f*(Lb[3,0]+Lb[4,0]-X0[0,0]))\n",
    "  A=np.matrix([[-f,Lb[0,0]],[f,Lb[1,0]],[f,Lb[2,0]]])\n",
    "  B=np.matrix([[X0[1,0],0,0,0,0],[0,X0[1,0],0,-f,0],[0,0,X0[1,0],-f,-f]])\n",
    "  M=np.dot(np.dot(B,P),B.T);\n",
    "  M1=np.linalg.inv(M)\n",
    "  X=-np.dot(np.dot(np.dot((np.linalg.inv(np.dot(np.dot(A.T,M1),A))),A.T),M1),W)\n",
    "  Xa=X0+X"
   ]
  },
  {
   "cell_type": "code",
   "execution_count": 6,
   "metadata": {},
   "outputs": [
    {
     "name": "stdout",
     "output_type": "stream",
     "text": [
      "[[ 8.07475257]\n",
      " [48.80718679]]\n"
     ]
    }
   ],
   "source": [
    "print(Xa)"
   ]
  },
  {
   "cell_type": "code",
   "execution_count": 21,
   "metadata": {
    "colab": {
     "background_save": true
    },
    "id": "zQ8DhUVc2tRj",
    "outputId": "9213a1d5-2495-48d8-c007-2ec8b0041568"
   },
   "outputs": [
    {
     "name": "stdout",
     "output_type": "stream",
     "text": [
      "[[0.00121768 0.00328775]\n",
      " [0.00328775 0.04669535]]\n"
     ]
    }
   ],
   "source": [
    "#Cálculo dos demais valores\n",
    "K=np.dot(-M1,(np.dot(A,X)+W))\n",
    "#residuos das observações ajustadas\n",
    "V=np.dot(np.dot(P1,B.T),K)\n",
    "#Sigma 0 a posteriori\n",
    "r=5\n",
    "u=2\n",
    "s0p=-np.dot(K.T,W)/(r-u)\n",
    "#Matriz Variância Covariâncias dos Parâmetros Ajustados\n",
    "SigXa=np.dot(s0p.item(),np.linalg.inv(np.dot(np.dot(A.T,M1),A)))\n",
    "print(SigXa)\n"
   ]
  },
  {
   "cell_type": "code",
   "execution_count": null,
   "metadata": {},
   "outputs": [],
   "source": []
  },
  {
   "cell_type": "code",
   "execution_count": null,
   "metadata": {},
   "outputs": [],
   "source": []
  }
 ],
 "metadata": {
  "colab": {
   "authorship_tag": "ABX9TyMx+BGw7+jAaj2iQDNIe3s5",
   "include_colab_link": true,
   "name": "Método Combinado.ipynb",
   "provenance": []
  },
  "kernelspec": {
   "display_name": "Python 3 (ipykernel)",
   "language": "python",
   "name": "python3"
  },
  "language_info": {
   "codemirror_mode": {
    "name": "ipython",
    "version": 3
   },
   "file_extension": ".py",
   "mimetype": "text/x-python",
   "name": "python",
   "nbconvert_exporter": "python",
   "pygments_lexer": "ipython3",
   "version": "3.9.12"
  }
 },
 "nbformat": 4,
 "nbformat_minor": 1
}
