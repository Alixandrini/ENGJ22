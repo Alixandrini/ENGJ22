{
  "cells": [
    {
      "cell_type": "markdown",
      "metadata": {
        "id": "view-in-github",
        "colab_type": "text"
      },
      "source": [
        "<a href=\"https://colab.research.google.com/github/Alixandrini/ENGJ22/blob/main/Aula%208/M%C3%A9todo_Combinado.ipynb\" target=\"_parent\"><img src=\"https://colab.research.google.com/assets/colab-badge.svg\" alt=\"Open In Colab\"/></a>"
      ]
    },
    {
      "cell_type": "markdown",
      "metadata": {
        "id": "8vGw9l2mNYMd"
      },
      "source": [
        "#Método Combinado\n",
        "No método combinado o modelo matemático estocástico é o $\\ F(X_a,L_a)= 0 $ assim combinando os métodos Paramétrico e Correlato vistos anteriormente. Para esse método utilizaremos um sistema de equações normais que utilizam as matrizes vistas nos métodos anteriores:\n",
        "\\begin{equation}\n",
        " W=F(L_{b},X_{0}) \\\\\n",
        " M=BP^{-1}B^{T} \\\\\n",
        " X=-(A^{T}M^{-1}A)A^{T}M^{-1}W \\\\\n",
        " K=-M^{-1}(AX+W) \\\\\n",
        " V=P^{-1}B^{T}K \\\\\n",
        " X_a=X_0+X \\\\\n",
        " L_a=L_b+V\n",
        " \\end{equation}\n"
      ]
    },
    {
      "cell_type": "code",
      "execution_count": null,
      "metadata": {
        "colab": {
          "base_uri": "https://localhost:8080/"
        },
        "id": "oJdoYNxWNXJb",
        "outputId": "12029be5-315d-4f12-efa6-6773ad6f9848"
      },
      "outputs": [
        {
          "data": {
            "text/plain": [
              "matrix([[0.01  , 0.    , 0.    , 0.    , 0.    ],\n",
              "        [0.    , 0.01  , 0.    , 0.    , 0.    ],\n",
              "        [0.    , 0.    , 0.01  , 0.    , 0.    ],\n",
              "        [0.    , 0.    , 0.    , 0.0025, 0.    ],\n",
              "        [0.    , 0.    , 0.    , 0.    , 0.0025]])"
            ]
          },
          "execution_count": 9,
          "metadata": {},
          "output_type": "execute_result"
        }
      ],
      "source": [
        "import numpy as np\n",
        "Lb= np.matrix([[16.5],[3.8],[20.4],[10],[8]])\n",
        "X0=np.matrix([[8],[50]])\n",
        "W=np.zeros((3,1))\n",
        "f=100\n",
        "W[0,0]=Lb[0,0]*X0[1,0]-(f*X0[0,0])\n",
        "W[1,0]=Lb[1,0]*X0[1,0]-(f*(Lb[3,0]-X0[0,0]))\n",
        "W[2,0]=Lb[2,0]*X0[1,0]-(f*(Lb[3,0]+Lb[4,0]-X0[0,0]))\n",
        "A=np.matrix([[-f,Lb[0,0]],[f,Lb[1,0]],[f,Lb[2,0]]])\n",
        "B=np.matrix([[X0[1,0],0,0,0,0],[0,X0[1,0],0,-f,0],[0,0,X0[1,0],-f,-f]])\n",
        "P1=np.matrix([[0.01,0,0,0,0],[0,0.01,0,0,0],[0,0,0.01,0,0],[0,0,0,0.0025,0],[0,0,0,0,0.0025]])\n"
      ]
    },
    {
      "cell_type": "code",
      "execution_count": null,
      "metadata": {
        "colab": {
          "background_save": true
        },
        "id": "eqIZMEA2fezZ"
      },
      "outputs": [],
      "source": [
        "#Equações Normais\n",
        "M=np.dot(np.dot(B,P),B.T);\n",
        "M1=np.linalg.inv(M)\n",
        "X=-np.dot(np.dot(np.dot((np.linalg.inv(np.dot(np.dot(A.T,M1),A))),A.T),M1),W)\n",
        "Xa=X0+X\n"
      ]
    },
    {
      "cell_type": "code",
      "execution_count": null,
      "metadata": {
        "id": "iygecw8cie9s"
      },
      "outputs": [],
      "source": [
        "#iterações\n",
        "n=10\n",
        "for i in range(n):\n",
        "  X0=Xa\n",
        "  W[0,0]=Lb[0,0]*X0[1,0]-(f*X0[0,0])\n",
        "  W[1,0]=Lb[1,0]*X0[1,0]-(f*(Lb[3,0]-X0[0,0]))\n",
        "  W[2,0]=Lb[2,0]*X0[1,0]-(f*(Lb[3,0]+Lb[4,0]-X0[0,0]))\n",
        "  A=np.matrix([[-f,Lb[0,0]],[f,Lb[1,0]],[f,Lb[2,0]]])\n",
        "  B=np.matrix([[X0[1,0],0,0,0,0],[0,X0[1,0],0,-f,0],[0,0,X0[1,0],-f,-f]])\n",
        "  M=np.dot(np.dot(B,P),B.T);\n",
        "  M1=np.linalg.inv(M)\n",
        "  X=-np.dot(np.dot(np.dot((np.linalg.inv(np.dot(np.dot(A.T,M1),A))),A.T),M1),W)\n",
        "  Xa=X0+X"
      ]
    },
    {
      "cell_type": "code",
      "execution_count": null,
      "metadata": {
        "colab": {
          "background_save": true
        },
        "id": "zQ8DhUVc2tRj",
        "outputId": "9213a1d5-2495-48d8-c007-2ec8b0041568"
      },
      "outputs": [
        {
          "data": {
            "text/plain": [
              "matrix([[0.00186055, 0.00502352],\n",
              "        [0.00502352, 0.07134825]])"
            ]
          },
          "execution_count": null,
          "metadata": {},
          "output_type": "execute_result"
        }
      ],
      "source": [
        "#Cálculo dos demais valores\n",
        "K=np.dot(-M1,(np.dot(A,X)+W))\n",
        "#residuos das observações ajustadas\n",
        "V=np.dot(np.dot(P1,B.T),K)\n",
        "#Sigma 0 a posteriori\n",
        "r=5\n",
        "u=2\n",
        "s0p=-np.dot(K.T,W)/(r-u)\n",
        "#Matriz Variância Covariâncias dos Parâmetros Ajustados\n",
        "SigXa=s0p*np.linalg.inv(np.dot(np.dot(A.T,M1),A))"
      ]
    }
  ],
  "metadata": {
    "colab": {
      "name": "Método Combinado.ipynb",
      "provenance": [],
      "authorship_tag": "ABX9TyMx+BGw7+jAaj2iQDNIe3s5",
      "include_colab_link": true
    },
    "kernelspec": {
      "display_name": "Python 3",
      "name": "python3"
    },
    "language_info": {
      "name": "python"
    }
  },
  "nbformat": 4,
  "nbformat_minor": 0
}