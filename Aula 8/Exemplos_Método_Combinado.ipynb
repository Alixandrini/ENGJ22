{
  "cells": [
    {
      "cell_type": "markdown",
      "source": [
        "**Exemplo 01: Transformação de Helmert 2D**\n",
        "\n",
        "A transformação de Helmert 2D é utilizada para converter coordenadas de um sistema para outro, considerando translação, rotação e escala. Vamos ajustar os parâmetros dessa transformação a partir de um conjunto de pontos com coordenadas conhecidas em ambos os sistemas.\n",
        "\n",
        "**1. Dados de Entrada:**\n",
        "\n",
        "| Ponto | X (Sistema 1) | Y (Sistema 1) | X (Sistema 2) | Y (Sistema 2) |\n",
        "|---|---|---|---|---|\n",
        "| 1 | 1000.00 | 2000.00 | 1005.25 | 1998.50 |\n",
        "| 2 | 2500.00 | 3000.00 | 2506.75 | 2997.25 |\n",
        "| 3 | 4000.00 | 1500.00 | 4008.00 | 1496.00 |\n",
        "\n",
        "**2. Modelo Matemático:**\n",
        "\n",
        "A transformação de Helmert 2D é definida por:\n",
        "\n",
        "```\n",
        "X2 = TX + (1 + S) * (X1 * cos(R) - Y1 * sin(R))\n",
        "Y2 = TY + (1 + S) * (X1 * sin(R) + Y1 * cos(R))\n",
        "```\n",
        "\n",
        "Onde:\n",
        "\n",
        "* X1, Y1: Coordenadas no sistema 1\n",
        "* X2, Y2: Coordenadas no sistema 2\n",
        "* TX, TY: Parâmetros de translação\n",
        "* R: Parâmetro de rotação\n",
        "* S: Parâmetro de escala\n",
        "\n",
        "**3. Implementação em Python (usando a biblioteca SciPy):**"
      ],
      "metadata": {
        "id": "EFity9_80g2s"
      }
    },
    {
      "cell_type": "code",
      "source": [
        "import numpy as np\n",
        "from scipy.optimize import least_squares\n",
        "\n",
        "# Dados de entrada\n",
        "X1 = np.array([1000.00, 2500.00, 4000.00])\n",
        "Y1 = np.array([2000.00, 3000.00, 1500.00])\n",
        "X2 = np.array([1005.25, 2506.75, 4008.00])\n",
        "Y2 = np.array([1998.50, 2997.25, 1496.00])\n",
        "\n",
        "# Valores iniciais para os parâmetros\n",
        "TX_0, TY_0, R_0, S_0 = 0, 0, 0, 0\n",
        "\n",
        "# Função para calcular os resíduos\n",
        "def residuos(params, X1, Y1, X2, Y2):\n",
        "    TX, TY, R, S = params\n",
        "    res_X = TX + (1 + S) * (X1 * np.cos(R) - Y1 * np.sin(R)) - X2\n",
        "    res_Y = TY + (1 + S) * (X1 * np.sin(R) + Y1 * np.cos(R)) - Y2\n",
        "    return np.concatenate((res_X, res_Y))\n",
        "\n",
        "# Ajustamento\n",
        "resultado = least_squares(residuos, [TX_0, TY_0, R_0, S_0], args=(X1, Y1, X2, Y2))\n",
        "\n",
        "# Parâmetros ajustados\n",
        "TX, TY, R, S = resultado.x\n",
        "print(\"Parâmetros ajustados (TX, TY, R, S):\", TX, TY, np.degrees(R), S)"
      ],
      "outputs": [
        {
          "output_type": "stream",
          "name": "stdout",
          "text": [
            "Parâmetros ajustados (TX, TY, R, S): 3.3602954678547317 -3.1691176487402437 -0.031991397026070505 0.0008383910427413169\n"
          ]
        }
      ],
      "execution_count": 1,
      "metadata": {
        "colab": {
          "base_uri": "https://localhost:8080/"
        },
        "id": "EgNyff6l0g24",
        "outputId": "17ad7ba2-58a9-4085-e8d3-e9373da2da03"
      }
    },
    {
      "cell_type": "markdown",
      "source": [
        "**4. Explicação do Código:**\n",
        "\n",
        "* **Dados de Entrada:** Define as coordenadas dos pontos em ambos os sistemas.\n",
        "* **Valores Iniciais:** Define estimativas iniciais para os parâmetros da transformação.\n",
        "* **Função `residuos`:** Calcula os resíduos para as coordenadas X e Y.\n",
        "* **Ajustamento:** Utiliza a função `least_squares` para encontrar os parâmetros que minimizam a soma dos quadrados dos resíduos.\n",
        "\n",
        "**5. Resultados:**\n",
        "\n",
        "O código fornecerá os parâmetros ajustados da transformação de Helmert 2D (TX, TY, R, S), que podem ser utilizados para converter coordenadas entre os dois sistemas com maior precisão.\n",
        "\n",
        "**Observações:**\n",
        "\n",
        "* A transformação de Helmert 2D é um caso particular de transformação conforme, que preserva ângulos.\n",
        "* É possível adicionar pesos às observações para considerar diferentes precisões.\n",
        "* A análise dos resíduos e da matriz de variância-covariância dos parâmetros ajustados permite avaliar a qualidade do ajustamento."
      ],
      "metadata": {
        "id": "52pLMufm0g27"
      }
    },
    {
      "cell_type": "markdown",
      "source": [
        "**Exemplo 02: Ajustamento de uma Rede de Triangulação**\n",
        "\n",
        "Consideremos uma rede de triangulação com três pontos (A, B e C), cujas coordenadas são conhecidas, e um ponto novo (P) cujas coordenadas desejamos determinar. Foram realizadas as seguintes medições:\n",
        "\n",
        "* Distâncias:\n",
        "    * dAP = 1500.25 m\n",
        "    * dBP = 1200.50 m\n",
        "    * dCP = 1800.75 m\n",
        "* Ângulos:\n",
        "    * αABP = 45° 10' 20\"\n",
        "    * αBCP = 60° 30' 40\"\n",
        "\n",
        "**1. Implementação em Python (usando a biblioteca SciPy):**"
      ],
      "metadata": {
        "id": "tR0i3ty51FqS"
      }
    },
    {
      "cell_type": "code",
      "source": [
        "import numpy as np\n",
        "from scipy.optimize import least_squares\n",
        "\n",
        "# Dados de entrada (observações)\n",
        "L = np.array([1500.25, 1200.50, 1800.75, np.radians(45 + 10/60 + 20/3600), np.radians(60 + 30/60 + 40/3600)])\n",
        "P = np.diag([1, 1, 1, 1, 1])  # Matriz peso (considerando igual precisão)\n",
        "\n",
        "# Coordenadas dos pontos conhecidos\n",
        "XA, YA = 1000, 1000\n",
        "XB, YB = 2000, 1500\n",
        "XC, YC = 3000, 1000\n",
        "\n",
        "# Valores iniciais para as coordenadas de P\n",
        "XP_0, YP_0 = 2500, 1200\n",
        "\n",
        "# Função para calcular os resíduos\n",
        "def residuos(X, L, XA, YA, XB, YB, XC, YC):\n",
        "    XP, YP = X\n",
        "    res = np.zeros(5)\n",
        "    res[0] = np.sqrt((XP - XA)**2 + (YP - YA)**2) - L[0]\n",
        "    res[1] = np.sqrt((XP - XB)**2 + (YP - YB)**2) - L[1]\n",
        "    res[2] = np.sqrt((XP - XC)**2 + (YP - YC)**2) - L[2]\n",
        "    res[3] = np.arctan2(YP - YA, XP - XA) - np.arctan2(YB - YA, XB - XA) - L[3]\n",
        "    res[4] = np.arctan2(YP - YC, XP - XC) - np.arctan2(YB - YC, XB - YC) - L[4]\n",
        "    return res\n",
        "\n",
        "# Ajustamento pelo método combinado\n",
        "resultado = least_squares(residuos, [XP_0, YP_0], args=(L, XA, YA, XB, YB, XC, YC), method='trf')\n",
        "\n",
        "# Coordenadas ajustadas de P\n",
        "XP, YP = resultado.x\n",
        "print(\"Coordenadas ajustadas de P (XP, YP):\", XP, YP)"
      ],
      "metadata": {
        "id": "v24NGXDp1di9"
      },
      "execution_count": null,
      "outputs": []
    },
    {
      "cell_type": "markdown",
      "source": [
        "**2. Explicação do Código:**\n",
        "\n",
        "* **Dados de Entrada:** Define as observações (distâncias e ângulos) e a matriz peso.\n",
        "* **Coordenadas Conhecidas:** Define as coordenadas dos pontos A, B e C.\n",
        "* **Valores Iniciais:** Define estimativas iniciais para as coordenadas de P.\n",
        "* **Função `residuos`:** Calcula os resíduos (diferenças entre valores observados e calculados) para cada observação.\n",
        "* **Ajustamento:** Utiliza a função `least_squares` da biblioteca SciPy para minimizar a soma dos quadrados dos resíduos, encontrando as coordenadas ajustadas de P.\n",
        "\n",
        "**3. Resultados:**\n",
        "\n",
        "O código fornecerá as coordenadas ajustadas do ponto P (XP, YP), que representam a solução do problema de ajustamento pelo método combinado.\n",
        "\n",
        "**Observações:**\n",
        "\n",
        "* O método combinado é versátil e pode ser aplicado a diversos problemas de ajustamento em geodésia.\n",
        "* A qualidade do ajustamento pode ser avaliada pela análise dos resíduos e da matriz de variância-covariância dos parâmetros ajustados."
      ],
      "metadata": {
        "id": "T7XZY3N21iYa"
      }
    },
    {
      "cell_type": "markdown",
      "source": [
        "**Exemplo 03: Transformação de Helmert 7 Parâmetros (3D)**\n",
        "\n",
        "A transformação de Helmert 7 parâmetros é uma extensão da transformação 2D, incluindo um parâmetro de escala para cada eixo e três parâmetros de rotação (em torno dos eixos X, Y e Z).\n",
        "\n",
        "**1. Dados de Entrada:**\n",
        "\n",
        "Vamos considerar um conjunto de 10 pontos com coordenadas conhecidas em dois sistemas de referência (Sistema 1 e Sistema 2):\n",
        "\n",
        "| Ponto | X (Sistema 1) | Y (Sistema 1) | Z (Sistema 1) | X (Sistema 2) | Y (Sistema 2) | Z (Sistema 2) |\n",
        "|---|---|---|---|---|---|---|\n",
        "| 1 | 1000.00 | 2000.00 | 500.00 | 1005.25 | 1998.50 | 501.50 |\n",
        "| 2 | 2500.00 | 3000.00 | 800.00 | 2506.75 | 2997.25 | 802.00 |\n",
        "| 3 | 4000.00 | 1500.00 | 300.00 | 4008.00 | 1496.00 | 301.00 |\n",
        "| ... | ... | ... | ... | ... | ... | ... |\n",
        "| 10 | 5500.00 | 4500.00 | 1200.00 | 5509.50 | 4495.75 | 1203.00 |\n",
        "\n",
        "**2. Modelo Matemático:**\n",
        "\n",
        "A transformação de Helmert 7 parâmetros é definida por:\n",
        "\n",
        "```\n",
        "X2 = TX + (1 + SX) * (X1 * cos(RZ) - Y1 * sin(RZ))\n",
        "Y2 = TY + (1 + SY) * (X1 * sin(RZ) + Y1 * cos(RZ))\n",
        "Z2 = TZ + (1 + SZ) * Z1 + X1 * (-RX * sin(RZ) - RY * cos(RZ)) + Y1 * (RX * cos(RZ) - RY * sin(RZ))\n",
        "```\n",
        "\n",
        "Onde:\n",
        "\n",
        "* X1, Y1, Z1: Coordenadas no sistema 1\n",
        "* X2, Y2, Z2: Coordenadas no sistema 2\n",
        "* TX, TY, TZ: Parâmetros de translação\n",
        "* RX, RY, RZ: Parâmetros de rotação (em radianos)\n",
        "* SX, SY, SZ: Parâmetros de escala\n",
        "\n",
        "**3. Implementação em Python (usando a biblioteca SciPy):**"
      ],
      "metadata": {
        "id": "Up8Ig4t_2--I"
      }
    },
    {
      "cell_type": "code",
      "source": [
        "import numpy as np\n",
        "from scipy.optimize import least_squares\n",
        "\n",
        "# Dados de entrada (substitua pelos seus dados)\n",
        "X1 = np.array([...])\n",
        "Y1 = np.array([...])\n",
        "Z1 = np.array([...])\n",
        "X2 = np.array([...])\n",
        "Y2 = np.array([...])\n",
        "Z2 = np.array([...])\n",
        "\n",
        "# Valores iniciais para os parâmetros\n",
        "TX_0, TY_0, TZ_0, RX_0, RY_0, RZ_0, SX_0, SY_0, SZ_0 = 0, 0, 0, 0, 0, 0, 0, 0, 0\n",
        "\n",
        "# Função para calcular os resíduos\n",
        "def residuos(params, X1, Y1, Z1, X2, Y2, Z2):\n",
        "    TX, TY, TZ, RX, RY, RZ, SX, SY, SZ = params\n",
        "    res_X = TX + (1 + SX) * (X1 * np.cos(RZ) - Y1 * np.sin(RZ)) - X2\n",
        "    res_Y = TY + (1 + SY) * (X1 * np.sin(RZ) + Y1 * np.cos(RZ)) - Y2\n",
        "    res_Z = TZ + (1 + SZ) * Z1 + X1 * (-RX * np.sin(RZ) - RY * np.cos(RZ)) + Y1 * (RX * cos(RZ) - RY * sin(RZ))  - Z2\n",
        "    return np.concatenate((res_X, res_Y, res_Z))\n",
        "\n",
        "# Ajustamento\n",
        "resultado = least_squares(residuos, [TX_0, TY_0, TZ_0, RX_0, RY_0, RZ_0, SX_0, SY_0, SZ_0], args=(X1, Y1, Z1, X2, Y2, Z2))\n",
        "\n",
        "# Parâmetros ajustados\n",
        "TX, TY, TZ, RX, RY, RZ, SX, SY, SZ = resultado.x\n",
        "print(\"Parâmetros ajustados (TX, TY, TZ, RX, RY, RZ, SX, SY, SZ):\", TX, TY, TZ, np.degrees(RX), np.degrees(RY), np.degrees(RZ), SX, SY, SZ)"
      ],
      "metadata": {
        "id": "IbxmWK-33AIe"
      },
      "execution_count": null,
      "outputs": []
    },
    {
      "cell_type": "markdown",
      "source": [
        "2. Explicação do Código:\n",
        "\n",
        "Dados de Entrada: Define as observações (distâncias e ângulos) e a matriz peso.\n",
        "Coordenadas Conhecidas: Define as coordenadas dos pontos A, B e C.\n",
        "Valores Iniciais: Define estimativas iniciais para as coordenadas de P.\n",
        "Função residuos: Calcula os resíduos (diferenças entre valores observados e calculados) para cada observação.\n",
        "Ajustamento: Utiliza a função least_squares da biblioteca SciPy para minimizar a soma dos quadrados dos resíduos, encontrando as coordenadas ajustadas de P.\n",
        "3. Resultados:\n",
        "\n",
        "O código fornecerá as coordenadas ajustadas do ponto P (XP, YP), que representam a solução do problema de ajustamento pelo método combinado.\n",
        "\n",
        "Para testar o código aplique o seguinte conjunto de dados:\n",
        "Sistema 1 (X1, Y1, Z1):\n",
        "\n",
        "1: 2872.70, 1102.92, 1111.85\n",
        "2: 5753.57, 5849.55, 639.49\n",
        "3: 4659.97, 5162.21, 792.14\n",
        "4: 3993.29, 2061.70, 866.36\n",
        "5: 1780.09, 1909.12, 956.07\n",
        "6: 1779.97, 1917.02, 1285.18\n",
        "7: 1290.42, 2521.21, 699.67\n",
        "8: 5330.88, 3623.78, 1014.23\n",
        "9: 4005.58, 3159.73, 1092.41\n",
        "10: 4540.36, 2456.15, 546.45\n",
        "\n",
        "Sistema 2 (X2, Y2, Z2):\n",
        "\n",
        "1: 2877.53, 1100.40, 1114.77\n",
        "2: 5757.61, 5847.42, 645.58\n",
        "3: 4664.11, 5159.91, 797.41\n",
        "4: 3997.97, 2059.35, 870.18\n",
        "5: 1784.77, 1906.40, 958.70\n",
        "6: 1784.67, 1914.30, 1287.81\n",
        "7: 1294.99, 2518.38, 702.24\n",
        "8: 5335.29, 3621.64, 1019.33\n",
        "9: 4010.07, 3157.35, 1096.66\n",
        "10: 4544.97, 2453.88, 550.71\n",
        "\n",
        "Observações:\n",
        "\n",
        "O método combinado é versátil e pode ser aplicado a diversos problemas de ajustamento em geodésia.\n",
        "A qualidade do ajustamento pode ser avaliada pela análise dos resíduos e da matriz de variância-covariância dos parâmetros ajustados."
      ],
      "metadata": {
        "id": "rPxGl-Iu3VDe"
      }
    }
  ],
  "metadata": {
    "colab": {
      "provenance": []
    },
    "kernelspec": {
      "display_name": "Python 3",
      "name": "python3"
    }
  },
  "nbformat": 4,
  "nbformat_minor": 0
}