{
 "cells": [
  {
   "cell_type": "markdown",
   "metadata": {
    "slideshow": {
     "slide_type": "slide"
    }
   },
   "source": [
    "# AJUSTAMENTO PARAMÉTRICO\n",
    "UNIVERSIDADE FEDERAL DA BAHIA <br>\n",
    "DISCIPLINA: AJUSTAMENTO DE OBSERVAÇÕES GEODÉSICAS B <br>\n",
    "DOCENTE: MAURO ALIXANDRINI\n",
    "\n",
    "## Exercício 01\n",
    "\n",
    "<img src=\"../Aula 4/ex1.jpg\" tittle=\"nome da imagem\">\n"
   ]
  },
  {
   "cell_type": "markdown",
   "metadata": {
    "slideshow": {
     "slide_type": "slide"
    }
   },
   "source": [
    "## Resolução\n",
    "Primeiro vamos encontrar nosso modelo matemático:\n",
    "Vamos descrever uma transformação de A para B onde tenhamos um ponto de origem e uma escala equivalente de B para A.\n",
    "$$ B_i = A_i.e + c $$\n",
    "onde:<br>\n",
    "$e$ = é a escala;<br>\n",
    "$c$ = é a constante de origem.\n",
    " Os valores de $B_i$ são nossas observações, $e$ e $c$ nossos parâmetros.\n",
    " $$    \n",
    "\\begin{bmatrix}\n",
    "63.10\\\\\n",
    "89.15\\\\\n",
    "141.40\\\\\n",
    "193.45\\\\\n",
    "219.50\\\\\n",
    "245.60\n",
    "\\end{bmatrix} = e\n",
    ".\\begin{bmatrix}\n",
    "7\\\\\n",
    "8\\\\\n",
    "9\\\\\n",
    "10\\\\\n",
    "11\\\\\n",
    "12\n",
    "\\end{bmatrix}+c\n",
    " $$"
   ]
  },
  {
   "cell_type": "code",
   "execution_count": 7,
   "metadata": {
    "ExecuteTime": {
     "end_time": "2021-03-31T18:00:07.739881Z",
     "start_time": "2021-03-31T18:00:07.724287Z"
    },
    "slideshow": {
     "slide_type": "slide"
    }
   },
   "outputs": [],
   "source": [
    "## A matriz Lb é a matriz das observações:\n",
    "import numpy as np\n",
    "\n",
    "Lb=np.matrix ([[63.10],[89.15],[141.40],[193.45],[219.5],[245.60]]);\n",
    "X0=np.matrix([[89.15-63.10],[63.10]])\n",
    "L0=np.matrix ([[0],[0],[0],[0],[0],[0]]);\n",
    "L0[0][0]=X0[0][0]*7+X0[1][0]\n",
    "L0[1][0]=X0[0][0]*8+X0[1][0]\n",
    "L0[2][0]=X0[0][0]*9+X0[1][0]\n",
    "L0[3][0]=X0[0][0]*10+X0[1][0]\n",
    "L0[4][0]=X0[0][0]*11+X0[1][0]\n",
    "L0[5][0]=X0[0][0]*12+X0[1][0]"
   ]
  },
  {
   "cell_type": "code",
   "execution_count": 8,
   "metadata": {
    "ExecuteTime": {
     "end_time": "2021-03-31T18:00:08.508288Z",
     "start_time": "2021-03-31T18:00:08.492698Z"
    },
    "slideshow": {
     "slide_type": "slide"
    }
   },
   "outputs": [],
   "source": [
    "## A matriz P é a matriz dos pesos, ela é uma matriz quadrada \n",
    "##construída a partir do inverso do variância da minhas observações\n",
    "## no caso temos observações independêntes e por isso nossa matriz P é diagonal:\n",
    "P=np.eye(6);\n"
   ]
  },
  {
   "cell_type": "code",
   "execution_count": 12,
   "metadata": {
    "ExecuteTime": {
     "end_time": "2021-03-31T18:00:11.428672Z",
     "start_time": "2021-03-31T18:00:11.397516Z"
    },
    "slideshow": {
     "slide_type": "slide"
    }
   },
   "outputs": [],
   "source": [
    "# nossa matriz A terá 4 linhas (devido as 4 equações) e 2 colunas (devido aos dois parâmetros)\n",
    "A=np.zeros((6,2))\n",
    "A[0][0]=7\n",
    "A[1][0]=8\n",
    "A[2][0]=9\n",
    "A[3][0]=10\n",
    "A[4][0]=11\n",
    "A[5][0]=12\n",
    "A[0][1]=1\n",
    "A[1][1]=1\n",
    "A[2][1]=1\n",
    "A[3][1]=1\n",
    "A[4][1]=1\n",
    "A[5][1]=1\n",
    "\n"
   ]
  },
  {
   "cell_type": "code",
   "execution_count": 13,
   "metadata": {},
   "outputs": [
    {
     "name": "stdout",
     "output_type": "stream",
     "text": [
      "[[ 7.  1.]\n",
      " [ 8.  1.]\n",
      " [ 9.  1.]\n",
      " [10.  1.]\n",
      " [11.  1.]\n",
      " [12.  1.]]\n"
     ]
    }
   ],
   "source": [
    "print(A)"
   ]
  },
  {
   "cell_type": "code",
   "execution_count": 14,
   "metadata": {
    "ExecuteTime": {
     "end_time": "2021-03-31T18:00:14.403148Z",
     "start_time": "2021-03-31T18:00:14.381009Z"
    },
    "slideshow": {
     "slide_type": "slide"
    }
   },
   "outputs": [
    {
     "name": "stdout",
     "output_type": "stream",
     "text": [
      "Matriz N:\n",
      " [[559.  57.]\n",
      " [ 57.   6.]]\n",
      "Matriz U:\n",
      " [[8401.3]\n",
      " [ 907.8]]\n",
      "Matriz Xa:\n",
      " [[  38.78142857]\n",
      " [-209.14857143]]\n"
     ]
    }
   ],
   "source": [
    "#aplicando as operações matriciais com o sistema de equações normais obtemos:\n",
    "L=L0-Lb\n",
    "N=np.dot(np.dot(A.T,P),A)\n",
    "print(\"Matriz N:\\n\",N)\n",
    "U=np.dot(np.dot(A.T,P),L)\n",
    "print(\"Matriz U:\\n\",U)\n",
    "X=-np.dot(np.linalg.inv(N),U)\n",
    "Xa=X0+X\n",
    "print(\"Matriz Xa:\\n\",Xa)"
   ]
  },
  {
   "cell_type": "code",
   "execution_count": 15,
   "metadata": {},
   "outputs": [
    {
     "data": {
      "text/plain": [
       "-259.5171428571435"
      ]
     },
     "execution_count": 15,
     "metadata": {},
     "output_type": "execute_result"
    }
   ],
   "source": [
    "X.sum()"
   ]
  },
  {
   "cell_type": "markdown",
   "metadata": {
    "slideshow": {
     "slide_type": "slide"
    }
   },
   "source": [
    "# Processo Iterativo do Método Paramétrico"
   ]
  },
  {
   "cell_type": "code",
   "execution_count": 16,
   "metadata": {
    "ExecuteTime": {
     "end_time": "2021-03-31T18:00:19.043922Z",
     "start_time": "2021-03-31T18:00:19.028383Z"
    },
    "slideshow": {
     "slide_type": "slide"
    }
   },
   "outputs": [],
   "source": [
    "X0=Xa"
   ]
  },
  {
   "cell_type": "code",
   "execution_count": 17,
   "metadata": {
    "ExecuteTime": {
     "end_time": "2021-03-31T18:00:20.328855Z",
     "start_time": "2021-03-31T18:00:20.291067Z"
    },
    "slideshow": {
     "slide_type": "slide"
    }
   },
   "outputs": [],
   "source": [
    "#Lb=np.matrix ([[63.10],[89.15],[141.40],[193.45],[219.5],[245.60]]);\n",
    "#X0=np.matrix([[89.15-63.10],[63.10]])\n",
    "#L0=np.matrix ([[0],[0],[0],[0],[0],[0]]);\n",
    "L0[0][0]=X0[0][0]*7+X0[1][0]\n",
    "L0[1][0]=X0[0][0]*8+X0[1][0]\n",
    "L0[2][0]=X0[0][0]*9+X0[1][0]\n",
    "L0[3][0]=X0[0][0]*10+X0[1][0]\n",
    "L0[4][0]=X0[0][0]*11+X0[1][0]\n",
    "L0[5][0]=X0[0][0]*12+X0[1][0]"
   ]
  },
  {
   "cell_type": "code",
   "execution_count": 18,
   "metadata": {
    "ExecuteTime": {
     "end_time": "2021-03-31T18:00:21.516178Z",
     "start_time": "2021-03-31T18:00:21.478493Z"
    },
    "slideshow": {
     "slide_type": "slide"
    }
   },
   "outputs": [
    {
     "name": "stdout",
     "output_type": "stream",
     "text": [
      "Matriz N:\n",
      " [[559.  57.]\n",
      " [ 57.   6.]]\n",
      "Matriz U:\n",
      " [[8.3]\n",
      " [0.8]]\n",
      "Matriz Xa:\n",
      " [[  38.82142857]\n",
      " [-209.3952381 ]]\n"
     ]
    }
   ],
   "source": [
    "L=L0-Lb\n",
    "N=np.dot(np.dot(A.T,P),A)\n",
    "print(\"Matriz N:\\n\",N)\n",
    "U=np.dot(np.dot(A.T,P),L)\n",
    "print(\"Matriz U:\\n\",U)\n",
    "X=np.dot(np.linalg.inv(N),U)\n",
    "Xa=X0+X\n",
    "print(\"Matriz Xa:\\n\",Xa)"
   ]
  },
  {
   "cell_type": "code",
   "execution_count": 19,
   "metadata": {},
   "outputs": [
    {
     "data": {
      "text/plain": [
       "-0.20666666666667965"
      ]
     },
     "execution_count": 19,
     "metadata": {},
     "output_type": "execute_result"
    }
   ],
   "source": [
    "X.sum()"
   ]
  },
  {
   "cell_type": "code",
   "execution_count": 20,
   "metadata": {
    "ExecuteTime": {
     "end_time": "2021-03-31T18:00:26.675840Z",
     "start_time": "2021-03-31T18:00:26.629047Z"
    },
    "slideshow": {
     "slide_type": "slide"
    }
   },
   "outputs": [
    {
     "name": "stdout",
     "output_type": "stream",
     "text": [
      "Matriz N:\n",
      " [[559.  57.]\n",
      " [ 57.   6.]]\n",
      "Matriz U:\n",
      " [[8.3]\n",
      " [0.8]]\n",
      "Matriz Xa:\n",
      " [[  38.78142857]\n",
      " [-209.14857143]]\n"
     ]
    }
   ],
   "source": [
    "X0=Xa\n",
    "L0[0][0]=X0[0][0]*7+X0[1][0]\n",
    "L0[1][0]=X0[0][0]*8+X0[1][0]\n",
    "L0[2][0]=X0[0][0]*9+X0[1][0]\n",
    "L0[3][0]=X0[0][0]*10+X0[1][0]\n",
    "L0[4][0]=X0[0][0]*11+X0[1][0]\n",
    "L0[5][0]=X0[0][0]*12+X0[1][0]\n",
    "L=L0-Lb\n",
    "N=np.dot(np.dot(A.T,P),A)\n",
    "print(\"Matriz N:\\n\",N)\n",
    "U=np.dot(np.dot(A.T,P),L)\n",
    "print(\"Matriz U:\\n\",U)\n",
    "X=-np.dot(np.linalg.inv(N),U)\n",
    "Xa=X0+X\n",
    "print(\"Matriz Xa:\\n\",Xa)"
   ]
  },
  {
   "cell_type": "code",
   "execution_count": 21,
   "metadata": {
    "ExecuteTime": {
     "end_time": "2021-03-31T18:00:31.471416Z",
     "start_time": "2021-03-31T18:00:31.455767Z"
    },
    "slideshow": {
     "slide_type": "slide"
    }
   },
   "outputs": [
    {
     "data": {
      "text/plain": [
       "0.20666666666667965"
      ]
     },
     "execution_count": 21,
     "metadata": {},
     "output_type": "execute_result"
    }
   ],
   "source": [
    "X.sum()"
   ]
  },
  {
   "cell_type": "code",
   "execution_count": 22,
   "metadata": {
    "ExecuteTime": {
     "end_time": "2021-03-31T18:00:38.256171Z",
     "start_time": "2021-03-31T18:00:37.716914Z"
    },
    "slideshow": {
     "slide_type": "slide"
    }
   },
   "outputs": [],
   "source": [
    "for i in range (100) :\n",
    "    X0=Xa\n",
    "    L0[0][0]=X0[0][0]*7+X0[1][0]\n",
    "    L0[1][0]=X0[0][0]*8+X0[1][0]\n",
    "    L0[2][0]=X0[0][0]*9+X0[1][0]\n",
    "    L0[3][0]=X0[0][0]*10+X0[1][0]\n",
    "    L0[4][0]=X0[0][0]*11+X0[1][0]\n",
    "    L0[5][0]=X0[0][0]*12+X0[1][0]\n",
    "    L=L0-Lb\n",
    "    N=np.dot(np.dot(A.T,P),A)\n",
    "    #print(\"Matriz N:\\n\",N)\n",
    "    U=np.dot(np.dot(A.T,P),L)\n",
    "    #print(\"Matriz U:\\n\",U)\n",
    "    X=-np.dot(np.linalg.inv(N),U)\n",
    "    Xa=X0+X\n",
    "    #print(\"Matriz Xa:\\n\",Xa)"
   ]
  },
  {
   "cell_type": "code",
   "execution_count": 23,
   "metadata": {
    "ExecuteTime": {
     "end_time": "2021-03-31T18:00:39.034741Z",
     "start_time": "2021-03-31T18:00:39.019209Z"
    },
    "slideshow": {
     "slide_type": "slide"
    }
   },
   "outputs": [
    {
     "data": {
      "text/plain": [
       "0.20666666666667965"
      ]
     },
     "execution_count": 23,
     "metadata": {},
     "output_type": "execute_result"
    }
   ],
   "source": [
    "X.sum()"
   ]
  },
  {
   "cell_type": "code",
   "execution_count": 24,
   "metadata": {
    "ExecuteTime": {
     "end_time": "2021-03-31T18:00:44.647622Z",
     "start_time": "2021-03-31T18:00:44.632030Z"
    },
    "slideshow": {
     "slide_type": "slide"
    }
   },
   "outputs": [
    {
     "data": {
      "text/plain": [
       "matrix([[  38.75285714],\n",
       "        [-209.04380952]])"
      ]
     },
     "execution_count": 24,
     "metadata": {},
     "output_type": "execute_result"
    }
   ],
   "source": [
    "Xa"
   ]
  },
  {
   "cell_type": "markdown",
   "metadata": {},
   "source": [
    "## Exercício 02\n",
    "\n",
    "<img src=\"../Aula 4/ex2.png\" tittle=\"nome da imagem\">\n"
   ]
  },
  {
   "cell_type": "code",
   "execution_count": 33,
   "metadata": {},
   "outputs": [],
   "source": [
    "Lb=np.matrix ([[201.71],[75.81],[125.22],[100.03],[100.76]]);\n",
    "X0=np.matrix([[201],[75],[100]])\n",
    "L0=np.matrix([[0],[0],[0],[0],[0]])\n",
    "L0[0][0]=X0[0][0]\n",
    "L0[1][0]=X0[1][0]\n",
    "L0[2][0]=X0[0][0]-X0[1][0]\n",
    "L0[3][0]=X0[2][0]\n",
    "L0[4][0]=X0[0][0]-X0[2][0]\n",
    "P=np.eye(5);\n",
    "A=np.matrix([[1,0,0],[0,1,0],[1,-1,0],[0,0,1],[1,0,-1]])\n"
   ]
  },
  {
   "cell_type": "code",
   "execution_count": 34,
   "metadata": {},
   "outputs": [
    {
     "name": "stdout",
     "output_type": "stream",
     "text": [
      "Matriz Xa:\n",
      " [[201.31]\n",
      " [ 75.95]\n",
      " [100.29]]\n"
     ]
    }
   ],
   "source": [
    "L=L0-Lb\n",
    "N=np.dot(np.dot(A.T,P),A)\n",
    "#print(\"Matriz N:\\n\",N)\n",
    "U=np.dot(np.dot(A.T,P),L)\n",
    "#print(\"Matriz U:\\n\",U)\n",
    "X=-np.dot(np.linalg.inv(N),U)\n",
    "Xa=X0+X\n",
    "print(\"Matriz Xa:\\n\",Xa)"
   ]
  },
  {
   "cell_type": "markdown",
   "metadata": {},
   "source": [
    "## Exercício 03\n",
    "\n",
    "<img src=\"../Aula 4/ex3.jpg\" tittle=\"nome da imagem\">\n"
   ]
  },
  {
   "cell_type": "markdown",
   "metadata": {},
   "source": [
    "$$ \\Delta_{h1} =  - H_A + H_I+ 0.H_{II} + 0.H_{III} $$\n",
    "$$ \\Delta_{h2} =  - H_A+ 0.H_I + H_{II} + 0.H_{III} $$\n",
    "$$ \\Delta_{h3} =  + 0.H_A - H_I + H_{II} + 0.H_{III} $$\n",
    "$$\\Delta_{h4} = - H_A + 0.H_I + 0.H_{II} + H_{III} $$\n",
    "$$ \\Delta_{h5} = 0.H_A +0.H_I + H_{II} - H_{III} $$\n",
    "$$ \\Delta_{h6} =  0.H_A+ H_I + 0.H_{II} - H_{III} $$"
   ]
  },
  {
   "cell_type": "code",
   "execution_count": 28,
   "metadata": {},
   "outputs": [],
   "source": [
    "Lb=np.matrix ([[6.16],[12.57],[6.41],[1.09],[11.58],[5.07]]);\n",
    "X0=np.matrix([[6],[12],[1]])\n",
    "L0=np.matrix ([[0],[0],[0],[0],[0],[0]]);\n",
    "Ha=0\n",
    "L0[0][0]=X0[0][0]-Ha\n",
    "L0[1][0]=X0[1][0]-Ha\n",
    "L0[2][0]=X0[1][0]-X0[0][0]\n",
    "L0[3][0]=X0[2][0]-Ha\n",
    "L0[4][0]=X0[1][0]-X0[2][0]\n",
    "L0[5][0]=X0[0][0]-X0[2][0]\n",
    "P=np.eye(6);\n",
    "P[0][0]=(1/4)**2\n",
    "P[1][1]=(1/2)**2\n",
    "P[2][2]=(1/2)**2\n",
    "P[3][3]=(1/4)**2\n",
    "P[4][4]=(1/2)**2\n",
    "P[5][5]=(1/4)**2\n",
    "A=np.zeros((6,3))\n",
    "A[0][0]=1\n",
    "A[1][0]=0\n",
    "A[2][0]=-1\n",
    "A[3][0]=0\n",
    "A[4][0]=0\n",
    "A[5][0]=1\n",
    "A[0][1]=0\n",
    "A[1][1]=1\n",
    "A[2][1]=1\n",
    "A[3][1]=0\n",
    "A[4][1]=1\n",
    "A[5][2]=0\n",
    "A[0][2]=0\n",
    "A[1][2]=0\n",
    "A[2][2]=0\n",
    "A[3][2]=1\n",
    "A[4][2]=-1\n",
    "A[5][2]=-1\n"
   ]
  },
  {
   "cell_type": "code",
   "execution_count": 29,
   "metadata": {},
   "outputs": [
    {
     "name": "stdout",
     "output_type": "stream",
     "text": [
      "Matriz Xa:\n",
      " [[ 6.16 ]\n",
      " [12.595]\n",
      " [ 1.065]]\n"
     ]
    }
   ],
   "source": [
    "L=L0-Lb\n",
    "N=np.dot(np.dot(A.T,P),A)\n",
    "#print(\"Matriz N:\\n\",N)\n",
    "U=np.dot(np.dot(A.T,P),L)\n",
    "#print(\"Matriz U:\\n\",U)\n",
    "X=-np.dot(np.linalg.inv(N),U)\n",
    "Xa=X0+X\n",
    "print(\"Matriz Xa:\\n\",Xa)"
   ]
  },
  {
   "cell_type": "code",
   "execution_count": null,
   "metadata": {},
   "outputs": [],
   "source": []
  }
 ],
 "metadata": {
  "celltoolbar": "Slideshow",
  "kernelspec": {
   "display_name": "Python 3 (ipykernel)",
   "language": "python",
   "name": "python3"
  },
  "language_info": {
   "codemirror_mode": {
    "name": "ipython",
    "version": 3
   },
   "file_extension": ".py",
   "mimetype": "text/x-python",
   "name": "python",
   "nbconvert_exporter": "python",
   "pygments_lexer": "ipython3",
   "version": "3.9.12"
  },
  "toc": {
   "base_numbering": 1,
   "nav_menu": {},
   "number_sections": true,
   "sideBar": true,
   "skip_h1_title": false,
   "title_cell": "Table of Contents",
   "title_sidebar": "Contents",
   "toc_cell": false,
   "toc_position": {},
   "toc_section_display": true,
   "toc_window_display": false
  }
 },
 "nbformat": 4,
 "nbformat_minor": 2
}
