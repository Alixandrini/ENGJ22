{
  "nbformat": 4,
  "nbformat_minor": 0,
  "metadata": {
    "colab": {
      "provenance": []
    },
    "kernelspec": {
      "name": "python3",
      "display_name": "Python 3"
    },
    "language_info": {
      "name": "python"
    }
  },
  "cells": [
    {
      "cell_type": "code",
      "execution_count": 9,
      "metadata": {
        "id": "zCTkqaT447ri"
      },
      "outputs": [],
      "source": [
        "## A matriz Lb é a matriz das observações:\n",
        "import numpy as np\n",
        "l1=201.71\n",
        "l2=75.81\n",
        "l3=125.22\n",
        "l4=100.03\n",
        "l5=100.76\n",
        "Lb=np.matrix ([[l1],[l2],[l3],[l4],[l5]]);"
      ]
    },
    {
      "cell_type": "code",
      "source": [
        "# A matriz L0 e X0\n",
        "\n",
        "X0=np.matrix ([[Lb[0,0]],\n",
        "               [Lb[1,0]],\n",
        "               [Lb[3,0]]])\n",
        "L0=np.matrix([[(1*X0[0,0]+0*X0[1,0]+0*X0[2,0])],\n",
        "              [(0*X0[0,0]+1*X0[1,0]+0*X0[2,0])],\n",
        "              [(1*X0[0,0]-1*X0[1,0]+0*X0[2,0])],\n",
        "              [(0*X0[0,0]+0*X0[1,0]+1*X0[2,0])],\n",
        "              [(1*X0[0,0]+0*X0[1,0]-1*X0[2,0])]])\n",
        ""
      ],
      "metadata": {
        "id": "1j1j_iB65EYf"
      },
      "execution_count": 10,
      "outputs": []
    },
    {
      "cell_type": "code",
      "source": [
        "# A matriz A\n",
        "\n",
        "A =np.matrix([[1,  0,  0],\n",
        "              [0,  1,  0],\n",
        "              [1, -1,  0],\n",
        "              [0,  0,  1],\n",
        "              [1,  0, -1]])"
      ],
      "metadata": {
        "id": "08ass59a7lK_"
      },
      "execution_count": 8,
      "outputs": []
    },
    {
      "cell_type": "code",
      "source": [
        "# matriz P\n",
        "\n",
        "P=np.eye(5)\n",
        "P"
      ],
      "metadata": {
        "colab": {
          "base_uri": "https://localhost:8080/"
        },
        "id": "b1QqiU-Q9gdn",
        "outputId": "36b2ae05-dd9c-4356-f897-0024621d5ab3"
      },
      "execution_count": 13,
      "outputs": [
        {
          "output_type": "execute_result",
          "data": {
            "text/plain": [
              "array([[1., 0., 0., 0., 0.],\n",
              "       [0., 1., 0., 0., 0.],\n",
              "       [0., 0., 1., 0., 0.],\n",
              "       [0., 0., 0., 1., 0.],\n",
              "       [0., 0., 0., 0., 1.]])"
            ]
          },
          "metadata": {},
          "execution_count": 13
        }
      ]
    },
    {
      "cell_type": "code",
      "source": [
        "# Sistema de equações normais\n",
        "\n",
        "L=L0-Lb\n",
        "N=np.dot(np.dot(A.T,P),A)\n",
        "print(\"Matriz N:\\n\",N)\n",
        "U=np.dot(np.dot(A.T,P),L)\n",
        "print(\"Matriz U:\\n\",U)\n",
        "X=-np.dot(np.linalg.inv(N),U)\n",
        "Xa=X0+X\n",
        "print(\"Matriz Xa:\\n\",Xa)"
      ],
      "metadata": {
        "colab": {
          "base_uri": "https://localhost:8080/"
        },
        "id": "nxKcLDQ09vP8",
        "outputId": "90917efd-00fe-4b65-8dd6-63578a00c5c5"
      },
      "execution_count": 12,
      "outputs": [
        {
          "output_type": "stream",
          "name": "stdout",
          "text": [
            "Matriz N:\n",
            " [[ 3. -1. -1.]\n",
            " [-1.  2.  0.]\n",
            " [-1.  0.  2.]]\n",
            "Matriz U:\n",
            " [[ 1.6 ]\n",
            " [-0.68]\n",
            " [-0.92]]\n",
            "Matriz Xa:\n",
            " [[201.31]\n",
            " [ 75.95]\n",
            " [100.29]]\n"
          ]
        }
      ]
    }
  ]
}