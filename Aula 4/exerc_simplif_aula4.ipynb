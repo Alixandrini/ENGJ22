{
 "cells": [
  {
   "cell_type": "markdown",
   "metadata": {},
   "source": [
    "# AJUSTAMENTO PARAMÉTRICO\n",
    "UNIVERSIDADE FEDERAL DA BAHIA <br>\n",
    "DISCIPLINA: AJUSTAMENTO DE OBSERVAÇÕES GEODÉSICAS B <br>\n",
    "DOCENTE: MAURO ALIXANDRINI\n",
    "\n",
    "## Exercício 01\n",
    "Para determinação precisa da coordenada planimétrica de um ponto utilizando técnica topográfica de trilateração foram medidas distâncias a partir de quatro pontos com coordenadas conhecidas($\\ P_1,P_2,P_3,P_4 $\\). Foi medido adicionalmente um ângulo ($ \\alpha$\\) a partir da posição eu se deseja obter no levantamento ($\\ P$\\). Os dados são descritos conforme o croqui abaixo:\n",
    "<img src=\"https://raw.githubusercontent.com/Alixandrini/ENGJ22/main/Aula%204/ex4.png\">\n",
    "As observações constantes com suas respectivas precisões calculadas a partir da Precisão Nominal constante no equipamento utilizado são:\n",
    "\n",
    "| Observações ($\\ L_b$\\) | Distância (m) | Desvio padrão ($\\ \\sigma$\\)|\n",
    "|---------| ---------| ---------| \n",
    "|$\\ L_{b1}$ | 244.512   | 0.012 |\n",
    "|$\\ L_{b2}$ | 321.570   | 0.016 |\n",
    "|$\\ L_{b3}$ |773.154    | 0.038 |\n",
    "|$\\ L_{b4}$ |279.992    | 0.014 |\n",
    "|$\\ L_{b5}$ |123$^{\\circ}$ 38' 01.4\"| 2\" |"
   ]
  },
  {
   "cell_type": "markdown",
   "metadata": {},
   "source": [
    "## Resolução\n",
    "Primeiro vamos entrar com os dados conhecidos, as coordenadas dos pontos e as distâncias. IMPORTANTE: o ângulo será ignorado nessa primeira resolução do exercício:"
   ]
  },
  {
   "cell_type": "code",
   "execution_count": 123,
   "metadata": {
    "ExecuteTime": {
     "end_time": "2021-03-31T18:00:04.299174Z",
     "start_time": "2021-03-31T18:00:04.283649Z"
    }
   },
   "outputs": [],
   "source": [
    "import math \n",
    "#dessa biblioteca utilizaremos a constante pi para conversão do angulo para radianos\n",
    "#Coordenadas\n",
    "X1=842.281;\n",
    "Y1=925.523;\n",
    "X2=1337.544;\n",
    "Y2=996.249;\n",
    "X3=1831.727;\n",
    "Y3=723.962;\n",
    "X4=840.408;\n",
    "Y4=658.345;\n",
    "\n",
    "#Distâncias (m)\n",
    "D1=244.512;\n",
    "D2=321.570;\n",
    "D3=773.154;\n",
    "D4=279.992;\n"
   ]
  },
  {
   "cell_type": "markdown",
   "metadata": {},
   "source": [
    "O mesmo pode ser feito para os desvios padrão"
   ]
  },
  {
   "cell_type": "code",
   "execution_count": 124,
   "metadata": {
    "ExecuteTime": {
     "end_time": "2021-03-31T18:00:06.050939Z",
     "start_time": "2021-03-31T18:00:06.035399Z"
    }
   },
   "outputs": [],
   "source": [
    "sigma1=0.012\n",
    "sigma2=0.016\n",
    "sigma3=0.038\n",
    "sigma4=0.014\n"
   ]
  },
  {
   "cell_type": "markdown",
   "metadata": {},
   "source": [
    "Agoram vamos voltar ao método paramétrico($\\ L_a=F(X_a)$), e lembrar que a condição para usa-lo é obster um sistema de equações onde possamos separar as observações (distâncias e o ângulo nesse caso) dos nossos parâmetros ( Coordenadas do ponto P ($\\ X_P, Y_P$).\n",
    "Podemos utilizar a equação da distância entre dois pontos:\n",
    "\\begin{equation}\n",
    "D=\\sqrt[2]{(X_1-X_2)^2+(Y_1-Y_2)^2}\n",
    "\\end{equation}\n",
    "\n",
    "\n",
    "Assim o sistema de equações do nosso modelo funcional para a resolução do método paramétrico\n",
    "fica o seguinte:\n",
    "\n",
    "\\begin{equation}\n",
    "L_{b1}+\\nu_1=\\sqrt[2]{(X_1-X_p)^2+(Y_1-Y_p)^2} \\\\\n",
    "L_{b2}+\\nu_2=\\sqrt[2]{(X_2-X_p)^2+(Y_2-Y_p)^2} \\\\\n",
    "L_{b3}+\\nu_3=\\sqrt[2]{(X_3-X_p)^2+(Y_3-Y_p)^2} \\\\\n",
    "L_{b4}+\\nu_4=\\sqrt[2]{(X_4-X_p)^2+(Y_4-Y_p)^2} \n",
    "\\end{equation}\n",
    "\n",
    "Agora temos que montar as matrizes necessárias a resolução do sistema de equações normais:\n",
    "\\begin{equation}\n",
    "N=A^tPA \\\\\n",
    "U=A^tPL\\\\\n",
    "L=L_0-L_b\\\\\n",
    "X=-N^{-1}U\\\\\n",
    "X_a=X_0+X\\\\\n",
    "\\end{equation}\n",
    "Na ordem precisaremos montar a partir dos dados as matrizes $\\ L_b,P,L_0,X_0,A $."
   ]
  },
  {
   "cell_type": "code",
   "execution_count": 125,
   "metadata": {
    "ExecuteTime": {
     "end_time": "2021-03-31T18:00:07.739881Z",
     "start_time": "2021-03-31T18:00:07.724287Z"
    }
   },
   "outputs": [],
   "source": [
    "## A matriz Lb é a matriz das observações:\n",
    "import numpy as np\n",
    "\n",
    "Lb=np.matrix ([[D1],[D2],[D3],[D4]]);"
   ]
  },
  {
   "cell_type": "code",
   "execution_count": 126,
   "metadata": {
    "ExecuteTime": {
     "end_time": "2021-03-31T18:00:08.508288Z",
     "start_time": "2021-03-31T18:00:08.492698Z"
    }
   },
   "outputs": [],
   "source": [
    "## A matriz P é a matriz dos pesos, ela é uma matriz quadrada \n",
    "##construída a partir do inverso do variância da minhas observações\n",
    "## no caso temos observações independêntes e por isso nossa matriz P é diagonal:\n",
    "P=np.matrix ([[(1/sigma1**2), 0, 0, 0],\n",
    "             [0, (1/sigma2**2), 0, 0],\n",
    "             [0, 0, (1/sigma3**2), 0],\n",
    "             [0, 0, 0, (1/sigma4**2)]]);\n"
   ]
  },
  {
   "cell_type": "code",
   "execution_count": 127,
   "metadata": {
    "ExecuteTime": {
     "end_time": "2021-03-31T18:00:09.355305Z",
     "start_time": "2021-03-31T18:00:09.339685Z"
    }
   },
   "outputs": [],
   "source": [
    "# A matriz L0 como apresentada na última aula é a aplicação de X0 \n",
    "# no sistema matemático funcional do nosso problema.\n",
    "# Então vamos estimar as coordenadas aproximadas do ponto P e aplicar no \n",
    "# nosso sistema de equações:\n",
    "x0=1065;\n",
    "y0=825;\n",
    "X0=np.matrix ([[x0],[y0]]);\n",
    "L0=np.matrix([[(math.sqrt(((X1-x0)**2)+((Y1-y0)**2)))],\n",
    "              [(math.sqrt(((X2-x0)**2)+((Y2-y0)**2)))],\n",
    "               [(math.sqrt(((X3-x0)**2)+((Y3-y0)**2)))],\n",
    "               [(math.sqrt(((X4-x0)**2)+((Y4-y0)**2)))]]);\n",
    "\n"
   ]
  },
  {
   "cell_type": "markdown",
   "metadata": {},
   "source": [
    "Por último a matriz A que é resultado da derivada primeira das equações do nosso sistema em relação ao parâmetro ($\\ X_{Pa}, Y_{Pa}$).\n",
    "\n",
    "\\begin{equation}\n",
    "\\frac{\\partial L_{a1}}{\\partial X_{pa}}=-\\frac {X_1-X_{pa}}{L_{a1}}\\\\\n",
    "\\frac{\\partial L_{a1}}{\\partial Y_{pa}}=-\\frac {Y_1-Y_{pa}}{L_{a1}}\\\\\n",
    "\\frac{\\partial L_{a2}}{\\partial X_{pa}}=-\\frac {X_2-X_{pa}}{L_{a2}}\\\\\n",
    "\\frac{\\partial L_{a2}}{\\partial X_{pa}}=-\\frac {Y_2-Y_{pa}}{L_{a2}}\\\\\n",
    "\\frac{\\partial L_{a3}}{\\partial X_{pa}}=-\\frac {X_3-X_{pa}}{L_{a3}}\\\\\n",
    "\\frac{\\partial L_{a3}}{\\partial X_{pa}}=-\\frac {Y_3-Y_{pa}}{L_{a2}}\\\\\n",
    "\\frac{\\partial L_{a4}}{\\partial X_{pa}}=-\\frac {X_4-X_{pa}}{L_{a4}}\\\\\n",
    "\\frac{\\partial L_{a4}}{\\partial X_{pa}}=-\\frac {Y_4-X_{pa}}{L_{a4}}\\\\\n",
    "\\frac{\\partial L_{a5}}{\\partial X_{pa}}=-\\frac{(X_{P_2}-X_P)}{L_{a2}^2}+\\frac{(X_{P_1}-X_P)}{L_{a1}}^2 \\\\\n",
    "\\frac{\\partial L_{a5}}{\\partial Y_{pa}}=-\\frac{(Y_{P_2}-Y_P)}{L_{a2}^2}+\\frac{(Y_{P_1}-Y_P)}{L_{a1}^2}\n",
    "\\end{equation}\n",
    "\n",
    "Lembrando que o modelo matemático e as derivadas fazem menção aos valores ajustados enquanto no calculo do ajustamento utilizaremos os valores de $\\ L_b, X_0 $ para obstermos valores númericos para a matriz A."
   ]
  },
  {
   "cell_type": "code",
   "execution_count": 128,
   "metadata": {
    "ExecuteTime": {
     "end_time": "2021-03-31T18:00:11.428672Z",
     "start_time": "2021-03-31T18:00:11.397516Z"
    }
   },
   "outputs": [],
   "source": [
    "# nossa matriz A terá 4 linhas (devido as 4 equações) e 2 colunas (devido aos dois parâmetros)\n",
    "A=np.zeros((4,2))\n",
    "A[0][0]=-(X1-X0[0][0])/Lb[0][0]\n",
    "A[0][1]=-(Y1-X0[1][0])/Lb[0][0]\n",
    "A[1][0]=-(X2-X0[0][0])/Lb[1][0]\n",
    "A[1][1]=-(Y2-X0[1][0])/Lb[1][0]\n",
    "A[2][0]=-(X3-X0[0][0])/Lb[2][0]\n",
    "A[2][1]=-(Y3-X0[1][0])/Lb[2][0]\n",
    "A[3][0]=-(X4-X0[0][0])/Lb[3][0]\n",
    "A[3][1]=-(Y4-X0[1][0])/Lb[3][0]\n"
   ]
  },
  {
   "cell_type": "code",
   "execution_count": 129,
   "metadata": {
    "ExecuteTime": {
     "end_time": "2021-03-31T18:00:14.403148Z",
     "start_time": "2021-03-31T18:00:14.381009Z"
    }
   },
   "outputs": [
    {
     "name": "stdout",
     "output_type": "stream",
     "text": [
      "Matriz N:\n",
      " [[12531.50996069  1508.75319901]\n",
      " [ 1508.75319901  4100.91197198]]\n",
      "Matriz U:\n",
      " [[-3482.75642797]\n",
      " [-1150.21332438]]\n",
      "Matriz Xa:\n",
      " [[1065.25546722]\n",
      " [ 825.18648933]]\n"
     ]
    }
   ],
   "source": [
    "#aplicando as operações matriciais com o sistema de equações normais obtemos:\n",
    "L=L0-Lb\n",
    "N=np.dot(np.dot(A.T,P),A)\n",
    "print(\"Matriz N:\\n\",N)\n",
    "U=np.dot(np.dot(A.T,P),L)\n",
    "print(\"Matriz U:\\n\",U)\n",
    "X=-np.dot(np.linalg.inv(N),U)\n",
    "Xa=X0+X\n",
    "print(\"Matriz Xa:\\n\",Xa)"
   ]
  },
  {
   "cell_type": "markdown",
   "metadata": {},
   "source": [
    "# Processo Iterativo do Método Paramétrico"
   ]
  },
  {
   "cell_type": "code",
   "execution_count": 130,
   "metadata": {
    "ExecuteTime": {
     "end_time": "2021-03-31T18:00:19.043922Z",
     "start_time": "2021-03-31T18:00:19.028383Z"
    }
   },
   "outputs": [],
   "source": [
    "X0=Xa"
   ]
  },
  {
   "cell_type": "code",
   "execution_count": 131,
   "metadata": {
    "ExecuteTime": {
     "end_time": "2021-03-31T18:00:20.328855Z",
     "start_time": "2021-03-31T18:00:20.291067Z"
    }
   },
   "outputs": [],
   "source": [
    "L0=np.matrix([[(math.sqrt(((X1-X0[0][0])**2)+((Y1-X0[1][0])**2)))],\n",
    "              [(math.sqrt(((X2-X0[0][0])**2)+((Y2-X0[1][0])**2)))],\n",
    "              [(math.sqrt(((X3-X0[0][0])**2)+((Y3-X0[1][0])**2)))],\n",
    "              [(math.sqrt(((X4-X0[0][0])**2)+((Y4-X0[1][0])**2)))]]);\n",
    "A=np.zeros((4,2))\n",
    "A[0][0]=-(X1-X0[0][0])/Lb[0][0]\n",
    "A[0][1]=-(Y1-X0[1][0])/Lb[0][0]\n",
    "A[1][0]=-(X2-X0[0][0])/Lb[1][0]\n",
    "A[1][1]=-(Y2-X0[1][0])/Lb[1][0]\n",
    "A[2][0]=-(X3-X0[0][0])/Lb[2][0]\n",
    "A[2][1]=-(Y3-X0[1][0])/Lb[2][0]\n",
    "A[3][0]=-(X4-X0[0][0])/Lb[3][0]\n",
    "A[3][1]=-(Y4-X0[1][0])/Lb[3][0]"
   ]
  },
  {
   "cell_type": "code",
   "execution_count": 132,
   "metadata": {
    "ExecuteTime": {
     "end_time": "2021-03-31T18:00:21.516178Z",
     "start_time": "2021-03-31T18:00:21.478493Z"
    }
   },
   "outputs": [
    {
     "name": "stdout",
     "output_type": "stream",
     "text": [
      "Matriz N:\n",
      " [[12546.49612999  1512.39354371]\n",
      " [ 1512.39354371  4098.24084511]]\n",
      "Matriz U:\n",
      " [[ 1.96985287]\n",
      " [-0.30061944]]\n",
      "Matriz Xa:\n",
      " [[1065.25564079]\n",
      " [ 825.18635193]]\n"
     ]
    }
   ],
   "source": [
    "L=L0-Lb\n",
    "N=np.dot(np.dot(A.T,P),A)\n",
    "print(\"Matriz N:\\n\",N)\n",
    "U=np.dot(np.dot(A.T,P),L)\n",
    "print(\"Matriz U:\\n\",U)\n",
    "X=np.dot(np.linalg.inv(N),U)\n",
    "Xa=X0+X\n",
    "print(\"Matriz Xa:\\n\",Xa)"
   ]
  },
  {
   "cell_type": "code",
   "execution_count": 133,
   "metadata": {
    "ExecuteTime": {
     "end_time": "2021-03-31T18:00:26.675840Z",
     "start_time": "2021-03-31T18:00:26.629047Z"
    }
   },
   "outputs": [
    {
     "name": "stdout",
     "output_type": "stream",
     "text": [
      "Matriz N:\n",
      " [[12546.50632155  1512.38827015]\n",
      " [ 1512.38827015  4098.24280756]]\n",
      "Matriz U:\n",
      " [[ 3.93968801]\n",
      " [-0.6012039 ]]\n",
      "Matriz Xa:\n",
      " [[1065.25529366]\n",
      " [ 825.18662673]]\n"
     ]
    }
   ],
   "source": [
    "X0=Xa\n",
    "L0=np.matrix([[(math.sqrt(((X1-X0[0][0])**2)+((Y1-X0[1][0])**2)))],\n",
    "              [(math.sqrt(((X2-X0[0][0])**2)+((Y2-X0[1][0])**2)))],\n",
    "              [(math.sqrt(((X3-X0[0][0])**2)+((Y3-X0[1][0])**2)))],\n",
    "              [(math.sqrt(((X4-X0[0][0])**2)+((Y4-X0[1][0])**2)))]]);\n",
    "A=np.zeros((4,2))\n",
    "A[0][0]=-(X1-X0[0][0])/Lb[0][0]\n",
    "A[0][1]=-(Y1-X0[1][0])/Lb[0][0]\n",
    "A[1][0]=-(X2-X0[0][0])/Lb[1][0]\n",
    "A[1][1]=-(Y2-X0[1][0])/Lb[1][0]\n",
    "A[2][0]=-(X3-X0[0][0])/Lb[2][0]\n",
    "A[2][1]=-(Y3-X0[1][0])/Lb[2][0]\n",
    "A[3][0]=-(X4-X0[0][0])/Lb[3][0]\n",
    "A[3][1]=-(Y4-X0[1][0])/Lb[3][0]\n",
    "L=L0-Lb\n",
    "N=np.dot(np.dot(A.T,P),A)\n",
    "print(\"Matriz N:\\n\",N)\n",
    "U=np.dot(np.dot(A.T,P),L)\n",
    "print(\"Matriz U:\\n\",U)\n",
    "X=-np.dot(np.linalg.inv(N),U)\n",
    "Xa=X0+X\n",
    "print(\"Matriz Xa:\\n\",Xa)"
   ]
  },
  {
   "cell_type": "code",
   "execution_count": 135,
   "metadata": {
    "ExecuteTime": {
     "end_time": "2021-03-31T18:00:31.471416Z",
     "start_time": "2021-03-31T18:00:31.455767Z"
    }
   },
   "outputs": [
    {
     "data": {
      "text/plain": [
       "-7.233076544616712e-05"
      ]
     },
     "execution_count": 135,
     "metadata": {},
     "output_type": "execute_result"
    }
   ],
   "source": [
    "X.sum()"
   ]
  },
  {
   "cell_type": "code",
   "execution_count": 136,
   "metadata": {
    "ExecuteTime": {
     "end_time": "2021-03-31T18:00:38.256171Z",
     "start_time": "2021-03-31T18:00:37.716914Z"
    }
   },
   "outputs": [],
   "source": [
    "for i in range (1000) :\n",
    "    X0=Xa\n",
    "    L0=np.matrix([[(math.sqrt(((X1-X0[0][0])**2)+((Y1-X0[1][0])**2)))],\n",
    "                  [(math.sqrt(((X2-X0[0][0])**2)+((Y2-X0[1][0])**2)))],\n",
    "                  [(math.sqrt(((X3-X0[0][0])**2)+((Y3-X0[1][0])**2)))],\n",
    "                  [(math.sqrt(((X4-X0[0][0])**2)+((Y4-X0[1][0])**2)))]]);\n",
    "    A=np.zeros((4,2))\n",
    "    A[0][0]=-(X1-X0[0][0])/Lb[0][0]\n",
    "    A[0][1]=-(Y1-X0[1][0])/Lb[0][0]\n",
    "    A[1][0]=-(X2-X0[0][0])/Lb[1][0]\n",
    "    A[1][1]=-(Y2-X0[1][0])/Lb[1][0]\n",
    "    A[2][0]=-(X3-X0[0][0])/Lb[2][0]\n",
    "    A[2][1]=-(Y3-X0[1][0])/Lb[2][0]\n",
    "    A[3][0]=-(X4-X0[0][0])/Lb[3][0]\n",
    "    A[3][1]=-(Y4-X0[1][0])/Lb[3][0]\n",
    "    L=L0-Lb\n",
    "    N=np.dot(np.dot(A.T,P),A)\n",
    "    #print(\"Matriz N:\\n\",N)\n",
    "    U=np.dot(np.dot(A.T,P),L)\n",
    "    #print(\"Matriz U:\\n\",U)\n",
    "    X=-np.dot(np.linalg.inv(N),U)\n",
    "    Xa=X0+X\n",
    "    #print(\"Matriz Xa:\\n\",Xa)"
   ]
  },
  {
   "cell_type": "code",
   "execution_count": 137,
   "metadata": {
    "ExecuteTime": {
     "end_time": "2021-03-31T18:00:39.034741Z",
     "start_time": "2021-03-31T18:00:39.019209Z"
    }
   },
   "outputs": [
    {
     "data": {
      "text/plain": [
       "-1.6155081644476324e-14"
      ]
     },
     "execution_count": 137,
     "metadata": {},
     "output_type": "execute_result"
    }
   ],
   "source": [
    "X.sum()"
   ]
  },
  {
   "cell_type": "code",
   "execution_count": 138,
   "metadata": {
    "ExecuteTime": {
     "end_time": "2021-03-31T18:00:44.647622Z",
     "start_time": "2021-03-31T18:00:44.632030Z"
    }
   },
   "outputs": [
    {
     "data": {
      "text/plain": [
       "matrix([[1065.25529365],\n",
       "        [ 825.18662675]])"
      ]
     },
     "execution_count": 138,
     "metadata": {},
     "output_type": "execute_result"
    }
   ],
   "source": [
    "Xa"
   ]
  },
  {
   "cell_type": "code",
   "execution_count": null,
   "metadata": {},
   "outputs": [],
   "source": []
  }
 ],
 "metadata": {
  "kernelspec": {
   "display_name": "Python 3",
   "language": "python",
   "name": "python3"
  },
  "language_info": {
   "codemirror_mode": {
    "name": "ipython",
    "version": 3
   },
   "file_extension": ".py",
   "mimetype": "text/x-python",
   "name": "python",
   "nbconvert_exporter": "python",
   "pygments_lexer": "ipython3",
   "version": "3.7.1"
  },
  "toc": {
   "base_numbering": 1,
   "nav_menu": {},
   "number_sections": true,
   "sideBar": true,
   "skip_h1_title": false,
   "title_cell": "Table of Contents",
   "title_sidebar": "Contents",
   "toc_cell": false,
   "toc_position": {},
   "toc_section_display": true,
   "toc_window_display": false
  }
 },
 "nbformat": 4,
 "nbformat_minor": 2
}
