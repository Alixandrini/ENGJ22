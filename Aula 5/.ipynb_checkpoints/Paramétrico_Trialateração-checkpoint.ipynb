{
 "cells": [
  {
   "cell_type": "markdown",
   "metadata": {
    "id": "YKnv9OEf-B63"
   },
   "source": [
    "# AJUSTAMENTO PARAMÉTRICO\n",
    "UNIVERSIDADE FEDERAL DA BAHIA <br>\n",
    "DISCIPLINA: AJUSTAMENTO DE OBSERVAÇÕES GEODÉSICAS B <br>\n",
    "DOCENTE: MAURO ALIXANDRINI\n",
    "\n",
    "## Exercício 01\n",
    "Para determinação precisa da coordenada planimétrica de um ponto utilizando técnica topográfica de trilateração foram medidas distâncias a partir de quatro pontos com coordenadas conhecidas($\\ P_1,P_2,P_3,P_4 $\\). Foi medido adicionalmente um ângulo ($ \\alpha$\\) a partir da posição eu se deseja obter no levantamento ($\\ P$\\). Os dados são descritos conforme o croqui abaixo:\n",
    "<img src=\"https://raw.githubusercontent.com/Alixandrini/ENGJ22/main/Aula%204/ex4.png\">\n",
    "As observações constantes com suas respectivas precisões calculadas a partir da Precisão Nominal constante no equipamento utilizado são:\n",
    "\n",
    "| Observações ($\\ L_b$\\) | Distância (m) | Desvio padrão ($\\ \\sigma$\\)|\n",
    "|---------| ---------| ---------| \n",
    "|$\\ L_{b1}$ | 244.512   | 0.012 |\n",
    "|$\\ L_{b2}$ | 321.570   | 0.016 |\n",
    "|$\\ L_{b3}$ |773.154    | 0.038 |\n",
    "|$\\ L_{b4}$ |279.992    | 0.014 |\n",
    "|$\\ L_{b5}$ |123$^{\\circ}$ 38' 01.4\"| 2\" |"
   ]
  },
  {
   "cell_type": "markdown",
   "metadata": {
    "id": "YII4QBWZ-B7U"
   },
   "source": [
    "## Resolução\n",
    "Primeiro vamos entrar com os dados conhecidos, as coordenadas dos pontos e as distâncias. IMPORTANTE: o ângulo será ignorado nessa primeira resolução do exercício:"
   ]
  },
  {
   "cell_type": "markdown",
   "metadata": {
    "id": "6O6JA82RExr3"
   },
   "source": [
    "O Arquivo .csv deve conter:\n",
    "\n",
    "|   X(m)  |  Y(m)   | Distância (m) | Desvio padrão ($\\ \\sigma$\\)|\n",
    "|---------|---------| ---------| ---------| \n",
    "|842.281 | 925.523 | 244.512   | 0.012 |\n",
    "|842.281 | 925.523 | 321.570   | 0.016 |\n",
    "|842.281 | 925.523 | 773.154   | 0.038 |\n",
    "|842.281 | 925.523 | 279.992   | 0.014 |\n",
    "\n"
   ]
  },
  {
   "cell_type": "code",
   "execution_count": 70,
   "metadata": {
    "colab": {
     "base_uri": "https://localhost:8080/"
    },
    "executionInfo": {
     "elapsed": 9228,
     "status": "ok",
     "timestamp": 1649253849562,
     "user": {
      "displayName": "Mauro Alixandrini Jr",
      "userId": "14881978544774885843"
     },
     "user_tz": 180
    },
    "id": "ah2qKdTEIlTO",
    "outputId": "0968f3d2-8af8-4a28-e856-dab50bf33a93"
   },
   "outputs": [
    {
     "name": "stdout",
     "output_type": "stream",
     "text": [
      "Drive already mounted at /content/drive; to attempt to forcibly remount, call drive.mount(\"/content/drive\", force_remount=True).\n"
     ]
    }
   ],
   "source": [
    "from google.colab import drive\n",
    "drive.mount('/content/drive')"
   ]
  },
  {
   "cell_type": "code",
   "execution_count": 76,
   "metadata": {
    "colab": {
     "base_uri": "https://localhost:8080/",
     "height": 143
    },
    "executionInfo": {
     "elapsed": 316,
     "status": "ok",
     "timestamp": 1649254036710,
     "user": {
      "displayName": "Mauro Alixandrini Jr",
      "userId": "14881978544774885843"
     },
     "user_tz": 180
    },
    "id": "Q0ZLfItYG1S-",
    "outputId": "54fccdb2-bb15-4b91-bd2e-9b47ef3df0f1"
   },
   "outputs": [
    {
     "data": {
      "text/html": [
       "\n",
       "  <div id=\"df-2b236ad6-b0f6-4b75-bfbb-54c22c7e74e3\">\n",
       "    <div class=\"colab-df-container\">\n",
       "      <div>\n",
       "<style scoped>\n",
       "    .dataframe tbody tr th:only-of-type {\n",
       "        vertical-align: middle;\n",
       "    }\n",
       "\n",
       "    .dataframe tbody tr th {\n",
       "        vertical-align: top;\n",
       "    }\n",
       "\n",
       "    .dataframe thead th {\n",
       "        text-align: right;\n",
       "    }\n",
       "</style>\n",
       "<table border=\"1\" class=\"dataframe\">\n",
       "  <thead>\n",
       "    <tr style=\"text-align: right;\">\n",
       "      <th></th>\n",
       "      <th>X</th>\n",
       "      <th>\\tY</th>\n",
       "      <th>\\tDist</th>\n",
       "      <th>\\tSigma</th>\n",
       "    </tr>\n",
       "  </thead>\n",
       "  <tbody>\n",
       "    <tr>\n",
       "      <th>0</th>\n",
       "      <td>842.281</td>\n",
       "      <td>925.523</td>\n",
       "      <td>244.512</td>\n",
       "      <td>0.012</td>\n",
       "    </tr>\n",
       "    <tr>\n",
       "      <th>1</th>\n",
       "      <td>1337.544</td>\n",
       "      <td>996.249</td>\n",
       "      <td>321.570</td>\n",
       "      <td>0.016</td>\n",
       "    </tr>\n",
       "    <tr>\n",
       "      <th>2</th>\n",
       "      <td>1831.727</td>\n",
       "      <td>723.962</td>\n",
       "      <td>773.154</td>\n",
       "      <td>0.038</td>\n",
       "    </tr>\n",
       "  </tbody>\n",
       "</table>\n",
       "</div>\n",
       "      <button class=\"colab-df-convert\" onclick=\"convertToInteractive('df-2b236ad6-b0f6-4b75-bfbb-54c22c7e74e3')\"\n",
       "              title=\"Convert this dataframe to an interactive table.\"\n",
       "              style=\"display:none;\">\n",
       "        \n",
       "  <svg xmlns=\"http://www.w3.org/2000/svg\" height=\"24px\"viewBox=\"0 0 24 24\"\n",
       "       width=\"24px\">\n",
       "    <path d=\"M0 0h24v24H0V0z\" fill=\"none\"/>\n",
       "    <path d=\"M18.56 5.44l.94 2.06.94-2.06 2.06-.94-2.06-.94-.94-2.06-.94 2.06-2.06.94zm-11 1L8.5 8.5l.94-2.06 2.06-.94-2.06-.94L8.5 2.5l-.94 2.06-2.06.94zm10 10l.94 2.06.94-2.06 2.06-.94-2.06-.94-.94-2.06-.94 2.06-2.06.94z\"/><path d=\"M17.41 7.96l-1.37-1.37c-.4-.4-.92-.59-1.43-.59-.52 0-1.04.2-1.43.59L10.3 9.45l-7.72 7.72c-.78.78-.78 2.05 0 2.83L4 21.41c.39.39.9.59 1.41.59.51 0 1.02-.2 1.41-.59l7.78-7.78 2.81-2.81c.8-.78.8-2.07 0-2.86zM5.41 20L4 18.59l7.72-7.72 1.47 1.35L5.41 20z\"/>\n",
       "  </svg>\n",
       "      </button>\n",
       "      \n",
       "  <style>\n",
       "    .colab-df-container {\n",
       "      display:flex;\n",
       "      flex-wrap:wrap;\n",
       "      gap: 12px;\n",
       "    }\n",
       "\n",
       "    .colab-df-convert {\n",
       "      background-color: #E8F0FE;\n",
       "      border: none;\n",
       "      border-radius: 50%;\n",
       "      cursor: pointer;\n",
       "      display: none;\n",
       "      fill: #1967D2;\n",
       "      height: 32px;\n",
       "      padding: 0 0 0 0;\n",
       "      width: 32px;\n",
       "    }\n",
       "\n",
       "    .colab-df-convert:hover {\n",
       "      background-color: #E2EBFA;\n",
       "      box-shadow: 0px 1px 2px rgba(60, 64, 67, 0.3), 0px 1px 3px 1px rgba(60, 64, 67, 0.15);\n",
       "      fill: #174EA6;\n",
       "    }\n",
       "\n",
       "    [theme=dark] .colab-df-convert {\n",
       "      background-color: #3B4455;\n",
       "      fill: #D2E3FC;\n",
       "    }\n",
       "\n",
       "    [theme=dark] .colab-df-convert:hover {\n",
       "      background-color: #434B5C;\n",
       "      box-shadow: 0px 1px 3px 1px rgba(0, 0, 0, 0.15);\n",
       "      filter: drop-shadow(0px 1px 2px rgba(0, 0, 0, 0.3));\n",
       "      fill: #FFFFFF;\n",
       "    }\n",
       "  </style>\n",
       "\n",
       "      <script>\n",
       "        const buttonEl =\n",
       "          document.querySelector('#df-2b236ad6-b0f6-4b75-bfbb-54c22c7e74e3 button.colab-df-convert');\n",
       "        buttonEl.style.display =\n",
       "          google.colab.kernel.accessAllowed ? 'block' : 'none';\n",
       "\n",
       "        async function convertToInteractive(key) {\n",
       "          const element = document.querySelector('#df-2b236ad6-b0f6-4b75-bfbb-54c22c7e74e3');\n",
       "          const dataTable =\n",
       "            await google.colab.kernel.invokeFunction('convertToInteractive',\n",
       "                                                     [key], {});\n",
       "          if (!dataTable) return;\n",
       "\n",
       "          const docLinkHtml = 'Like what you see? Visit the ' +\n",
       "            '<a target=\"_blank\" href=https://colab.research.google.com/notebooks/data_table.ipynb>data table notebook</a>'\n",
       "            + ' to learn more about interactive tables.';\n",
       "          element.innerHTML = '';\n",
       "          dataTable['output_type'] = 'display_data';\n",
       "          await google.colab.output.renderOutput(dataTable, element);\n",
       "          const docLink = document.createElement('div');\n",
       "          docLink.innerHTML = docLinkHtml;\n",
       "          element.appendChild(docLink);\n",
       "        }\n",
       "      </script>\n",
       "    </div>\n",
       "  </div>\n",
       "  "
      ],
      "text/plain": [
       "          X      \\tY   \\tDist   \\tSigma\n",
       "0   842.281  925.523  244.512     0.012\n",
       "1  1337.544  996.249  321.570     0.016\n",
       "2  1831.727  723.962  773.154     0.038"
      ]
     },
     "execution_count": 76,
     "metadata": {},
     "output_type": "execute_result"
    }
   ],
   "source": [
    "import numpy as np\n",
    "import pandas as pd\n",
    "import math\n",
    "#d={'X': [842.281, 1337.544,1831.727,840.408], 'Y': [925.523, 996.249,723.962,658.345], 'Dist':[244.512,321.570,773.154,279.992], 'Sigma':[0.012,0.016,0.038,0.014]}\n",
    "#df = pd.DataFrame(data=d)\n",
    "df=pd.read_csv('/content/drive/My Drive/Colab Notebooks/dados_triangulacao.csv', sep=';')\n",
    "\n",
    "df\n",
    "#rodando localmente podemos usar o comando:\n",
    "#pandas.read_csv(filepath_or_buffer, sep='; ')\n",
    "#para criar um dataframe pandas"
   ]
  },
  {
   "cell_type": "markdown",
   "metadata": {
    "id": "_gG161hz-B7u"
   },
   "source": [
    "Por último a matriz A que é resultado da derivada primeira das equações do nosso sistema em relação ao parâmetro ($\\ X_{Pa}, Y_{Pa}$).\n",
    "\n",
    "\\begin{equation}\n",
    "\\frac{\\partial L_{a1}}{\\partial X_{pa}}=-\\frac {X_1-X_{pa}}{L_{a1}}\\\\\n",
    "\\frac{\\partial L_{a1}}{\\partial Y_{pa}}=-\\frac {Y_1-Y_{pa}}{L_{a1}}\\\\\n",
    "\\frac{\\partial L_{a2}}{\\partial X_{pa}}=-\\frac {X_2-X_{pa}}{L_{a2}}\\\\\n",
    "\\frac{\\partial L_{a2}}{\\partial X_{pa}}=-\\frac {Y_2-Y_{pa}}{L_{a2}}\\\\\n",
    "\\frac{\\partial L_{a3}}{\\partial X_{pa}}=-\\frac {X_3-X_{pa}}{L_{a3}}\\\\\n",
    "\\frac{\\partial L_{a3}}{\\partial X_{pa}}=-\\frac {Y_3-Y_{pa}}{L_{a2}}\\\\\n",
    "\\frac{\\partial L_{a4}}{\\partial X_{pa}}=-\\frac {X_4-X_{pa}}{L_{a4}}\\\\\n",
    "\\frac{\\partial L_{a4}}{\\partial X_{pa}}=-\\frac {Y_4-X_{pa}}{L_{a4}}\\\\\n",
    "\\end{equation}\n",
    "\n",
    "Lembrando que o modelo matemático e as derivadas fazem menção aos valores ajustados enquanto no calculo do ajustamento utilizaremos os valores de $\\ L_b, X_0 $ para obstermos valores númericos para a matriz A."
   ]
  },
  {
   "cell_type": "markdown",
   "metadata": {
    "id": "EkBfUpqE-B7n"
   },
   "source": [
    "Agoram vamos voltar ao método paramétrico($\\ L_a=F(X_a)$), e lembrar que a condição para usa-lo é obster um sistema de equações onde possamos separar as observações (distâncias e o ângulo nesse caso) dos nossos parâmetros ( Coordenadas do ponto P ($\\ X_P, Y_P$).\n",
    "Podemos utilizar a equação da distância entre dois pontos:\n",
    "\\begin{equation}\n",
    "D=\\sqrt[2]{(X_1-X_2)^2+(Y_1-Y_2)^2}\n",
    "\\end{equation}\n",
    "\n",
    "\n",
    "Assim o sistema de equações do nosso modelo funcional para a resolução do método paramétrico\n",
    "fica o seguinte:\n",
    "\n",
    "\\begin{equation}\n",
    "L_{b1}+\\nu_1=\\sqrt[2]{(X_1-X_p)^2+(Y_1-Y_p)^2} \\\\\n",
    "L_{b2}+\\nu_2=\\sqrt[2]{(X_2-X_p)^2+(Y_2-Y_p)^2} \\\\\n",
    "L_{b3}+\\nu_3=\\sqrt[2]{(X_3-X_p)^2+(Y_3-Y_p)^2} \\\\\n",
    "L_{b4}+\\nu_4=\\sqrt[2]{(X_4-X_p)^2+(Y_4-Y_p)^2} \n",
    "\\end{equation}\n",
    "\n",
    "Agora temos que montar as matrizes necessárias a resolução do sistema de equações normais:\n",
    "\\begin{equation}\n",
    "N=A^tPA \\\\\n",
    "U=A^tPL\\\\\n",
    "L=L_0-L_b\\\\\n",
    "X=-N^{-1}U\\\\\n",
    "X_a=X_0+X\\\\\n",
    "\\end{equation}\n",
    "Na ordem precisaremos montar a partir dos dados as matrizes $\\ L_b,P,L_0,X_0,A $."
   ]
  },
  {
   "cell_type": "code",
   "execution_count": 77,
   "metadata": {
    "executionInfo": {
     "elapsed": 283,
     "status": "ok",
     "timestamp": 1649254048314,
     "user": {
      "displayName": "Mauro Alixandrini Jr",
      "userId": "14881978544774885843"
     },
     "user_tz": 180
    },
    "id": "ro47nqDiwx4k"
   },
   "outputs": [],
   "source": [
    "\n",
    "#não podemos fugir da estimação dos parametros:\n",
    "x0=1065;\n",
    "y0=825;\n",
    "X0=np.matrix ([[x0],[y0]]);\n",
    "\n",
    "#A partir desse data frame criar as matrizes P, Lb, XY, L0 e A com looping\n",
    "Dados=df.to_numpy()\n",
    "n=int(Dados.size/4)\n",
    "m=2 #numero de parametros\n",
    "P=np.zeros((n,n))\n",
    "Lb=np.zeros((n,1))\n",
    "XY=np.zeros((n,2))\n",
    "L0=np.zeros((n,1))\n",
    "A=np.zeros((n,m))\n",
    "for i in range(n):\n",
    "  P[i,i]=Dados[i,3]\n",
    "  Lb[i,0]=Dados[i,2]\n",
    "  XY[i,0]=Dados[i,0]\n",
    "  XY[i,1]=Dados[i,1]\n",
    "  L0[i,0]=math.sqrt(((XY[i,0]-X0[0,0])**2)+((XY[i,1]-X0[1,0])**2))\n",
    "  A[i,0]=-(XY[i,0]-X0[0,0])/Lb[i,0]\n",
    "  A[i,1]=-(XY[i,1]-X0[1,0])/Lb[i,0]\n",
    "\n",
    "#Verificação\n",
    "#print(P,'\\n \\n', Lb,'\\n \\n', A,'\\n \\n',L0)"
   ]
  },
  {
   "cell_type": "code",
   "execution_count": 78,
   "metadata": {
    "executionInfo": {
     "elapsed": 312,
     "status": "ok",
     "timestamp": 1649254051426,
     "user": {
      "displayName": "Mauro Alixandrini Jr",
      "userId": "14881978544774885843"
     },
     "user_tz": 180
    },
    "id": "dyxIrfIK7wia"
   },
   "outputs": [],
   "source": [
    "#aplicando as operações matriciais com o sistema de equações normais obtemos:\n",
    "L=L0-Lb\n",
    "N=np.dot(np.dot(A.T,P),A)\n",
    "#print(\"Matriz N:\\n\",N)\n",
    "U=np.dot(np.dot(A.T,P),L)\n",
    "#print(\"Matriz U:\\n\",U)\n",
    "X=-np.dot(np.linalg.inv(N),U)\n",
    "Xa=X0+X\n",
    "#print(\"Matriz Xa:\\n\",Xa)"
   ]
  },
  {
   "cell_type": "markdown",
   "metadata": {
    "id": "FRGo-_8u-B7x"
   },
   "source": [
    "# Processo Iterativo do Método Paramétrico"
   ]
  },
  {
   "cell_type": "code",
   "execution_count": 79,
   "metadata": {
    "colab": {
     "base_uri": "https://localhost:8080/"
    },
    "executionInfo": {
     "elapsed": 299,
     "status": "ok",
     "timestamp": 1649254054120,
     "user": {
      "displayName": "Mauro Alixandrini Jr",
      "userId": "14881978544774885843"
     },
     "user_tz": 180
    },
    "id": "hR5A-IiU8B0Z",
    "outputId": "ca8331cd-2bf4-4687-f9eb-f3f4ecc192b3"
   },
   "outputs": [
    {
     "name": "stdout",
     "output_type": "stream",
     "text": [
      "3\n"
     ]
    }
   ],
   "source": [
    "limiar = 0.000001\n",
    "i = 0\n",
    "while X.sum() > limiar :\n",
    "    #i fará a contagem dos loopings\n",
    "    X0=Xa\n",
    "    for j in range(n):\n",
    "        L0[j,0]=math.sqrt(((XY[i,0]-X0[0,0])**2)+((XY[i,1]-X0[1,0])**2))\n",
    "        A[j,0]=-(XY[i,0]-X0[0,0])/Lb[i,0]\n",
    "        A[j,1]=-(XY[i,1]-X0[1,0])/Lb[i,0]\n",
    "    L=L0-Lb\n",
    "    N=np.dot(np.dot(A.T,P),A)\n",
    "    #print(\"Matriz N:\\n\",N)\n",
    "    U=np.dot(np.dot(A.T,P),L)\n",
    "    #print(\"Matriz U:\\n\",U\n",
    "    X=-np.dot(np.linalg.inv(N),U)\n",
    "    Xa=X0+X\n",
    "    #print(\"Matriz Xa:\\n\",Xa)\n",
    "    i+=1\n",
    "\n",
    "print(i)"
   ]
  },
  {
   "cell_type": "code",
   "execution_count": 80,
   "metadata": {
    "ExecuteTime": {
     "end_time": "2021-03-31T18:00:44.647622Z",
     "start_time": "2021-03-31T18:00:44.632030Z"
    },
    "colab": {
     "base_uri": "https://localhost:8080/"
    },
    "executionInfo": {
     "elapsed": 427,
     "status": "ok",
     "timestamp": 1649254057137,
     "user": {
      "displayName": "Mauro Alixandrini Jr",
      "userId": "14881978544774885843"
     },
     "user_tz": 180
    },
    "id": "t2n3tUKs-B76",
    "outputId": "4fb1e5d6-73cc-471c-b173-58d48b8fc263"
   },
   "outputs": [
    {
     "data": {
      "text/plain": [
       "matrix([[1065.23723747],\n",
       "        [ 825.19111642]])"
      ]
     },
     "execution_count": 80,
     "metadata": {},
     "output_type": "execute_result"
    }
   ],
   "source": [
    "Xa"
   ]
  },
  {
   "cell_type": "code",
   "execution_count": null,
   "metadata": {
    "id": "glXSTfWS-B76"
   },
   "outputs": [],
   "source": []
  }
 ],
 "metadata": {
  "colab": {
   "name": "Paramétrico_Triangulação.ipynb",
   "provenance": [
    {
     "file_id": "https://github.com/Alixandrini/ENGJ22/blob/main/Aula%204/exerc_simplif_aula4.ipynb",
     "timestamp": 1649183049717
    }
   ]
  },
  "kernelspec": {
   "display_name": "Python 3 (ipykernel)",
   "language": "python",
   "name": "python3"
  },
  "language_info": {
   "codemirror_mode": {
    "name": "ipython",
    "version": 3
   },
   "file_extension": ".py",
   "mimetype": "text/x-python",
   "name": "python",
   "nbconvert_exporter": "python",
   "pygments_lexer": "ipython3",
   "version": "3.9.12"
  },
  "toc": {
   "base_numbering": 1,
   "nav_menu": {},
   "number_sections": true,
   "sideBar": true,
   "skip_h1_title": false,
   "title_cell": "Table of Contents",
   "title_sidebar": "Contents",
   "toc_cell": false,
   "toc_position": {},
   "toc_section_display": true,
   "toc_window_display": false
  }
 },
 "nbformat": 4,
 "nbformat_minor": 1
}
