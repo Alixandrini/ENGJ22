{
  "nbformat": 4,
  "nbformat_minor": 0,
  "metadata": {
    "colab": {
      "name": "Exercícios Correlato.ipynb",
      "provenance": [],
      "collapsed_sections": [],
      "authorship_tag": "ABX9TyMpNkbezwnFrQ7Pt+KNEfZ7",
      "include_colab_link": true
    },
    "kernelspec": {
      "name": "python3",
      "display_name": "Python 3"
    },
    "language_info": {
      "name": "python"
    }
  },
  "cells": [
    {
      "cell_type": "markdown",
      "metadata": {
        "id": "view-in-github",
        "colab_type": "text"
      },
      "source": [
        "<a href=\"https://colab.research.google.com/github/Alixandrini/ENGJ22/blob/main/Aula%207/Exerc%C3%ADcios_Correlato.ipynb\" target=\"_parent\"><img src=\"https://colab.research.google.com/assets/colab-badge.svg\" alt=\"Open In Colab\"/></a>"
      ]
    },
    {
      "cell_type": "markdown",
      "source": [
        "#Exercícos Ajustamento Correlato"
      ],
      "metadata": {
        "id": "8u2XcAXwB1aJ"
      }
    },
    {
      "cell_type": "markdown",
      "metadata": {
        "id": "YKnv9OEf-B63"
      },
      "source": [
        "## Exercício 01\n",
        "Ajustamento de uma rede de nivelamento. São conhecidas as altitudes dos pontos A, B e C.\n",
        "Determinar as altitudes dos pontos I, II, III, IV e V. As setas do esquema indicam o sentido em\n",
        "que o terreno se eleva. No quadro a seguir estão as observações e o esquema gráfico:\n",
        "\n",
        "<img src=\"https://raw.githubusercontent.com/Alixandrini/ENGJ22/main/Aula%206/rede_ex1.png\">\n",
        "\n",
        "Altitudes conhecias: hA = 33,831m hB = 19,316m hC = 2,791m\n",
        "Usar pesos inversamente proporcionais ao comprimento da linha nivelada.\n",
        "\n",
        "| Linha | $\\ \\Delta$h (m) | Comprimento(km)|\n",
        "|---------| ---------| ---------| \n",
        "| 1       | 10,038   |     1,14 |\n",
        "| 2       |  8,297   |     2,84 |\n",
        "| 3       |  1,949   |     3,21 |\n",
        "| 4       |  5,217   |     6,03 |\n",
        "| 5       | 10,244   |     6,75 |\n",
        "| 6       |  1,562   |     0,84 |\n",
        "| 7       |  4,837   |     2,94 |\n",
        "| 8       |  3,370   |     2,01 |\n",
        "| 9       | 15,979   |     5,28 |"
      ]
    },
    {
      "cell_type": "markdown",
      "source": [
        "###Resolução:\n",
        "Vamos construir nosso sistema de equações:\n",
        "\\begin{equation}\n",
        "l_{1a}+l_{2a}+l_{6a}-l_{8a}-(h_{B}-h_{C})=0 \\\\\n",
        "-l_{9a}+l_{7a}-l_{8a}-(h_{B}-h_{A})=0 \\\\\n",
        "l_{2a}+l_{3a}-l_{5a}=0 \\\\\n",
        "l_{3a}-l_{4a}+l_{7a}-l_{6a} =0 \\\\\n",
        "\\end{equation}"
      ],
      "metadata": {
        "id": "NW6CK9YtGIM3"
      }
    },
    {
      "cell_type": "code",
      "execution_count": null,
      "metadata": {
        "id": "Ig9LiXd0B0bE"
      },
      "outputs": [],
      "source": [
        "import numpy as np\n",
        "ha=33.831;\n",
        "hb=19.316;\n",
        "hc=2.791;\n",
        "Lb=np.matrix ([[10.038],[8.297],[1.949],[5.217],[10.244],[1.562],[4.837],[3.370],[15.979]]);\n",
        "P=np.zeros((9,9))\n",
        "P[0,0]=1.14**-1\n",
        "P[1,1]=2.84**-1\n",
        "P[2,2]=3.21**-1\n",
        "P[3,3]=6.03**-1\n",
        "P[4,4]=6.75**-1\n",
        "P[5,5]=0.84**-1\n",
        "P[6,6]=2.94**-1\n",
        "P[7,7]=2.01**-1\n",
        "P[8,8]=5.28**-1\n",
        "B=np.matrix([[1,1,0,0,0,1,0,-1,0],\n",
        "             [0,0,0,0,0,0,1,-1,-1],\n",
        "             [0,1,1,0,-1,0,0,0,0],\n",
        "             [0,0,1,-1,0,-1,1,0,0]]);\n",
        "\n",
        "W=np.matrix([[(Lb[0,0]+Lb[1,0]+Lb[5,0]-Lb[7,0]-(hb-hc))],\n",
        "             [(-Lb[8,0]+Lb[6,0]-Lb[7,0]-(hb-ha))],\n",
        "             [(Lb[1,0]+Lb[2,0]-Lb[4,0])],\n",
        "             [(Lb[2,0]-Lb[3,0]+Lb[6,0]-Lb[5,0])]]);"
      ]
    },
    {
      "cell_type": "markdown",
      "source": [
        "### Sistema de equacões normais para o método Correlato"
      ],
      "metadata": {
        "id": "5GFT62fMRzJu"
      }
    },
    {
      "cell_type": "code",
      "source": [
        "M=np.dot(np.dot(B,np.linalg.inv(P)),B.T)\n",
        "K=np.dot(-np.linalg.inv(M),W)\n",
        "V=np.dot(np.dot(np.linalg.inv(P),B.T),K)\n",
        "La=Lb+V\n",
        "La"
      ],
      "metadata": {
        "colab": {
          "base_uri": "https://localhost:8080/"
        },
        "id": "YUGjYbWfRwRU",
        "outputId": "54fa10f0-890d-4562-b0e6-86d4519a3b81"
      },
      "execution_count": null,
      "outputs": [
        {
          "output_type": "execute_result",
          "data": {
            "text/plain": [
              "matrix([[10.03757348],\n",
              "        [ 8.29613241],\n",
              "        [ 1.94740417],\n",
              "        [ 5.22041175],\n",
              "        [10.24353658],\n",
              "        [ 1.56216099],\n",
              "        [ 4.83516857],\n",
              "        [ 3.37086688],\n",
              "        [15.97930169]])"
            ]
          },
          "metadata": {},
          "execution_count": 30
        }
      ]
    },
    {
      "cell_type": "code",
      "source": [
        "#conferindo o resultado\n",
        "Lb=La\n",
        "W=np.matrix([[(Lb[0,0]+Lb[1,0]+Lb[5,0]-Lb[7,0]-(hb-hc))],\n",
        "             [(-Lb[8,0]+Lb[6,0]-Lb[7,0]-(hb-ha))],\n",
        "             [(Lb[1,0]+Lb[2,0]-Lb[4,0])],\n",
        "             [(Lb[2,0]-Lb[3,0]+Lb[6,0]-Lb[5,0])]]);\n",
        "W\n",
        "#W tem que ter valores nulos"
      ],
      "metadata": {
        "colab": {
          "base_uri": "https://localhost:8080/"
        },
        "id": "guLtwhu2Ux9Z",
        "outputId": "72b3c741-8caa-490b-b9d1-e5168f07f3d2"
      },
      "execution_count": null,
      "outputs": [
        {
          "output_type": "execute_result",
          "data": {
            "text/plain": [
              "matrix([[3.55271368e-15],\n",
              "        [0.00000000e+00],\n",
              "        [0.00000000e+00],\n",
              "        [4.44089210e-16]])"
            ]
          },
          "metadata": {},
          "execution_count": 31
        }
      ]
    },
    {
      "cell_type": "code",
      "source": [
        ""
      ],
      "metadata": {
        "colab": {
          "base_uri": "https://localhost:8080/"
        },
        "id": "5yRzHhspVSLI",
        "outputId": "49fa84e6-c712-4cac-cd75-56fc0598890f"
      },
      "execution_count": null,
      "outputs": [
        {
          "output_type": "execute_result",
          "data": {
            "text/plain": [
              "matrix([[0.002],\n",
              "        [0.003],\n",
              "        [0.002],\n",
              "        [0.007]])"
            ]
          },
          "metadata": {},
          "execution_count": 19
        }
      ]
    },
    {
      "cell_type": "markdown",
      "source": [
        "## Exercício 2\n",
        "A medida de uma pequena base conduziu ao valor: l1 201,71m . Numa segunda experiência a base foi decomposta em duas e ambas medidas com o seguinte resultado: l2 75,81m e l3 125,22m. Na terceira experiência, idêntica a segunda, obteve-se: l4 100,03m e l5 100,76 m . Ajustar pelo método dos correlatos:"
      ],
      "metadata": {
        "id": "2P0ZlfvEYI3k"
      }
    },
    {
      "cell_type": "markdown",
      "source": [
        "###resolução:\n",
        "Criar nosso sistema de equações:\n",
        "\\begin{equation}\n",
        "l_{1a}-l_{2a}-l_{3a}=0 \\\\\n",
        "l_{1a}-l_{4a}-l_{5a}=0 \\\\\n",
        "\\end{equation}"
      ],
      "metadata": {
        "id": "0XucgvvzYiv-"
      }
    },
    {
      "cell_type": "code",
      "source": [
        "Lb=np.matrix([[201.71],[75.81],[125.22],[100.03],[100.76]]);\n",
        "P=np.eye(5,5)\n",
        "B=np.matrix([[1,-1,-1,0,0],\n",
        "             [1,0,0,-1,-1]]);\n",
        "W=np.matrix([[Lb[0,0]-Lb[1,0]-Lb[2,0]],\n",
        "             [Lb[0,0]-Lb[3,0]-Lb[4,0]]]);\n"
      ],
      "metadata": {
        "id": "Kzu_Ug5tYgMN"
      },
      "execution_count": null,
      "outputs": []
    },
    {
      "cell_type": "markdown",
      "source": [
        "###Sistema de Equações normais"
      ],
      "metadata": {
        "id": "JxDtpxXjbRML"
      }
    },
    {
      "cell_type": "code",
      "source": [
        "M=np.dot(np.dot(B,np.linalg.inv(P)),B.T)\n",
        "K=np.dot(-np.linalg.inv(M),W)\n",
        "V=np.dot(np.dot(np.linalg.inv(P),B.T),K)\n",
        "La=Lb+V\n",
        "La"
      ],
      "metadata": {
        "colab": {
          "base_uri": "https://localhost:8080/"
        },
        "outputId": "a997cdfd-86cf-4f8f-f9a2-779c0ee2723f",
        "id": "3IMFLdrjbV9N"
      },
      "execution_count": null,
      "outputs": [
        {
          "output_type": "execute_result",
          "data": {
            "text/plain": [
              "matrix([[201.31],\n",
              "        [ 75.95],\n",
              "        [125.36],\n",
              "        [100.29],\n",
              "        [101.02]])"
            ]
          },
          "metadata": {},
          "execution_count": 33
        }
      ]
    },
    {
      "cell_type": "code",
      "source": [
        "#conferindo o resultado\n",
        "Lb=La\n",
        "W=np.matrix([[Lb[0,0]-Lb[1,0]-Lb[2,0]],\n",
        "             [Lb[0,0]-Lb[3,0]-Lb[4,0]]]);\n",
        "W\n",
        "#W tem que ter valores nulos"
      ],
      "metadata": {
        "colab": {
          "base_uri": "https://localhost:8080/"
        },
        "id": "qAqT8gl9bezq",
        "outputId": "df941502-ffc9-4e9b-e3e7-afaec8d73bb7"
      },
      "execution_count": null,
      "outputs": [
        {
          "output_type": "execute_result",
          "data": {
            "text/plain": [
              "matrix([[ 0.00000000e+00],\n",
              "        [-1.42108547e-14]])"
            ]
          },
          "metadata": {},
          "execution_count": 34
        }
      ]
    }
  ]
}